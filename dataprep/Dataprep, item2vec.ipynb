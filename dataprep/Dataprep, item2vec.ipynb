{
 "cells": [
  {
   "cell_type": "code",
   "execution_count": 3,
   "metadata": {},
   "outputs": [
    {
     "data": {
      "application/vnd.jupyter.widget-view+json": {
       "model_id": "d6c1be07a27d420999cb96b8e7833372",
       "version_major": 2,
       "version_minor": 0
      },
      "text/plain": [
       "HBox(children=(IntProgress(value=1, bar_style='info', max=1), HTML(value='')))"
      ]
     },
     "metadata": {},
     "output_type": "display_data"
    },
    {
     "name": "stdout",
     "output_type": "stream",
     "text": [
      "\n"
     ]
    },
    {
     "name": "stderr",
     "output_type": "stream",
     "text": [
      "Using TensorFlow backend.\n"
     ]
    },
    {
     "name": "stdout",
     "output_type": "stream",
     "text": [
      "exjobb data prepare loading...   \n",
      "data loaded ....\n"
     ]
    }
   ],
   "source": [
    "from exjobb_data import *\n"
   ]
  },
  {
   "cell_type": "code",
   "execution_count": 4,
   "metadata": {},
   "outputs": [],
   "source": [
    "item2vec_data = pd.read_pickle('/home/rocket/dev/jupyter/datasets/item2vec_dataset.pkl')"
   ]
  },
  {
   "cell_type": "code",
   "execution_count": 5,
   "metadata": {},
   "outputs": [],
   "source": [
    "train_contexts = item2vec_data[0]"
   ]
  },
  {
   "cell_type": "code",
   "execution_count": 6,
   "metadata": {},
   "outputs": [],
   "source": [
    "test_contexts = item2vec_data[1]"
   ]
  },
  {
   "cell_type": "code",
   "execution_count": 7,
   "metadata": {},
   "outputs": [],
   "source": [
    "train_vehicles =  item2vec_data[2]"
   ]
  },
  {
   "cell_type": "code",
   "execution_count": 8,
   "metadata": {},
   "outputs": [],
   "source": [
    "test_vehicles = item2vec_data[3]"
   ]
  },
  {
   "cell_type": "code",
   "execution_count": 9,
   "metadata": {},
   "outputs": [
    {
     "data": {
      "text/plain": [
       "['__PNO12__246_68_R5_C',\n",
       " '__OPT__201924668R5C001050',\n",
       " '__UPH__201924668R5CRB0R00',\n",
       " '__COL__201924668R5C71700']"
      ]
     },
     "execution_count": 9,
     "metadata": {},
     "output_type": "execute_result"
    }
   ],
   "source": [
    "train_vehicles[0]"
   ]
  },
  {
   "cell_type": "code",
   "execution_count": 10,
   "metadata": {},
   "outputs": [],
   "source": [
    "#import exjobb_data\n",
    "#from importlib import reload\n",
    "#reload(exjobb_data)"
   ]
  },
  {
   "cell_type": "code",
   "execution_count": 11,
   "metadata": {},
   "outputs": [],
   "source": [
    "solver = SolverData()"
   ]
  },
  {
   "cell_type": "code",
   "execution_count": 12,
   "metadata": {},
   "outputs": [],
   "source": [
    "ct,eng,sv,gb = solver.parse_pno12_str(train_vehicles[0][0])"
   ]
  },
  {
   "cell_type": "code",
   "execution_count": 13,
   "metadata": {},
   "outputs": [
    {
     "data": {
      "application/vnd.jupyter.widget-view+json": {
       "model_id": "66df1ad0c8aa44d9b1285a48e973b228",
       "version_major": 2,
       "version_minor": 0
      },
      "text/plain": [
       "HBox(children=(IntProgress(value=0, max=36327), HTML(value='')))"
      ]
     },
     "metadata": {},
     "output_type": "display_data"
    },
    {
     "name": "stdout",
     "output_type": "stream",
     "text": [
      "\n"
     ]
    }
   ],
   "source": [
    "train_vehicles_resolved = [solver.resolve_solved_items(x) for x in tqdm_notebook(train_vehicles)]"
   ]
  },
  {
   "cell_type": "code",
   "execution_count": 14,
   "metadata": {},
   "outputs": [
    {
     "data": {
      "application/vnd.jupyter.widget-view+json": {
       "model_id": "7c8ad9dec85a4a42bd18b57d9b1b7b75",
       "version_major": 2,
       "version_minor": 0
      },
      "text/plain": [
       "HBox(children=(IntProgress(value=0, max=9082), HTML(value='')))"
      ]
     },
     "metadata": {},
     "output_type": "display_data"
    },
    {
     "name": "stdout",
     "output_type": "stream",
     "text": [
      "\n"
     ]
    }
   ],
   "source": [
    "test_vehicles_resolved = [solver.resolve_solved_items(x) for x in tqdm_notebook(test_vehicles)]"
   ]
  },
  {
   "cell_type": "code",
   "execution_count": 15,
   "metadata": {},
   "outputs": [],
   "source": [
    "with open('CarBinarizer', 'rb') as f:\n",
    "    cb = pickle.load(f)\n",
    "with open('VolvoStats', 'rb') as f:\n",
    "    stats = pickle.load(f)"
   ]
  },
  {
   "cell_type": "code",
   "execution_count": 16,
   "metadata": {},
   "outputs": [],
   "source": [
    "types = ['CAR_TYPE','ENGINE','SALES_VERSION','GEARBOX','COL','UPH','OPT']\n",
    "types_df = ['TYPECODE','ENGINECODE','SALESVERSIONCODE','GEARBOXCODE','COLOUR','UPHOLSTERY','OPT_CODES']"
   ]
  },
  {
   "cell_type": "code",
   "execution_count": 17,
   "metadata": {},
   "outputs": [],
   "source": [
    "def get_data(cars,onehot=True):\n",
    "    \n",
    "    result = [[],[],[],[],[],[],[]]\n",
    "    for car in tqdm_notebook(cars):\n",
    "        for t_idx in range(len(types)):\n",
    "            if onehot:\n",
    "                result[t_idx] += [cb.types_binarizer[types[t_idx]].transform([car[t_idx]])]\n",
    "            else:\n",
    "                result[t_idx] += [car[t_idx]]\n",
    "                \n",
    "    return result\n",
    "        "
   ]
  },
  {
   "cell_type": "code",
   "execution_count": 18,
   "metadata": {},
   "outputs": [
    {
     "data": {
      "application/vnd.jupyter.widget-view+json": {
       "model_id": "560795ffdeb044dbba29bd14f4390bcc",
       "version_major": 2,
       "version_minor": 0
      },
      "text/plain": [
       "HBox(children=(IntProgress(value=0, max=36327), HTML(value='')))"
      ]
     },
     "metadata": {},
     "output_type": "display_data"
    },
    {
     "name": "stdout",
     "output_type": "stream",
     "text": [
      "\n"
     ]
    }
   ],
   "source": [
    "train_vehicles_oh = get_data(train_vehicles_resolved)\n"
   ]
  },
  {
   "cell_type": "code",
   "execution_count": 19,
   "metadata": {},
   "outputs": [
    {
     "data": {
      "application/vnd.jupyter.widget-view+json": {
       "model_id": "e14b79ae83114a4481e220322a9f6f0d",
       "version_major": 2,
       "version_minor": 0
      },
      "text/plain": [
       "HBox(children=(IntProgress(value=0, max=36327), HTML(value='')))"
      ]
     },
     "metadata": {},
     "output_type": "display_data"
    },
    {
     "name": "stdout",
     "output_type": "stream",
     "text": [
      "\n"
     ]
    },
    {
     "data": {
      "application/vnd.jupyter.widget-view+json": {
       "model_id": "46d9303a02254f4482f3c02a3f772282",
       "version_major": 2,
       "version_minor": 0
      },
      "text/plain": [
       "HBox(children=(IntProgress(value=0, max=9082), HTML(value='')))"
      ]
     },
     "metadata": {},
     "output_type": "display_data"
    },
    {
     "name": "stdout",
     "output_type": "stream",
     "text": [
      "\n"
     ]
    }
   ],
   "source": [
    "train_vehicles_mapped = get_data(train_vehicles_resolved,False)\n",
    "test_vehicles_mapped = get_data(test_vehicles_resolved,False)"
   ]
  },
  {
   "cell_type": "code",
   "execution_count": null,
   "metadata": {},
   "outputs": [],
   "source": []
  },
  {
   "cell_type": "code",
   "execution_count": 20,
   "metadata": {},
   "outputs": [
    {
     "data": {
      "application/vnd.jupyter.widget-view+json": {
       "model_id": "cea18625fb204d3c90e69fac5d624585",
       "version_major": 2,
       "version_minor": 0
      },
      "text/plain": [
       "HBox(children=(IntProgress(value=0, max=9082), HTML(value='')))"
      ]
     },
     "metadata": {},
     "output_type": "display_data"
    },
    {
     "name": "stdout",
     "output_type": "stream",
     "text": [
      "\n"
     ]
    }
   ],
   "source": [
    "test_vehicles_oh = get_data(test_vehicles_resolved)"
   ]
  },
  {
   "cell_type": "code",
   "execution_count": 21,
   "metadata": {},
   "outputs": [
    {
     "data": {
      "text/plain": [
       "['TYPECODE_onehot',\n",
       " 'ENGINECODE_onehot',\n",
       " 'SALESVERSIONCODE_onehot',\n",
       " 'GEARBOXCODE_onehot',\n",
       " 'COLOUR_onehot',\n",
       " 'UPHOLSTERY_onehot',\n",
       " 'OPT_CODES_onehot']"
      ]
     },
     "execution_count": 21,
     "metadata": {},
     "output_type": "execute_result"
    }
   ],
   "source": [
    "[f'{x}_onehot' for x in types_df]"
   ]
  },
  {
   "cell_type": "code",
   "execution_count": 22,
   "metadata": {},
   "outputs": [],
   "source": [
    "train_vehicles_df = pd.DataFrame([pd.Series(x) for x in train_vehicles_oh]).T\n",
    "train_vehicles_mapped_df = pd.DataFrame([pd.Series(x) for x in train_vehicles_mapped]).T\n",
    "train_vehicles_df.columns = [f'{x}_onehot' for x in types_df]\n",
    "train_vehicles_mapped_df.columns = [f'{x}_translated' for x in types_df]"
   ]
  },
  {
   "cell_type": "code",
   "execution_count": 23,
   "metadata": {},
   "outputs": [],
   "source": [
    "test_vehicles_df = pd.DataFrame([pd.Series(x) for x in test_vehicles_oh]).T\n",
    "test_vehicles_mapped_df = pd.DataFrame([pd.Series(x) for x in test_vehicles_mapped]).T\n",
    "\n",
    "test_vehicles_df.columns = [f'{x}_onehot' for x in types_df]\n",
    "test_vehicles_mapped_df.columns = [f'{x}_translated' for x in types_df]"
   ]
  },
  {
   "cell_type": "code",
   "execution_count": 24,
   "metadata": {},
   "outputs": [],
   "source": [
    "train_context = pd.DataFrame(train_contexts,columns=user_columns)"
   ]
  },
  {
   "cell_type": "code",
   "execution_count": 25,
   "metadata": {},
   "outputs": [],
   "source": [
    "test_context = pd.DataFrame(test_contexts,columns=user_columns)"
   ]
  },
  {
   "cell_type": "code",
   "execution_count": 26,
   "metadata": {},
   "outputs": [],
   "source": [
    "train = train_context.merge(train_vehicles_df, left_index=True, right_index=True)\n",
    "train = train.merge(train_vehicles_mapped_df, left_index=True, right_index=True)"
   ]
  },
  {
   "cell_type": "code",
   "execution_count": 27,
   "metadata": {},
   "outputs": [
    {
     "data": {
      "text/plain": [
       "Index(['TYPECODE_onehot', 'ENGINECODE_onehot', 'SALESVERSIONCODE_onehot',\n",
       "       'GEARBOXCODE_onehot', 'COLOUR_onehot', 'UPHOLSTERY_onehot',\n",
       "       'OPT_CODES_onehot'],\n",
       "      dtype='object')"
      ]
     },
     "execution_count": 27,
     "metadata": {},
     "output_type": "execute_result"
    }
   ],
   "source": [
    "test_vehicles_df.columns"
   ]
  },
  {
   "cell_type": "code",
   "execution_count": 28,
   "metadata": {},
   "outputs": [],
   "source": [
    "test = test_context.merge(test_vehicles_df, left_index=True, right_index=True)\n",
    "test = test.merge(test_vehicles_mapped_df, left_index=True, right_index=True)"
   ]
  },
  {
   "cell_type": "code",
   "execution_count": 29,
   "metadata": {},
   "outputs": [],
   "source": [
    "train.to_pickle('train_2.pickle')"
   ]
  },
  {
   "cell_type": "code",
   "execution_count": 30,
   "metadata": {},
   "outputs": [],
   "source": [
    "test.to_pickle('test_2.pickle')"
   ]
  },
  {
   "cell_type": "code",
   "execution_count": 31,
   "metadata": {},
   "outputs": [
    {
     "data": {
      "text/plain": [
       "(36327, 68)"
      ]
     },
     "execution_count": 31,
     "metadata": {},
     "output_type": "execute_result"
    }
   ],
   "source": [
    "train.shape"
   ]
  },
  {
   "cell_type": "code",
   "execution_count": 32,
   "metadata": {},
   "outputs": [
    {
     "name": "stdout",
     "output_type": "stream",
     "text": [
      "(29061, 68)\n"
     ]
    }
   ],
   "source": [
    "def remap(series):\n",
    "    return np.array(list(map(lambda x: x[0],series.values)))\n",
    "def create_train_test_split(use_data,test_size=0.2):\n",
    "    X_train,X_test, y_typecode_train,y_typecode_test,y_sv_train,y_sv_test,y_eng_train,y_eng_test,y_gb_train,y_gb_test,\\\n",
    "        y_uph_train,y_uph_test,y_col_train,y_col_test,y_opt_train,y_opt_test= train_test_split(use_data,\\\n",
    "        remap(use_data['TYPECODE_onehot']),\\\n",
    "        remap(use_data['SALESVERSIONCODE_onehot']),\\\n",
    "        remap(use_data['ENGINECODE_onehot']),\\\n",
    "        remap(use_data['GEARBOXCODE_onehot']),\\\n",
    "        remap(use_data['UPHOLSTERY_onehot']),\\\n",
    "        remap(use_data['COLOUR_onehot']),\n",
    "        remap(use_data['OPT_CODES_onehot']),test_size=test_size)\n",
    "    return X_train,X_test, y_typecode_train,y_typecode_test,y_sv_train,y_sv_test,y_eng_train,y_eng_test,y_gb_train,y_gb_test,y_uph_train,y_uph_test,y_col_train,y_col_test,y_opt_train,y_opt_test\n",
    "\n",
    "X_train,X_dev, y_typecode_train,y_typecode_dev,y_sv_train,y_sv_dev,y_eng_train,y_eng_dev,y_gb_train,y_gb_dev,y_uph_dev,y_uph_dev,y_col_train,y_col_dev,y_opt_train,y_opt_dev= create_train_test_split(train,test_size=0.2)\n",
    "\n",
    "X_train['TYPECODE_translated'].value_counts()\n",
    "print(X_train.shape)\n",
    "X_train.to_pickle('train_2.pickle')\n",
    "X_dev.to_pickle('dev_2.pickle')\n",
    "#X_train, y_train = merged[user_columns], mlb.transform(df_train['TYPED_CAR'])"
   ]
  },
  {
   "cell_type": "code",
   "execution_count": 33,
   "metadata": {},
   "outputs": [
    {
     "name": "stdout",
     "output_type": "stream",
     "text": [
      "TYPECODE 235    9934\n",
      "256    9934\n",
      "525    9934\n",
      "224    9934\n",
      "225    9934\n",
      "227    9934\n",
      "536    9934\n",
      "526    9934\n",
      "234    9934\n",
      "236    9934\n",
      "246    9934\n",
      "Name: TYPECODE_translated, dtype: int64\n",
      "file TYPECODE_2_train.pickle\n",
      "ENGINECODE 25    9568\n",
      "35    9568\n",
      "68    9568\n",
      "13    9568\n",
      "72    9568\n",
      "32    9568\n",
      "BB    9568\n",
      "AR    9568\n",
      "A6    9568\n",
      "AC    9568\n",
      "A8    9568\n",
      "AK    9568\n",
      "BM    9568\n",
      "A3    9568\n",
      "14    9568\n",
      "Name: ENGINECODE_translated, dtype: int64\n",
      "file ENGINECODE_2_train.pickle\n",
      "SALESVERSIONCODE 13    12417\n",
      "R5    12417\n",
      "23    12417\n",
      "N5    12417\n",
      "12    12417\n",
      "RI    12417\n",
      "FS    12417\n",
      "22    12417\n",
      "11    12417\n",
      "R2    12417\n",
      "R7    12417\n",
      "Name: SALESVERSIONCODE_translated, dtype: int64\n",
      "file SALESVERSIONCODE_2_train.pickle\n",
      "GEARBOXCODE 4    15497\n",
      "D    15497\n",
      "F    15497\n",
      "C    15497\n",
      "1    15497\n",
      "0    15497\n",
      "Name: GEARBOXCODE_translated, dtype: int64\n",
      "file GEARBOXCODE_2_train.pickle\n",
      "COLOUR 72400    3503\n",
      "47700    3503\n",
      "70700    3503\n",
      "01900    3503\n",
      "46700    3503\n",
      "71200    3503\n",
      "72700    3503\n",
      "62100    3503\n",
      "72600    3503\n",
      "71400    3503\n",
      "72000    3503\n",
      "72300    3503\n",
      "72500    3503\n",
      "61400    3503\n",
      "71900    3503\n",
      "71100    3503\n",
      "49200    3503\n",
      "72100    3503\n",
      "72200    3503\n",
      "61200    3503\n",
      "71700    3503\n",
      "Name: COLOUR_translated, dtype: int64\n",
      "file COLOUR_2_train.pickle\n",
      "UPHOLSTERY UA0100    2524\n",
      "S10000    2524\n",
      "S50000    2524\n",
      "RC0400    2524\n",
      "RC0000    2524\n",
      "S16000    2524\n",
      "UB0100    2524\n",
      "S56F00    2524\n",
      "RC3000    2524\n",
      "UB0000    2524\n",
      "S56000    2524\n",
      "UA0200    2524\n",
      "RA2000    2524\n",
      "S16N00    2524\n",
      "PZ0000    2524\n",
      "WC0400    2524\n",
      "WB0100    2524\n",
      "RA3000    2524\n",
      "UD7000    2524\n",
      "S50F00    2524\n",
      "RC2000    2524\n",
      "R20000    2524\n",
      "RB3000    2524\n",
      "S10700    2524\n",
      "RD2000    2524\n",
      "RC0R00    2524\n",
      "U31000    2524\n",
      "S00000    2524\n",
      "U47000    2524\n",
      "R10000    2524\n",
      "          ... \n",
      "RB2000    2524\n",
      "WA0100    2524\n",
      "RA2200    2524\n",
      "RA4200    2524\n",
      "RA4100    2524\n",
      "RB2100    2524\n",
      "RB0100    2524\n",
      "S10N00    2524\n",
      "RG0R00    2524\n",
      "UA0000    2524\n",
      "S12G00    2524\n",
      "RA0100    2524\n",
      "RA0000    2524\n",
      "WB0000    2524\n",
      "RB0000    2524\n",
      "RD9000    2524\n",
      "RA4000    2524\n",
      "UC0000    2524\n",
      "WA0000    2524\n",
      "PR0000    2524\n",
      "WC0000    2524\n",
      "RC3400    2524\n",
      "S92G00    2524\n",
      "RB0R00    2524\n",
      "S10F00    2524\n",
      "UC0400    2524\n",
      "R30000    2524\n",
      "RD0000    2524\n",
      "S16700    2524\n",
      "RA0200    2524\n",
      "Name: UPHOLSTERY_translated, Length: 62, dtype: int64\n",
      "file UPHOLSTERY_2_train.pickle\n"
     ]
    }
   ],
   "source": [
    "from imblearn.over_sampling import RandomOverSampler\n",
    "ros = RandomOverSampler()\n",
    "for key in types_df:\n",
    "    if 'OPT' in key:\n",
    "        continue\n",
    "    X_res, y_res = ros.fit_resample(X_train, X_train[f'{key}_translated'])\n",
    "    resampled = pd.DataFrame(X_res,columns=X_train.columns)\n",
    "    print(key,  resampled[f'{key}_translated'].value_counts())\n",
    "    print('file',f'{key}_2_train.pickle')\n",
    "    resampled.to_pickle(f'{key}_2_train.pickle')\n"
   ]
  },
  {
   "cell_type": "code",
   "execution_count": 34,
   "metadata": {},
   "outputs": [],
   "source": [
    "test.to_pickle('test_2.pickle')"
   ]
  },
  {
   "cell_type": "code",
   "execution_count": 35,
   "metadata": {},
   "outputs": [
    {
     "data": {
      "text/plain": [
       "Index(['antal_inpendlare', 'antal_utpendlare', 'förvärvs-arbetande',\n",
       "       'ej_förvärvs-arbetande', 'äganderätt/småhus', 'bostadsrätt',\n",
       "       'hyresrätt', 'övriga_inkl._uppgift_saknas', 'förgymnasial', 'gymnasial',\n",
       "       'eftergymnasial_mindre_än_3_år',\n",
       "       'eftergymnasial_3_år_eller_längre_inkl._forskarutbildning', '0-6_år',\n",
       "       '7-15_år', '16-19_år', '20-24_år', '25-44_år', '45-64_år', '65-w_år',\n",
       "       'låg_inkomst', 'medellåg_inkomst', 'medelhög_inkomst', 'hög_inkomst',\n",
       "       'medianinkomst', 'sammanboende_med_barn', 'sammanboende_utan_barn',\n",
       "       'ensamstående_med_barn', 'ensamstående_utan_barn', 'övriga_hushåll',\n",
       "       'låg_köpkraft', 'medellåg_köpkraft', 'medelhög_köpkraft',\n",
       "       'hög_köpkraft', 'median_köpkraft',\n",
       "       'jordbruk,_skogsbruk,_jakt_och_fiske', 'tillverkning_och_utvinning',\n",
       "       'energi_och_miljöverksamhet', 'byggverksamhet', 'handel',\n",
       "       'transport_och_magasinering', 'hotell-_och_restaurangverksamhet',\n",
       "       'information_och_kommunikation', 'finans-_och_försäkringsverksamhet',\n",
       "       'fastighetsverksamhet', 'företagstjänster',\n",
       "       'offentlig_förvaltning_och_försvar', 'utbildning',\n",
       "       'vård_och_omsorg,_sociala_tjänster',\n",
       "       'kulturella_och_personliga_tjänster_m.m.', 'okänd_verksamhet', '0_barn',\n",
       "       '1_barn', '2_barn', '3+_barn', 'TYPECODE_onehot', 'ENGINECODE_onehot',\n",
       "       'SALESVERSIONCODE_onehot', 'GEARBOXCODE_onehot', 'COLOUR_onehot',\n",
       "       'UPHOLSTERY_onehot', 'OPT_CODES_onehot', 'TYPECODE_translated',\n",
       "       'ENGINECODE_translated', 'SALESVERSIONCODE_translated',\n",
       "       'GEARBOXCODE_translated', 'COLOUR_translated', 'UPHOLSTERY_translated',\n",
       "       'OPT_CODES_translated'],\n",
       "      dtype='object')"
      ]
     },
     "execution_count": 35,
     "metadata": {},
     "output_type": "execute_result"
    }
   ],
   "source": [
    "train.columns"
   ]
  },
  {
   "cell_type": "code",
   "execution_count": 36,
   "metadata": {},
   "outputs": [
    {
     "data": {
      "text/plain": [
       "Index(['antal_inpendlare', 'antal_utpendlare', 'förvärvs-arbetande',\n",
       "       'ej_förvärvs-arbetande', 'äganderätt/småhus', 'bostadsrätt',\n",
       "       'hyresrätt', 'övriga_inkl._uppgift_saknas', 'förgymnasial', 'gymnasial',\n",
       "       'eftergymnasial_mindre_än_3_år',\n",
       "       'eftergymnasial_3_år_eller_längre_inkl._forskarutbildning', '0-6_år',\n",
       "       '7-15_år', '16-19_år', '20-24_år', '25-44_år', '45-64_år', '65-w_år',\n",
       "       'låg_inkomst', 'medellåg_inkomst', 'medelhög_inkomst', 'hög_inkomst',\n",
       "       'medianinkomst', 'sammanboende_med_barn', 'sammanboende_utan_barn',\n",
       "       'ensamstående_med_barn', 'ensamstående_utan_barn', 'övriga_hushåll',\n",
       "       'låg_köpkraft', 'medellåg_köpkraft', 'medelhög_köpkraft',\n",
       "       'hög_köpkraft', 'median_köpkraft',\n",
       "       'jordbruk,_skogsbruk,_jakt_och_fiske', 'tillverkning_och_utvinning',\n",
       "       'energi_och_miljöverksamhet', 'byggverksamhet', 'handel',\n",
       "       'transport_och_magasinering', 'hotell-_och_restaurangverksamhet',\n",
       "       'information_och_kommunikation', 'finans-_och_försäkringsverksamhet',\n",
       "       'fastighetsverksamhet', 'företagstjänster',\n",
       "       'offentlig_förvaltning_och_försvar', 'utbildning',\n",
       "       'vård_och_omsorg,_sociala_tjänster',\n",
       "       'kulturella_och_personliga_tjänster_m.m.', 'okänd_verksamhet', '0_barn',\n",
       "       '1_barn', '2_barn', '3+_barn', 'TYPECODE_onehot', 'ENGINECODE_onehot',\n",
       "       'SALESVERSIONCODE_onehot', 'GEARBOXCODE_onehot', 'COLOUR_onehot',\n",
       "       'UPHOLSTERY_onehot', 'OPT_CODES_onehot', 'TYPECODE_translated',\n",
       "       'ENGINECODE_translated', 'SALESVERSIONCODE_translated',\n",
       "       'GEARBOXCODE_translated', 'COLOUR_translated', 'UPHOLSTERY_translated',\n",
       "       'OPT_CODES_translated'],\n",
       "      dtype='object')"
      ]
     },
     "execution_count": 36,
     "metadata": {},
     "output_type": "execute_result"
    }
   ],
   "source": [
    "test.columns"
   ]
  },
  {
   "cell_type": "code",
   "execution_count": null,
   "metadata": {},
   "outputs": [],
   "source": []
  }
 ],
 "metadata": {
  "kernelspec": {
   "display_name": "Python 3",
   "language": "python",
   "name": "python3"
  },
  "language_info": {
   "codemirror_mode": {
    "name": "ipython",
    "version": 3
   },
   "file_extension": ".py",
   "mimetype": "text/x-python",
   "name": "python",
   "nbconvert_exporter": "python",
   "pygments_lexer": "ipython3",
   "version": "3.6.8"
  }
 },
 "nbformat": 4,
 "nbformat_minor": 2
}
