{
 "cells": [
  {
   "cell_type": "code",
   "execution_count": 1,
   "metadata": {},
   "outputs": [
    {
     "data": {
      "application/vnd.jupyter.widget-view+json": {
       "model_id": "ab87926f10d0427e85a64272d3cd57ec",
       "version_major": 2,
       "version_minor": 0
      },
      "text/plain": [
       "HBox(children=(IntProgress(value=1, bar_style='info', max=1), HTML(value='')))"
      ]
     },
     "metadata": {},
     "output_type": "display_data"
    },
    {
     "name": "stdout",
     "output_type": "stream",
     "text": [
      "\n"
     ]
    },
    {
     "name": "stderr",
     "output_type": "stream",
     "text": [
      "Using TensorFlow backend.\n"
     ]
    },
    {
     "name": "stdout",
     "output_type": "stream",
     "text": [
      "exjobb data prepare loading...   \n",
      "data loaded ....\n"
     ]
    }
   ],
   "source": [
    "import tensorflow as tf\n",
    "tf.enable_eager_execution()\n",
    "from exjobb_data import *"
   ]
  },
  {
   "cell_type": "code",
   "execution_count": 2,
   "metadata": {},
   "outputs": [
    {
     "name": "stdout",
     "output_type": "stream",
     "text": [
      "(29061, 35)\n",
      "(9082, 35)\n"
     ]
    }
   ],
   "source": [
    "with open('concated_cars.pkl','rb') as f:\n",
    "    concated_cars = pickle.load(f)\n",
    "    print(concated_cars.shape)\n",
    "\n",
    "with open('t_encoded_cars.pkl','rb') as f:\n",
    "    t_encoded_cars = pickle.load(f)\n",
    "    print(t_encoded_cars.shape)"
   ]
  },
  {
   "cell_type": "code",
   "execution_count": 3,
   "metadata": {},
   "outputs": [],
   "source": [
    "with open('np_ctxs.pkl','rb') as f:\n",
    "    np_ctxs = pickle.load(f)\n",
    "with open('np_t_ctxs.pkl','rb') as f:\n",
    "    np_t_ctxs = pickle.load(f)"
   ]
  },
  {
   "cell_type": "code",
   "execution_count": 4,
   "metadata": {},
   "outputs": [],
   "source": [
    "ctx_df = pd.DataFrame(np_ctxs)\n",
    "np_ctxs = ctx_df[user_columns].values"
   ]
  },
  {
   "cell_type": "code",
   "execution_count": 5,
   "metadata": {},
   "outputs": [
    {
     "data": {
      "text/plain": [
       "(29061, 54)"
      ]
     },
     "execution_count": 5,
     "metadata": {},
     "output_type": "execute_result"
    }
   ],
   "source": [
    "np_ctxs.shape"
   ]
  },
  {
   "cell_type": "code",
   "execution_count": 6,
   "metadata": {},
   "outputs": [],
   "source": [
    "np_ctxs = np_ctxs.astype('float32')\n",
    "np_t_ctxs = np_t_ctxs.astype('float32')"
   ]
  },
  {
   "cell_type": "code",
   "execution_count": 7,
   "metadata": {},
   "outputs": [
    {
     "name": "stdout",
     "output_type": "stream",
     "text": [
      "(29061,)\n",
      "(9082,)\n"
     ]
    }
   ],
   "source": [
    "with open('np_rs.pkl','rb') as f:\n",
    "    np_rs = pickle.load(f)\n",
    "    print(np_rs.shape)\n",
    "with open('np_t_rs.pkl','rb') as f:\n",
    "    np_t_rs = pickle.load(f)\n",
    "    print(np_t_rs.shape)"
   ]
  },
  {
   "cell_type": "code",
   "execution_count": 8,
   "metadata": {},
   "outputs": [],
   "source": [
    "beta_scaler = MinMaxScaler()\n",
    "beta_scaler.fit(concated_cars)\n",
    "concated_cars = beta_scaler.transform(concated_cars)\n",
    "t_concated_cars = beta_scaler.transform(t_encoded_cars)"
   ]
  },
  {
   "cell_type": "code",
   "execution_count": null,
   "metadata": {},
   "outputs": [],
   "source": [
    "alpha_scaler = MinMaxScaler()\n",
    "alpha_scaler.fit(np_ctxs)\n",
    "before_ =np_ctxs\n",
    "np_ctxs = alpha_scaler.transform(np_ctxs)\n",
    "np_t_ctxs = alpha_scaler.transform(np_t_ctxs)"
   ]
  },
  {
   "cell_type": "markdown",
   "metadata": {},
   "source": [
    "## SVDFeature algorithm implementation"
   ]
  },
  {
   "cell_type": "code",
   "execution_count": null,
   "metadata": {},
   "outputs": [
    {
     "name": "stdout",
     "output_type": "stream",
     "text": [
      "\n",
      "WARNING: The TensorFlow contrib module will not be included in TensorFlow 2.0.\n",
      "For more information, please see:\n",
      "  * https://github.com/tensorflow/community/blob/master/rfcs/20180907-contrib-sunset.md\n",
      "  * https://github.com/tensorflow/addons\n",
      "If you depend on functionality not listed there, please file an issue.\n",
      "\n"
     ]
    }
   ],
   "source": [
    "from sklearn.base import BaseEstimator\n",
    "\n",
    "import numpy as np\n",
    "class SVDFeature(BaseEstimator):\n",
    "    def __init__(self,size_gamma,size_alpha,size_beta,hidden_dim=200, lr=0.002):\n",
    "        self.size_gamma = size_gamma\n",
    "        self.size_alpha = size_alpha\n",
    "        self.size_beta = size_beta\n",
    "        self.hidden_dim = hidden_dim\n",
    "        self.lr = tf.constant(lr,dtype=tf.float32)\n",
    "        self.mu = 0\n",
    "        self.mu_ittr = 0 \n",
    "        #init\n",
    "        self.p = tf.random.normal((size_alpha, hidden_dim),0,0.1)\n",
    "        self.q = tf.random.normal((size_beta, hidden_dim),0,0.1)\n",
    "        print('init p shape',self.p.shape)\n",
    "        print('init q shape',self.q.shape)\n",
    "        \n",
    "        self.alpha_bias = tf.zeros((size_alpha,1),dtype=tf.float32)\n",
    "        self.beta_bias = tf.zeros((size_beta,1),dtype=tf.float32)\n",
    "        self.gamma_bias = tf.zeros((size_gamma,1),dtype=tf.float32)\n",
    "        print(self.gamma_bias.shape)\n",
    "        self.fitted_betas=[]\n",
    "        self.fitted_indexes=[]\n",
    "\n",
    "    def predict(self,gamma,alpha,beta,reshape=False):\n",
    "\n",
    "        if reshape:\n",
    "            beta = tf.reshape(beta,(-1,1))\n",
    "            print(beta.shape)\n",
    "        assert self.gamma_bias.shape == gamma.shape\n",
    "        assert self.alpha_bias.shape == alpha.shape\n",
    "        assert self.beta_bias.shape == beta.shape\n",
    "\n",
    "        gamma_bias = tf.matmul(tf.transpose(self.gamma_bias),gamma)\n",
    "        alpha_bias = tf.matmul(tf.transpose(self.alpha_bias),alpha)\n",
    "        beta_bias = tf.matmul(tf.transpose(self.beta_bias),beta)\n",
    "        \n",
    "        temp_p = tf.matmul(tf.transpose(self.p),alpha)\n",
    "        temp_q = tf.matmul(tf.transpose(self.q),beta)\n",
    "  \n",
    "        p_q = tf.matmul(tf.transpose(temp_p),temp_q)\n",
    "\n",
    "        y = (gamma_bias+alpha_bias+beta_bias)+p_q\n",
    "\n",
    "        return tf.sigmoid(y)\n",
    "    \n",
    "    def predict_all(self,x):\n",
    "        max_p=0\n",
    "        max_y = None\n",
    "        max_idx = 0\n",
    "        random_ys = np.random.randint(0,len(self.fitted_betas)-1,1000)\n",
    "        for y_idx in random_ys:\n",
    "            y = self.fitted_betas[y_idx]\n",
    "            prediction = self.predict(tf.zeros(self.gamma_bias.shape),x,y)\n",
    "            if prediction > max_p:\n",
    "                max_p = prediction\n",
    "                max_y = y\n",
    "                max_idx = y_idx\n",
    "        return y,max_idx\n",
    "\n",
    "    def predict_all_vector(self,contexts):\n",
    "        ct_p = tf.matmul(contexts,svdfeature.p)\n",
    "        return tf.matmul(ct_p,tf.transpose(svdfeature.q))\n",
    "        \n",
    "    @tf.contrib.eager.defun\n",
    "    def top_k_ys(self,x,ys,top_k=5):\n",
    "        lambda_fn = lambda y: self.predict(tf.zeros(self.gamma_bias.shape),x,y)\n",
    "        res_tens = tf.map_fn(lambda_fn,ys)\n",
    "        return tf.math.top_k(tf.reshape(res_tens, (-1,)),top_k)\n",
    "\n",
    "    \n",
    "    def backward(self, e, gamma, alpha, beta):\n",
    "        q_beta = tf.transpose(tf.matmul(tf.transpose(self.q),beta))\n",
    "        p_update = self.p + self.lr*(\n",
    "            tf.multiply(\n",
    "                tf.multiply(e,alpha),\n",
    "                tf.transpose(tf.matmul(tf.transpose(self.q),beta))\n",
    "            )-0*tf.norm(self.p)*self.p)\n",
    "        \n",
    "        q_update = self.q + self.lr*(\n",
    "            tf.multiply(\n",
    "                tf.multiply(e,beta),\n",
    "                tf.transpose(tf.matmul(tf.transpose(self.p),alpha))\n",
    "            )-0*tf.norm(self.q)*self.q)\n",
    "\n",
    "        assert p_update.shape == self.p.shape\n",
    "        assert q_update.shape == self.q.shape\n",
    "        self.q = q_update\n",
    "        self.p = p_update\n",
    "        #print('p updated', self.p)\n",
    "        self.beta_bias = self.beta_bias + self.lr*(tf.multiply(e, beta)-0*tf.norm(self.beta_bias)*self.beta_bias)\n",
    "        self.alpha_bias = self.alpha_bias + self.lr*(tf.multiply(e, alpha)-0*tf.norm(self.alpha_bias)*self.alpha_bias)\n",
    "        self.gamma_bias = self.gamma_bias + self.lr*(tf.multiply(e, gamma)-0*tf.norm(self.gamma_bias)*self.alpha_bias)\n",
    "        \n",
    "    def fit(self,a,b,r,**fit_params):\n",
    "        assert a.shape[0] == b.shape[0]\n",
    "        assert r.shape[0] == a.shape[0]\n",
    "        assert a.shape[1] == self.size_alpha\n",
    "        assert b.shape[1] == self.size_beta\n",
    "        \n",
    "        #random training items\n",
    "        self.trained = 0\n",
    "        losses = []\n",
    "        trained=0\n",
    "        with tf.GradientTape() as t:\n",
    "            predictions = []\n",
    "            actuals = []\n",
    "            for epoch in tqdm_notebook(range(20)):\n",
    "                idxes = np.random.randint(0,a.shape[0]-1,size=1000)\n",
    "                self.fitted_indexes+=idxes.tolist()\n",
    "                e_predictions = []\n",
    "                e_actuals = []\n",
    "                for idx in tqdm_notebook(idxes):\n",
    "                    #print('index',idx)\n",
    "                    gamma =tf.zeros(self.gamma_bias.shape)\n",
    "                    a_sample = tf.reshape(a[idx],self.alpha_bias.shape)\n",
    "                    b_sample = tf.reshape(b[idx],self.beta_bias.shape)\n",
    "                    self.fitted_betas += [b_sample]\n",
    "                    y_pred = self.predict(gamma, a_sample, b_sample)\n",
    "                    y_pred = y_pred[0][0]\n",
    "                    if len(e_predictions) % 1000 == 0:\n",
    "                        print('ypred',y_pred)\n",
    "                        print('avarage error', self.loss(e_actuals,e_predictions))\n",
    "\n",
    "                    e_predictions += [y_pred.numpy()]\n",
    "                    self.mu += y_pred.numpy()\n",
    "                    self.mu_ittr += 1\n",
    "                    e_actuals += [r[idx]]\n",
    "                    e = self.error(r[idx],y_pred)\n",
    "                    if len(e_predictions) % 1000 == 0:\n",
    "                        print('error',e)\n",
    "\n",
    "                    self.backward(e,gamma,a_sample,b_sample)\n",
    "                predictions += [e_predictions]\n",
    "                actuals += [e_actuals]\n",
    "                print('avarage error', self.loss(e_actuals,e_predictions))\n",
    "        self.fitted_betas = np.array(self.fitted_betas)\n",
    "\n",
    "    def find_max_scoring(self,X,ys):\n",
    "        all_scores = self.predict_all(X,ys)\n",
    "        argmax_score = tf.math.argmax(all_scores)\n",
    "        return ys[argmax_score.numpy()[0][0]]\n",
    "            \n",
    "    def error(self,y_true,y_pred):\n",
    "        return (y_true-y_pred)\n",
    "    \n",
    "    def calc_loss(self,X,y):\n",
    "        x_sample = tf.reshape(X,self.alpha_bias.shape)\n",
    "        y_sample = tf.reshape(y,self.beta_bias.shape)\n",
    "        return self.loss(1, self.predict(tf.zeros(self.gamma_bias.shape), x_sample, y_sample))\n",
    "    \n",
    "    @tf.contrib.eager.defun\n",
    "    def loss_all(y_trues,y_preds):\n",
    "        lambda_fn = lambda y_t,y_p: self.loss(y_t,y_p)\n",
    "        res_tens = tf.map_fn(lambda_fn,y_trues,y_preds)\n",
    "        return tf.math.reduce_mean(res_tens)\n",
    "    \n",
    "    def loss(self, y_true, y_pred):\n",
    "        return tf.losses.mean_squared_error(y_true,y_pred)"
   ]
  },
  {
   "cell_type": "code",
   "execution_count": null,
   "metadata": {},
   "outputs": [
    {
     "name": "stdout",
     "output_type": "stream",
     "text": [
      "init p shape (54, 200)\n",
      "init q shape (35, 200)\n",
      "(1, 1)\n"
     ]
    }
   ],
   "source": [
    "svdfeature = SVDFeature(1,np_ctxs.shape[1],concated_cars.shape[1])"
   ]
  },
  {
   "cell_type": "code",
   "execution_count": null,
   "metadata": {
    "scrolled": false
   },
   "outputs": [
    {
     "data": {
      "application/vnd.jupyter.widget-view+json": {
       "model_id": "c1747bdacdb64d3f80fbd070db977969",
       "version_major": 2,
       "version_minor": 0
      },
      "text/plain": [
       "HBox(children=(IntProgress(value=0, max=20), HTML(value='')))"
      ]
     },
     "metadata": {},
     "output_type": "display_data"
    },
    {
     "data": {
      "application/vnd.jupyter.widget-view+json": {
       "model_id": "0fd11370fd17469784ef83c32a1bc386",
       "version_major": 2,
       "version_minor": 0
      },
      "text/plain": [
       "HBox(children=(IntProgress(value=0, max=1000), HTML(value='')))"
      ]
     },
     "metadata": {},
     "output_type": "display_data"
    },
    {
     "name": "stdout",
     "output_type": "stream",
     "text": [
      "ypred tf.Tensor(0.4703475, shape=(), dtype=float32)\n",
      "WARNING:tensorflow:From /home/rocket/anaconda3/envs/tf_13_gpu_gurobi/lib/python3.6/site-packages/tensorflow/python/ops/losses/losses_impl.py:667: to_float (from tensorflow.python.ops.math_ops) is deprecated and will be removed in a future version.\n",
      "Instructions for updating:\n",
      "Use tf.cast instead.\n",
      "avarage error tf.Tensor(0.0, shape=(), dtype=float32)\n",
      "error tf.Tensor(0.006914258, shape=(), dtype=float32)\n",
      "avarage error tf.Tensor(0.013261027, shape=(), dtype=float32)\n"
     ]
    },
    {
     "data": {
      "application/vnd.jupyter.widget-view+json": {
       "model_id": "dc7df28d2f7b4d248d6c5b769c278403",
       "version_major": 2,
       "version_minor": 0
      },
      "text/plain": [
       "HBox(children=(IntProgress(value=0, max=1000), HTML(value='')))"
      ]
     },
     "metadata": {},
     "output_type": "display_data"
    },
    {
     "name": "stdout",
     "output_type": "stream",
     "text": [
      "ypred tf.Tensor(0.99104124, shape=(), dtype=float32)\n",
      "avarage error tf.Tensor(0.0, shape=(), dtype=float32)\n",
      "error tf.Tensor(0.0013821125, shape=(), dtype=float32)\n",
      "avarage error tf.Tensor(0.00065906433, shape=(), dtype=float32)\n"
     ]
    },
    {
     "data": {
      "application/vnd.jupyter.widget-view+json": {
       "model_id": "270e7cd75340424bb69129f47131efe4",
       "version_major": 2,
       "version_minor": 0
      },
      "text/plain": [
       "HBox(children=(IntProgress(value=0, max=1000), HTML(value='')))"
      ]
     },
     "metadata": {},
     "output_type": "display_data"
    },
    {
     "name": "stdout",
     "output_type": "stream",
     "text": [
      "ypred tf.Tensor(0.9541363, shape=(), dtype=float32)\n",
      "avarage error tf.Tensor(0.0, shape=(), dtype=float32)\n",
      "error tf.Tensor(0.0029950738, shape=(), dtype=float32)\n",
      "avarage error tf.Tensor(0.00028180203, shape=(), dtype=float32)\n"
     ]
    },
    {
     "data": {
      "application/vnd.jupyter.widget-view+json": {
       "model_id": "3ad3a9d698bd400bba05c175ad768f1e",
       "version_major": 2,
       "version_minor": 0
      },
      "text/plain": [
       "HBox(children=(IntProgress(value=0, max=1000), HTML(value='')))"
      ]
     },
     "metadata": {},
     "output_type": "display_data"
    },
    {
     "name": "stdout",
     "output_type": "stream",
     "text": [
      "ypred tf.Tensor(0.9981634, shape=(), dtype=float32)\n",
      "avarage error tf.Tensor(0.0, shape=(), dtype=float32)\n",
      "error tf.Tensor(0.021552503, shape=(), dtype=float32)\n",
      "avarage error tf.Tensor(0.00016003933, shape=(), dtype=float32)\n"
     ]
    },
    {
     "data": {
      "application/vnd.jupyter.widget-view+json": {
       "model_id": "75170c1b51ad4917800b351ee65cd4a0",
       "version_major": 2,
       "version_minor": 0
      },
      "text/plain": [
       "HBox(children=(IntProgress(value=0, max=1000), HTML(value='')))"
      ]
     },
     "metadata": {},
     "output_type": "display_data"
    },
    {
     "name": "stdout",
     "output_type": "stream",
     "text": [
      "ypred tf.Tensor(0.9998135, shape=(), dtype=float32)\n",
      "avarage error tf.Tensor(0.0, shape=(), dtype=float32)\n",
      "error tf.Tensor(0.001080513, shape=(), dtype=float32)\n",
      "avarage error tf.Tensor(0.0001364051, shape=(), dtype=float32)\n"
     ]
    },
    {
     "data": {
      "application/vnd.jupyter.widget-view+json": {
       "model_id": "935ad932e55043099b97abe93c229ae2",
       "version_major": 2,
       "version_minor": 0
      },
      "text/plain": [
       "HBox(children=(IntProgress(value=0, max=1000), HTML(value='')))"
      ]
     },
     "metadata": {},
     "output_type": "display_data"
    },
    {
     "name": "stdout",
     "output_type": "stream",
     "text": [
      "ypred tf.Tensor(0.99260944, shape=(), dtype=float32)\n",
      "avarage error tf.Tensor(0.0, shape=(), dtype=float32)\n",
      "error tf.Tensor(0.0017749667, shape=(), dtype=float32)\n",
      "avarage error tf.Tensor(0.0001079114, shape=(), dtype=float32)\n"
     ]
    },
    {
     "data": {
      "application/vnd.jupyter.widget-view+json": {
       "model_id": "6638e87160834d58a49612c0ddbe0bf4",
       "version_major": 2,
       "version_minor": 0
      },
      "text/plain": [
       "HBox(children=(IntProgress(value=0, max=1000), HTML(value='')))"
      ]
     },
     "metadata": {},
     "output_type": "display_data"
    },
    {
     "name": "stdout",
     "output_type": "stream",
     "text": [
      "ypred tf.Tensor(0.9999739, shape=(), dtype=float32)\n",
      "avarage error tf.Tensor(0.0, shape=(), dtype=float32)\n",
      "error tf.Tensor(1.13248825e-05, shape=(), dtype=float32)\n",
      "avarage error tf.Tensor(6.83518e-05, shape=(), dtype=float32)\n"
     ]
    },
    {
     "data": {
      "application/vnd.jupyter.widget-view+json": {
       "model_id": "2c5d5f99756148b8b405ba096a6421c5",
       "version_major": 2,
       "version_minor": 0
      },
      "text/plain": [
       "HBox(children=(IntProgress(value=0, max=1000), HTML(value='')))"
      ]
     },
     "metadata": {},
     "output_type": "display_data"
    },
    {
     "name": "stdout",
     "output_type": "stream",
     "text": [
      "ypred tf.Tensor(0.9999677, shape=(), dtype=float32)\n",
      "avarage error tf.Tensor(0.0, shape=(), dtype=float32)\n",
      "error tf.Tensor(0.00141716, shape=(), dtype=float32)\n",
      "avarage error tf.Tensor(8.928979e-05, shape=(), dtype=float32)\n"
     ]
    },
    {
     "data": {
      "application/vnd.jupyter.widget-view+json": {
       "model_id": "d392b198acb148248de697b468141d9a",
       "version_major": 2,
       "version_minor": 0
      },
      "text/plain": [
       "HBox(children=(IntProgress(value=0, max=1000), HTML(value='')))"
      ]
     },
     "metadata": {},
     "output_type": "display_data"
    },
    {
     "name": "stdout",
     "output_type": "stream",
     "text": [
      "ypred tf.Tensor(0.9998053, shape=(), dtype=float32)\n",
      "avarage error tf.Tensor(0.0, shape=(), dtype=float32)\n",
      "error tf.Tensor(4.3988228e-05, shape=(), dtype=float32)\n",
      "avarage error tf.Tensor(8.262107e-05, shape=(), dtype=float32)\n"
     ]
    },
    {
     "data": {
      "application/vnd.jupyter.widget-view+json": {
       "model_id": "7ab5f2b1ce0648dc9838c3d9f6a70582",
       "version_major": 2,
       "version_minor": 0
      },
      "text/plain": [
       "HBox(children=(IntProgress(value=0, max=1000), HTML(value='')))"
      ]
     },
     "metadata": {},
     "output_type": "display_data"
    },
    {
     "name": "stdout",
     "output_type": "stream",
     "text": [
      "ypred tf.Tensor(0.9992354, shape=(), dtype=float32)\n",
      "avarage error tf.Tensor(0.0, shape=(), dtype=float32)\n",
      "error tf.Tensor(0.0003553629, shape=(), dtype=float32)\n",
      "avarage error tf.Tensor(5.501486e-05, shape=(), dtype=float32)\n"
     ]
    },
    {
     "data": {
      "application/vnd.jupyter.widget-view+json": {
       "model_id": "9bd37037b9d7418c82f93a52226d1ecb",
       "version_major": 2,
       "version_minor": 0
      },
      "text/plain": [
       "HBox(children=(IntProgress(value=0, max=1000), HTML(value='')))"
      ]
     },
     "metadata": {},
     "output_type": "display_data"
    },
    {
     "name": "stdout",
     "output_type": "stream",
     "text": [
      "ypred tf.Tensor(0.99992716, shape=(), dtype=float32)\n",
      "avarage error tf.Tensor(0.0, shape=(), dtype=float32)\n",
      "error tf.Tensor(0.000341177, shape=(), dtype=float32)\n",
      "avarage error tf.Tensor(2.6307494e-05, shape=(), dtype=float32)\n"
     ]
    },
    {
     "data": {
      "application/vnd.jupyter.widget-view+json": {
       "model_id": "f645f8251bcb42a4bf7f4703d84eed5f",
       "version_major": 2,
       "version_minor": 0
      },
      "text/plain": [
       "HBox(children=(IntProgress(value=0, max=1000), HTML(value='')))"
      ]
     },
     "metadata": {},
     "output_type": "display_data"
    },
    {
     "name": "stdout",
     "output_type": "stream",
     "text": [
      "ypred tf.Tensor(0.9999777, shape=(), dtype=float32)\n",
      "avarage error tf.Tensor(0.0, shape=(), dtype=float32)\n",
      "error tf.Tensor(5.722046e-06, shape=(), dtype=float32)\n",
      "avarage error tf.Tensor(4.5721194e-05, shape=(), dtype=float32)\n"
     ]
    },
    {
     "data": {
      "application/vnd.jupyter.widget-view+json": {
       "model_id": "bdffc8de34e94f1986e8e10668c1fd8b",
       "version_major": 2,
       "version_minor": 0
      },
      "text/plain": [
       "HBox(children=(IntProgress(value=0, max=1000), HTML(value='')))"
      ]
     },
     "metadata": {},
     "output_type": "display_data"
    },
    {
     "name": "stdout",
     "output_type": "stream",
     "text": [
      "ypred tf.Tensor(0.9999552, shape=(), dtype=float32)\n",
      "avarage error tf.Tensor(0.0, shape=(), dtype=float32)\n",
      "error tf.Tensor(0.0040619373, shape=(), dtype=float32)\n",
      "avarage error tf.Tensor(7.9354875e-05, shape=(), dtype=float32)\n"
     ]
    },
    {
     "data": {
      "application/vnd.jupyter.widget-view+json": {
       "model_id": "796da928cebe4dd299fa260ddefc3a42",
       "version_major": 2,
       "version_minor": 0
      },
      "text/plain": [
       "HBox(children=(IntProgress(value=0, max=1000), HTML(value='')))"
      ]
     },
     "metadata": {},
     "output_type": "display_data"
    },
    {
     "name": "stdout",
     "output_type": "stream",
     "text": [
      "ypred tf.Tensor(0.9999658, shape=(), dtype=float32)\n",
      "avarage error tf.Tensor(0.0, shape=(), dtype=float32)\n",
      "error tf.Tensor(5.2452087e-06, shape=(), dtype=float32)\n",
      "avarage error tf.Tensor(2.3822933e-05, shape=(), dtype=float32)\n"
     ]
    },
    {
     "data": {
      "application/vnd.jupyter.widget-view+json": {
       "model_id": "0c00ca9c4ded4ece9891653853c2ef0a",
       "version_major": 2,
       "version_minor": 0
      },
      "text/plain": [
       "HBox(children=(IntProgress(value=0, max=1000), HTML(value='')))"
      ]
     },
     "metadata": {},
     "output_type": "display_data"
    },
    {
     "name": "stdout",
     "output_type": "stream",
     "text": [
      "ypred tf.Tensor(0.99788266, shape=(), dtype=float32)\n",
      "avarage error tf.Tensor(0.0, shape=(), dtype=float32)\n",
      "error tf.Tensor(0.004956603, shape=(), dtype=float32)\n",
      "avarage error tf.Tensor(4.905523e-05, shape=(), dtype=float32)\n"
     ]
    },
    {
     "data": {
      "application/vnd.jupyter.widget-view+json": {
       "model_id": "267d630e5d9c4c57aa5e76451fe891c9",
       "version_major": 2,
       "version_minor": 0
      },
      "text/plain": [
       "HBox(children=(IntProgress(value=0, max=1000), HTML(value='')))"
      ]
     },
     "metadata": {},
     "output_type": "display_data"
    },
    {
     "name": "stdout",
     "output_type": "stream",
     "text": [
      "ypred tf.Tensor(0.9998716, shape=(), dtype=float32)\n",
      "avarage error tf.Tensor(0.0, shape=(), dtype=float32)\n",
      "error tf.Tensor(0.00045531988, shape=(), dtype=float32)\n",
      "avarage error tf.Tensor(3.3774246e-05, shape=(), dtype=float32)\n"
     ]
    },
    {
     "data": {
      "application/vnd.jupyter.widget-view+json": {
       "model_id": "23c9c551ee484be6913ce0e9cccf0070",
       "version_major": 2,
       "version_minor": 0
      },
      "text/plain": [
       "HBox(children=(IntProgress(value=0, max=1000), HTML(value='')))"
      ]
     },
     "metadata": {},
     "output_type": "display_data"
    },
    {
     "name": "stdout",
     "output_type": "stream",
     "text": [
      "ypred tf.Tensor(0.9999962, shape=(), dtype=float32)\n",
      "avarage error tf.Tensor(0.0, shape=(), dtype=float32)\n",
      "error tf.Tensor(0.00012385845, shape=(), dtype=float32)\n",
      "avarage error tf.Tensor(2.1811189e-05, shape=(), dtype=float32)\n"
     ]
    },
    {
     "data": {
      "application/vnd.jupyter.widget-view+json": {
       "model_id": "23aef76407d74914bcd841960aa5835a",
       "version_major": 2,
       "version_minor": 0
      },
      "text/plain": [
       "HBox(children=(IntProgress(value=0, max=1000), HTML(value='')))"
      ]
     },
     "metadata": {},
     "output_type": "display_data"
    },
    {
     "name": "stdout",
     "output_type": "stream",
     "text": [
      "ypred tf.Tensor(0.99999475, shape=(), dtype=float32)\n",
      "avarage error tf.Tensor(0.0, shape=(), dtype=float32)\n",
      "error tf.Tensor(9.179115e-05, shape=(), dtype=float32)\n",
      "avarage error tf.Tensor(4.5558085e-05, shape=(), dtype=float32)\n"
     ]
    },
    {
     "data": {
      "application/vnd.jupyter.widget-view+json": {
       "model_id": "01e11eaa706643f48ce007d57f3c20d0",
       "version_major": 2,
       "version_minor": 0
      },
      "text/plain": [
       "HBox(children=(IntProgress(value=0, max=1000), HTML(value='')))"
      ]
     },
     "metadata": {},
     "output_type": "display_data"
    },
    {
     "name": "stdout",
     "output_type": "stream",
     "text": [
      "ypred tf.Tensor(0.99997246, shape=(), dtype=float32)\n",
      "avarage error tf.Tensor(0.0, shape=(), dtype=float32)\n",
      "error tf.Tensor(2.3841858e-07, shape=(), dtype=float32)\n",
      "avarage error tf.Tensor(2.0692658e-05, shape=(), dtype=float32)\n"
     ]
    },
    {
     "data": {
      "application/vnd.jupyter.widget-view+json": {
       "model_id": "d80eecaa1ff5473098d2d3203b5b1fb1",
       "version_major": 2,
       "version_minor": 0
      },
      "text/plain": [
       "HBox(children=(IntProgress(value=0, max=1000), HTML(value='')))"
      ]
     },
     "metadata": {},
     "output_type": "display_data"
    },
    {
     "name": "stdout",
     "output_type": "stream",
     "text": [
      "ypred tf.Tensor(0.99914837, shape=(), dtype=float32)\n",
      "avarage error tf.Tensor(0.0, shape=(), dtype=float32)\n",
      "error tf.Tensor(0.00036799908, shape=(), dtype=float32)\n",
      "avarage error tf.Tensor(1.4417869e-05, shape=(), dtype=float32)\n",
      "\n"
     ]
    }
   ],
   "source": [
    "svdfeature.fit(np_ctxs,concated_cars,np_rs,lr=0.001)"
   ]
  },
  {
   "cell_type": "code",
   "execution_count": null,
   "metadata": {},
   "outputs": [],
   "source": [
    "predicted_cars =[]\n",
    "predicted_cars = beta_scaler.inverse_transform(svdfeature.predict_all_vector(np_t_ctxs))\n",
    "with open('predicted_features.pkl','wb') as f:\n",
    "    pickle.dump(predicted_cars, f)\n"
   ]
  }
 ],
 "metadata": {
  "kernelspec": {
   "display_name": "Python 3",
   "language": "python",
   "name": "python3"
  },
  "language_info": {
   "codemirror_mode": {
    "name": "ipython",
    "version": 3
   },
   "file_extension": ".py",
   "mimetype": "text/x-python",
   "name": "python",
   "nbconvert_exporter": "python",
   "pygments_lexer": "ipython3",
   "version": "3.6.8"
  }
 },
 "nbformat": 4,
 "nbformat_minor": 2
}
