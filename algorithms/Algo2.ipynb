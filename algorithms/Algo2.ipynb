{
 "cells": [
  {
   "cell_type": "markdown",
   "metadata": {},
   "source": [
    "## Algorithm evaluation\n",
    "### This df is without dataprep, in order to get reproducable results"
   ]
  },
  {
   "cell_type": "code",
   "execution_count": null,
   "metadata": {},
   "outputs": [],
   "source": []
  },
  {
   "cell_type": "code",
   "execution_count": 1,
   "metadata": {},
   "outputs": [
    {
     "data": {
      "application/vnd.jupyter.widget-view+json": {
       "model_id": "8c30a2a3f4184ec3aeab3c23676de4cc",
       "version_major": 2,
       "version_minor": 0
      },
      "text/plain": [
       "HBox(children=(IntProgress(value=1, bar_style='info', max=1), HTML(value='')))"
      ]
     },
     "metadata": {},
     "output_type": "display_data"
    },
    {
     "name": "stdout",
     "output_type": "stream",
     "text": [
      "\n"
     ]
    },
    {
     "name": "stderr",
     "output_type": "stream",
     "text": [
      "Using TensorFlow backend.\n"
     ]
    },
    {
     "name": "stdout",
     "output_type": "stream",
     "text": [
      "exjobb data prepare loading...   \n",
      "data loaded ....\n"
     ]
    }
   ],
   "source": [
    "use_old_data = False\n",
    "from exjobb_data import *\n",
    "from importlib import reload"
   ]
  },
  {
   "cell_type": "code",
   "execution_count": 75,
   "metadata": {},
   "outputs": [
    {
     "name": "stdout",
     "output_type": "stream",
     "text": [
      "using new data...\n"
     ]
    }
   ],
   "source": [
    "train,test,dev,train_ct,train_eng,train_sv,train_gb,train_col,train_uph=set_data(use_new=True)"
   ]
  },
  {
   "cell_type": "markdown",
   "metadata": {},
   "source": [
    "### Define the training and test data"
   ]
  },
  {
   "cell_type": "code",
   "execution_count": 76,
   "metadata": {},
   "outputs": [],
   "source": [
    "#train_2['OPT_CODES_translated'].progress_apply(len).describe()"
   ]
  },
  {
   "cell_type": "code",
   "execution_count": 77,
   "metadata": {},
   "outputs": [],
   "source": [
    "with open('CarBinarizer', 'rb') as f:\n",
    "    cb = pickle.load(f)\n",
    "with open('VolvoStats', 'rb') as f:\n",
    "    stats = pickle.load(f)"
   ]
  },
  {
   "cell_type": "code",
   "execution_count": 78,
   "metadata": {},
   "outputs": [],
   "source": [
    "def remap(series):\n",
    "    return np.array(list(map(lambda x: x[0],series.values)))\n",
    "def create_train_test_split(use_data,test_size=0.2):\n",
    "    X_train,X_val, y_typecode_train,y_typecode_val,y_sv_train,y_sv_val,y_eng_train,y_eng_val,y_gb_train,y_gb_val,\\\n",
    "        y_uph_train,y_uph_val,y_col_train,y_col_val,y_opt_train,y_opt_val= train_test_split(use_data,\\\n",
    "        remap(use_data['TYPECODE_onehot']),\\\n",
    "        remap(use_data['SALESVERSIONCODE_onehot']),\\\n",
    "        remap(use_data['ENGINECODE_onehot']),\\\n",
    "        remap(use_data['GEARBOXCODE_onehot']),\\\n",
    "        remap(use_data['UPHOLSTERY_onehot']),\\\n",
    "        remap(use_data['COLOUR_onehot']),\n",
    "        remap(use_data['OPT_CODES_onehot']),test_size=test_size)\n",
    "    return X_train,X_val, y_typecode_train,y_typecode_val,y_sv_train,y_sv_val,y_eng_train,y_eng_val,y_gb_train,y_gb_val,y_uph_train,y_uph_val,y_col_train,y_col_val,y_opt_train,y_opt_val\n",
    "\n",
    "#X_train,X_val, y_typecode_train,y_typecode_val,y_sv_train,y_sv_val,y_eng_train,y_eng_val,y_gb_train,y_gb_val,y_uph_train,y_uph_val,y_col_train,y_col_val,y_opt_train,y_opt_val= create_train_test_split(train,test_size=0.2)"
   ]
  },
  {
   "cell_type": "code",
   "execution_count": 79,
   "metadata": {},
   "outputs": [],
   "source": [
    "\n",
    "X_train_ct, y_train_ct = train_ct, remap(train_ct['TYPECODE_onehot'])\n",
    "X_train_sv, y_train_sv = train_sv,remap(train_sv['SALESVERSIONCODE_onehot'])\n",
    "X_train_eng, y_train_eng = train_eng,remap(train_eng['ENGINECODE_onehot'])\n",
    "X_train_gb, y_train_gb = train_gb,remap(train_gb['GEARBOXCODE_onehot'])\n",
    "X_train_col, y_train_col = train_col,remap(train_col['COLOUR_onehot'])\n",
    "X_train_uph, y_train_uph = train_uph,remap(train_uph['UPHOLSTERY_onehot'])\n",
    "X_train_opt, y_train_opt = train_ct,remap(train_ct['OPT_CODES_onehot'])\n"
   ]
  },
  {
   "cell_type": "code",
   "execution_count": 80,
   "metadata": {},
   "outputs": [
    {
     "data": {
      "text/plain": [
       "(109274, 11)"
      ]
     },
     "execution_count": 80,
     "metadata": {},
     "output_type": "execute_result"
    }
   ],
   "source": [
    "y_train_ct.shape"
   ]
  },
  {
   "cell_type": "markdown",
   "metadata": {},
   "source": [
    "### Generic Keras callbacks"
   ]
  },
  {
   "cell_type": "code",
   "execution_count": 81,
   "metadata": {},
   "outputs": [],
   "source": [
    "def callbacks(name):\n",
    "    dt_format = \"%Y%m%d-%H%M%S\"\n",
    "    model_name = f\"{name}_{datetime.now().strftime(dt_format)}\"\n",
    "    return [\n",
    "        TensorBoard(log_dir='./logs/{}'.format(model_name)),\n",
    "        ModelCheckpoint('./models/{}.mdl_wts.hdf5'.format(model_name),\n",
    "                        save_best_only=True, monitor='val_loss', mode='min'),\n",
    "        ReduceLROnPlateau(monitor='val_loss', factor=0.1,\n",
    "                          patience=5, verbose=1, mode='min'),\n",
    "        EarlyStopping(restore_best_weights=True, patience=10)\n",
    "    ]"
   ]
  },
  {
   "cell_type": "markdown",
   "metadata": {},
   "source": [
    "# AutoEncoder"
   ]
  },
  {
   "cell_type": "markdown",
   "metadata": {},
   "source": [
    "Theory; We let the data speak for it self, so we do 'automatic' feature extraction, by running an $\\textit{AutoEncoder}$ over the different datasets. The specified latent dimensions will then represent the data in a lower dimension(s).\n",
    "\n",
    "The AutoEncoders are models as follows:\n",
    "NNEncoder(data) => latent_dimensions => NNDecoder(data)"
   ]
  },
  {
   "cell_type": "code",
   "execution_count": 82,
   "metadata": {},
   "outputs": [],
   "source": [
    "class AutoEncoder:\n",
    "    def __init__(self, input_size, latent_dim, loss='mse',decoder_name='',output_activation=None):\n",
    "        self.input_size = input_size\n",
    "        self.latent_dim = latent_dim\n",
    "        self.loss=loss\n",
    "        if output_activation is None:\n",
    "            self.output_activation = 'softmax' if 'entropy' in self.loss else 'relu'\n",
    "        else:\n",
    "            self.output_activation = output_activation\n",
    "            \n",
    "        self.decoder_name=decoder_name\n",
    "        self.decoder_output_layer = lambda units,activation: Dense(units,activation=activation,name='default_out')\n",
    "        self._build()\n",
    "    \n",
    "    def _build(self):       \n",
    "        inputs = Input(shape=(self.input_size,))\n",
    "        first = Dense(1000,activation='relu')(inputs)\n",
    "        first = Dense(1000, activation='relu')(first)\n",
    "        \n",
    "        latent = Dense(self.latent_dim, name='latent')(first)\n",
    "        \n",
    "        self.encoder = Model(inputs, latent, name='encoder')\n",
    "        self.encoder.summary()\n",
    "        latent_inputs = Input(shape=(self.latent_dim,),name='decoder_input')        \n",
    "        last = Dense(1000,activation='relu')(latent_inputs)\n",
    "        last = Dense(1000, activation='relu')(last)\n",
    "        \n",
    "        #out = Dense(self.input_size, activation=self.output_activation)(last)\n",
    "        out = self.decoder_output_layer(units=self.input_size, activation=self.output_activation)(last)\n",
    "            \n",
    "        self.decoder = Model(latent_inputs, out, name=f'decoder_{self.decoder_name}')\n",
    "        self.decoder.summary()\n",
    "        autoencoder = Model(inputs, self.decoder(self.encoder(inputs)), name='autoencoder')\n",
    "        autoencoder.summary()\n",
    "        \n",
    "        if 'entropy' in self.loss:\n",
    "            autoencoder.compile(loss=self.loss, optimizer=optimizers.Adam(lr=0.001),metrics=['accuracy'])\n",
    "        else:\n",
    "            autoencoder.compile(loss=self.loss, optimizer=optimizers.Adam(lr=0.001))\n",
    "            \n",
    "        self.model = autoencoder\n",
    "        \n",
    "\n",
    "    def get_encoder(self):\n",
    "        for layer in self.encoder.layers:\n",
    "            layer.trainable=False\n",
    "        return self.encoder\n",
    "    \n",
    "    def get_decoder(self):\n",
    "        for layer in self.decoder.layers:\n",
    "            layer.trainable=False\n",
    "        return self.decoder\n",
    "    \n",
    "    def callbacks(self, X_test):\n",
    "        return [\n",
    "            TensorBoard(batch_size=64,\n",
    "                          embeddings_freq=1,\n",
    "                          embeddings_layer_names=['latent'],\n",
    "                          embeddings_metadata='metadata.tsv',\n",
    "                          embeddings_data=X_test)\n",
    "        ]"
   ]
  },
  {
   "cell_type": "markdown",
   "metadata": {},
   "source": [
    "### Here, we do a special case, for the options AutoEncoder.\n",
    "Basically, since options are note one-hot encoded, rather the options are represented as multi-hot vecotrs, we do a slight modification of the AutoEncoder above, by adding a \"priori layer\".\n",
    "\n",
    "The priori layer normalizes the the outputs from the multi-sigmodal output layer, by a prior known distribution.\n",
    "Simply put; We know on beforehand (from statistics) the frequency of every option (how often its included). When we do predictions from the autoencoder, we apply the following: \n",
    "\n",
    "$\\pi$ = statistics for every option\n",
    "$v$ = the predicted vector, with probabilites\n",
    "\n",
    "$$\n",
    "    output = \\pi \\otimes v\n",
    "$$"
   ]
  },
  {
   "cell_type": "code",
   "execution_count": 83,
   "metadata": {},
   "outputs": [],
   "source": [
    "from keras.layers import Layer\n",
    "from keras import backend as K\n",
    "class PrioriDenseLayer(Dense):\n",
    "        def __init__(self, priori_dist, **kwargs):\n",
    "            print('PRIORI DENSE')\n",
    "            self.priori_dist = priori_dist\n",
    "            print(f'units:{kwargs}, {self.priori_dist.shape[0]}')\n",
    "            assert self.priori_dist.shape[0] == kwargs['units']\n",
    "            self.priori_dist = K.variable(self.priori_dist.T)\n",
    "            super().__init__(**kwargs)\n",
    "        \n",
    "        def call(self, x):\n",
    "            super_result = super().call(x)\n",
    "            print('super_result', super_result)\n",
    "            print('priori',self.priori_dist)\n",
    "            calc= super_result*self.priori_dist\n",
    "            print('calc',calc)\n",
    "            return calc\n",
    "            \n",
    "            \n",
    "class MultiClassAutoEncoder(AutoEncoder):\n",
    "    def __init__(self,input_size, latent_dim, priori_dist, decoder_name='',output_activation=None):\n",
    "        self.decoder_output_layer = lambda units,activation: PrioriDenseLayer(priori_dist, units=units,activation='sigmoid',name='priori_dense')\n",
    "        print('MCAE')\n",
    "        self.priori_dist = priori_dist\n",
    "        super().__init__(input_size, latent_dim, 'binary_crossentropy',decoder_name,'sigmoid')\n",
    "    def _build(self):\n",
    "        #self.decoder_output_layer = lambda units,activation: PrioriDenseLayer(self.priori_dist, units=units,activation='sigmoid',name='priori_dense')\n",
    "        super()._build()\n",
    "\n"
   ]
  },
  {
   "cell_type": "code",
   "execution_count": 84,
   "metadata": {},
   "outputs": [],
   "source": [
    "index_dist = []\n",
    "for opt in cb.types_binarizer['OPT'].classes_.tolist():\n",
    "    if not opt in stats.stats[2019]['OPT']:\n",
    "        pass\n",
    "#        avaregae computed to: 0.03030649501116675\n",
    "        index_dist += [0.030649501116675]\n",
    "        #print(opt, 0.030649501116675,cb.types_binarizer['OPT'].classes_.tolist().index(opt))\n",
    "    else:\n",
    "        #print(opt, stats.stats[2019]['OPT'][opt],cb.types_binarizer['OPT'].classes_.tolist().index(opt))\n",
    "        index_dist+=[stats.stats[2019]['OPT'][opt]]\n",
    "index_dist = np.array(index_dist).reshape(-1,1)\n"
   ]
  },
  {
   "cell_type": "code",
   "execution_count": 85,
   "metadata": {},
   "outputs": [
    {
     "name": "stdout",
     "output_type": "stream",
     "text": [
      "_________________________________________________________________\n",
      "Layer (type)                 Output Shape              Param #   \n",
      "=================================================================\n",
      "input_17 (InputLayer)        (None, 54)                0         \n",
      "_________________________________________________________________\n",
      "dense_65 (Dense)             (None, 1000)              55000     \n",
      "_________________________________________________________________\n",
      "dense_66 (Dense)             (None, 1000)              1001000   \n",
      "_________________________________________________________________\n",
      "latent (Dense)               (None, 10)                10010     \n",
      "=================================================================\n",
      "Total params: 1,066,010\n",
      "Trainable params: 1,066,010\n",
      "Non-trainable params: 0\n",
      "_________________________________________________________________\n",
      "_________________________________________________________________\n",
      "Layer (type)                 Output Shape              Param #   \n",
      "=================================================================\n",
      "decoder_input (InputLayer)   (None, 10)                0         \n",
      "_________________________________________________________________\n",
      "dense_67 (Dense)             (None, 1000)              11000     \n",
      "_________________________________________________________________\n",
      "dense_68 (Dense)             (None, 1000)              1001000   \n",
      "_________________________________________________________________\n",
      "default_out (Dense)          (None, 54)                54054     \n",
      "=================================================================\n",
      "Total params: 1,066,054\n",
      "Trainable params: 1,066,054\n",
      "Non-trainable params: 0\n",
      "_________________________________________________________________\n",
      "_________________________________________________________________\n",
      "Layer (type)                 Output Shape              Param #   \n",
      "=================================================================\n",
      "input_17 (InputLayer)        (None, 54)                0         \n",
      "_________________________________________________________________\n",
      "encoder (Model)              (None, 10)                1066010   \n",
      "_________________________________________________________________\n",
      "decoder_ (Model)             (None, 54)                1066054   \n",
      "=================================================================\n",
      "Total params: 2,132,064\n",
      "Trainable params: 2,132,064\n",
      "Non-trainable params: 0\n",
      "_________________________________________________________________\n",
      "_________________________________________________________________\n",
      "Layer (type)                 Output Shape              Param #   \n",
      "=================================================================\n",
      "input_18 (InputLayer)        (None, 11)                0         \n",
      "_________________________________________________________________\n",
      "dense_69 (Dense)             (None, 1000)              12000     \n",
      "_________________________________________________________________\n",
      "dense_70 (Dense)             (None, 1000)              1001000   \n",
      "_________________________________________________________________\n",
      "latent (Dense)               (None, 5)                 5005      \n",
      "=================================================================\n",
      "Total params: 1,018,005\n",
      "Trainable params: 1,018,005\n",
      "Non-trainable params: 0\n",
      "_________________________________________________________________\n",
      "_________________________________________________________________\n",
      "Layer (type)                 Output Shape              Param #   \n",
      "=================================================================\n",
      "decoder_input (InputLayer)   (None, 5)                 0         \n",
      "_________________________________________________________________\n",
      "dense_71 (Dense)             (None, 1000)              6000      \n",
      "_________________________________________________________________\n",
      "dense_72 (Dense)             (None, 1000)              1001000   \n",
      "_________________________________________________________________\n",
      "default_out (Dense)          (None, 11)                11011     \n",
      "=================================================================\n",
      "Total params: 1,018,011\n",
      "Trainable params: 1,018,011\n",
      "Non-trainable params: 0\n",
      "_________________________________________________________________\n",
      "_________________________________________________________________\n",
      "Layer (type)                 Output Shape              Param #   \n",
      "=================================================================\n",
      "input_18 (InputLayer)        (None, 11)                0         \n",
      "_________________________________________________________________\n",
      "encoder (Model)              (None, 5)                 1018005   \n",
      "_________________________________________________________________\n",
      "decoder_cartype (Model)      (None, 11)                1018011   \n",
      "=================================================================\n",
      "Total params: 2,036,016\n",
      "Trainable params: 2,036,016\n",
      "Non-trainable params: 0\n",
      "_________________________________________________________________\n",
      "_________________________________________________________________\n",
      "Layer (type)                 Output Shape              Param #   \n",
      "=================================================================\n",
      "input_19 (InputLayer)        (None, 12)                0         \n",
      "_________________________________________________________________\n",
      "dense_73 (Dense)             (None, 1000)              13000     \n",
      "_________________________________________________________________\n",
      "dense_74 (Dense)             (None, 1000)              1001000   \n",
      "_________________________________________________________________\n",
      "latent (Dense)               (None, 5)                 5005      \n",
      "=================================================================\n",
      "Total params: 1,019,005\n",
      "Trainable params: 1,019,005\n",
      "Non-trainable params: 0\n",
      "_________________________________________________________________\n",
      "_________________________________________________________________\n",
      "Layer (type)                 Output Shape              Param #   \n",
      "=================================================================\n",
      "decoder_input (InputLayer)   (None, 5)                 0         \n",
      "_________________________________________________________________\n",
      "dense_75 (Dense)             (None, 1000)              6000      \n",
      "_________________________________________________________________\n",
      "dense_76 (Dense)             (None, 1000)              1001000   \n",
      "_________________________________________________________________\n",
      "default_out (Dense)          (None, 12)                12012     \n",
      "=================================================================\n",
      "Total params: 1,019,012\n",
      "Trainable params: 1,019,012\n",
      "Non-trainable params: 0\n",
      "_________________________________________________________________\n",
      "_________________________________________________________________\n",
      "Layer (type)                 Output Shape              Param #   \n",
      "=================================================================\n",
      "input_19 (InputLayer)        (None, 12)                0         \n",
      "_________________________________________________________________\n",
      "encoder (Model)              (None, 5)                 1019005   \n",
      "_________________________________________________________________\n",
      "decoder_sv (Model)           (None, 12)                1019012   \n",
      "=================================================================\n",
      "Total params: 2,038,017\n",
      "Trainable params: 2,038,017\n",
      "Non-trainable params: 0\n",
      "_________________________________________________________________\n",
      "_________________________________________________________________\n",
      "Layer (type)                 Output Shape              Param #   \n",
      "=================================================================\n",
      "input_20 (InputLayer)        (None, 15)                0         \n",
      "_________________________________________________________________\n",
      "dense_77 (Dense)             (None, 1000)              16000     \n",
      "_________________________________________________________________\n",
      "dense_78 (Dense)             (None, 1000)              1001000   \n",
      "_________________________________________________________________\n",
      "latent (Dense)               (None, 5)                 5005      \n",
      "=================================================================\n",
      "Total params: 1,022,005\n",
      "Trainable params: 1,022,005\n",
      "Non-trainable params: 0\n",
      "_________________________________________________________________\n",
      "_________________________________________________________________\n",
      "Layer (type)                 Output Shape              Param #   \n",
      "=================================================================\n",
      "decoder_input (InputLayer)   (None, 5)                 0         \n",
      "_________________________________________________________________\n",
      "dense_79 (Dense)             (None, 1000)              6000      \n",
      "_________________________________________________________________\n",
      "dense_80 (Dense)             (None, 1000)              1001000   \n",
      "_________________________________________________________________\n",
      "default_out (Dense)          (None, 15)                15015     \n",
      "=================================================================\n",
      "Total params: 1,022,015\n",
      "Trainable params: 1,022,015\n",
      "Non-trainable params: 0\n",
      "_________________________________________________________________\n",
      "_________________________________________________________________\n",
      "Layer (type)                 Output Shape              Param #   \n",
      "=================================================================\n",
      "input_20 (InputLayer)        (None, 15)                0         \n",
      "_________________________________________________________________\n",
      "encoder (Model)              (None, 5)                 1022005   \n",
      "_________________________________________________________________\n",
      "decoder_eng (Model)          (None, 15)                1022015   \n",
      "=================================================================\n",
      "Total params: 2,044,020\n",
      "Trainable params: 2,044,020\n",
      "Non-trainable params: 0\n",
      "_________________________________________________________________\n",
      "_________________________________________________________________\n",
      "Layer (type)                 Output Shape              Param #   \n",
      "=================================================================\n",
      "input_21 (InputLayer)        (None, 6)                 0         \n",
      "_________________________________________________________________\n",
      "dense_81 (Dense)             (None, 1000)              7000      \n",
      "_________________________________________________________________\n",
      "dense_82 (Dense)             (None, 1000)              1001000   \n",
      "_________________________________________________________________\n",
      "latent (Dense)               (None, 5)                 5005      \n",
      "=================================================================\n",
      "Total params: 1,013,005\n",
      "Trainable params: 1,013,005\n",
      "Non-trainable params: 0\n",
      "_________________________________________________________________\n",
      "_________________________________________________________________\n",
      "Layer (type)                 Output Shape              Param #   \n",
      "=================================================================\n",
      "decoder_input (InputLayer)   (None, 5)                 0         \n",
      "_________________________________________________________________\n",
      "dense_83 (Dense)             (None, 1000)              6000      \n",
      "_________________________________________________________________\n",
      "dense_84 (Dense)             (None, 1000)              1001000   \n",
      "_________________________________________________________________\n",
      "default_out (Dense)          (None, 6)                 6006      \n",
      "=================================================================\n",
      "Total params: 1,013,006\n",
      "Trainable params: 1,013,006\n",
      "Non-trainable params: 0\n",
      "_________________________________________________________________\n",
      "_________________________________________________________________\n",
      "Layer (type)                 Output Shape              Param #   \n",
      "=================================================================\n",
      "input_21 (InputLayer)        (None, 6)                 0         \n",
      "_________________________________________________________________\n",
      "encoder (Model)              (None, 5)                 1013005   \n",
      "_________________________________________________________________\n",
      "decoder_gb (Model)           (None, 6)                 1013006   \n",
      "=================================================================\n",
      "Total params: 2,026,011\n",
      "Trainable params: 2,026,011\n",
      "Non-trainable params: 0\n",
      "_________________________________________________________________\n",
      "_________________________________________________________________\n",
      "Layer (type)                 Output Shape              Param #   \n",
      "=================================================================\n",
      "input_22 (InputLayer)        (None, 21)                0         \n",
      "_________________________________________________________________\n",
      "dense_85 (Dense)             (None, 1000)              22000     \n",
      "_________________________________________________________________\n",
      "dense_86 (Dense)             (None, 1000)              1001000   \n",
      "_________________________________________________________________\n",
      "latent (Dense)               (None, 5)                 5005      \n",
      "=================================================================\n",
      "Total params: 1,028,005\n",
      "Trainable params: 1,028,005\n",
      "Non-trainable params: 0\n",
      "_________________________________________________________________\n",
      "_________________________________________________________________\n",
      "Layer (type)                 Output Shape              Param #   \n",
      "=================================================================\n",
      "decoder_input (InputLayer)   (None, 5)                 0         \n",
      "_________________________________________________________________\n",
      "dense_87 (Dense)             (None, 1000)              6000      \n",
      "_________________________________________________________________\n",
      "dense_88 (Dense)             (None, 1000)              1001000   \n",
      "_________________________________________________________________\n",
      "default_out (Dense)          (None, 21)                21021     \n",
      "=================================================================\n",
      "Total params: 1,028,021\n",
      "Trainable params: 1,028,021\n",
      "Non-trainable params: 0\n",
      "_________________________________________________________________\n",
      "_________________________________________________________________\n",
      "Layer (type)                 Output Shape              Param #   \n",
      "=================================================================\n",
      "input_22 (InputLayer)        (None, 21)                0         \n",
      "_________________________________________________________________\n",
      "encoder (Model)              (None, 5)                 1028005   \n",
      "_________________________________________________________________\n",
      "decoder_color (Model)        (None, 21)                1028021   \n",
      "=================================================================\n",
      "Total params: 2,056,026\n",
      "Trainable params: 2,056,026\n",
      "Non-trainable params: 0\n",
      "_________________________________________________________________\n",
      "_________________________________________________________________\n",
      "Layer (type)                 Output Shape              Param #   \n",
      "=================================================================\n",
      "input_23 (InputLayer)        (None, 65)                0         \n",
      "_________________________________________________________________\n",
      "dense_89 (Dense)             (None, 1000)              66000     \n",
      "_________________________________________________________________\n",
      "dense_90 (Dense)             (None, 1000)              1001000   \n",
      "_________________________________________________________________\n",
      "latent (Dense)               (None, 5)                 5005      \n",
      "=================================================================\n",
      "Total params: 1,072,005\n",
      "Trainable params: 1,072,005\n",
      "Non-trainable params: 0\n",
      "_________________________________________________________________\n",
      "_________________________________________________________________\n",
      "Layer (type)                 Output Shape              Param #   \n",
      "=================================================================\n",
      "decoder_input (InputLayer)   (None, 5)                 0         \n",
      "_________________________________________________________________\n",
      "dense_91 (Dense)             (None, 1000)              6000      \n",
      "_________________________________________________________________\n",
      "dense_92 (Dense)             (None, 1000)              1001000   \n",
      "_________________________________________________________________\n",
      "default_out (Dense)          (None, 65)                65065     \n",
      "=================================================================\n",
      "Total params: 1,072,065\n",
      "Trainable params: 1,072,065\n",
      "Non-trainable params: 0\n",
      "_________________________________________________________________\n",
      "_________________________________________________________________\n",
      "Layer (type)                 Output Shape              Param #   \n",
      "=================================================================\n",
      "input_23 (InputLayer)        (None, 65)                0         \n",
      "_________________________________________________________________\n",
      "encoder (Model)              (None, 5)                 1072005   \n",
      "_________________________________________________________________\n",
      "decoder_uph (Model)          (None, 65)                1072065   \n",
      "=================================================================\n",
      "Total params: 2,144,070\n",
      "Trainable params: 2,144,070\n",
      "Non-trainable params: 0\n",
      "_________________________________________________________________\n",
      "MCAE\n",
      "_________________________________________________________________\n",
      "Layer (type)                 Output Shape              Param #   \n",
      "=================================================================\n",
      "input_24 (InputLayer)        (None, 278)               0         \n",
      "_________________________________________________________________\n",
      "dense_93 (Dense)             (None, 1000)              279000    \n",
      "_________________________________________________________________\n",
      "dense_94 (Dense)             (None, 1000)              1001000   \n",
      "_________________________________________________________________\n",
      "latent (Dense)               (None, 5)                 5005      \n",
      "=================================================================\n",
      "Total params: 1,285,005\n",
      "Trainable params: 1,285,005\n",
      "Non-trainable params: 0\n",
      "_________________________________________________________________\n",
      "_________________________________________________________________\n",
      "Layer (type)                 Output Shape              Param #   \n",
      "=================================================================\n",
      "decoder_input (InputLayer)   (None, 5)                 0         \n",
      "_________________________________________________________________\n",
      "dense_95 (Dense)             (None, 1000)              6000      \n",
      "_________________________________________________________________\n",
      "dense_96 (Dense)             (None, 1000)              1001000   \n",
      "_________________________________________________________________\n",
      "default_out (Dense)          (None, 278)               278278    \n",
      "=================================================================\n",
      "Total params: 1,285,278\n",
      "Trainable params: 1,285,278\n",
      "Non-trainable params: 0\n",
      "_________________________________________________________________\n",
      "_________________________________________________________________\n",
      "Layer (type)                 Output Shape              Param #   \n",
      "=================================================================\n",
      "input_24 (InputLayer)        (None, 278)               0         \n",
      "_________________________________________________________________\n",
      "encoder (Model)              (None, 5)                 1285005   \n",
      "_________________________________________________________________\n",
      "decoder_opt (Model)          (None, 278)               1285278   \n",
      "=================================================================\n",
      "Total params: 2,570,283\n",
      "Trainable params: 2,570,283\n",
      "Non-trainable params: 0\n",
      "_________________________________________________________________\n"
     ]
    }
   ],
   "source": [
    "#the context autoencoder\n",
    "context_autoencoder = AutoEncoder(X_train_ct[user_columns].shape[1], 10)\n",
    "#car components auto encoders:\n",
    "ct_autoencoder = AutoEncoder(y_train_ct.shape[1], 5,loss='categorical_crossentropy',decoder_name='cartype')\n",
    "sv_autoencoder = AutoEncoder(y_train_sv.shape[1], 5, loss='categorical_crossentropy',decoder_name='sv')\n",
    "eng_autoencoder = AutoEncoder(y_train_eng.shape[1], 5,loss='categorical_crossentropy',decoder_name='eng')\n",
    "gb_autoencoder = AutoEncoder(y_train_gb.shape[1], 5,loss='categorical_crossentropy', decoder_name='gb')\n",
    "col_autoencoder = AutoEncoder(y_train_col.shape[1], 5,loss='categorical_crossentropy', decoder_name='color')\n",
    "uph_autoencoder = AutoEncoder(y_train_uph.shape[1], 5,loss='categorical_crossentropy', decoder_name='uph')\n",
    "opt_autoencoder = MultiClassAutoEncoder(y_train_opt.shape[1], 5,index_dist, decoder_name='opt')"
   ]
  },
  {
   "cell_type": "markdown",
   "metadata": {},
   "source": [
    "### How the autoencoder is structured"
   ]
  },
  {
   "cell_type": "code",
   "execution_count": 86,
   "metadata": {},
   "outputs": [
    {
     "data": {
      "image/png": "[encoded data removed]",
      "text/plain": [
       "<IPython.core.display.Image object>"
      ]
     },
     "metadata": {},
     "output_type": "display_data"
    }
   ],
   "source": [
    "plot_model(context_autoencoder.model, show_shapes=True, show_layer_names=True, to_file='context_autoencoder.png')\n",
    "display(Image(filename='context_autoencoder.png'))"
   ]
  },
  {
   "cell_type": "code",
   "execution_count": 87,
   "metadata": {},
   "outputs": [
    {
     "name": "stdout",
     "output_type": "stream",
     "text": [
      "Train on 109274 samples, validate on 7266 samples\n",
      "Epoch 1/5\n",
      " - 13s - loss: 0.0059 - val_loss: 0.0029\n",
      "Epoch 2/5\n",
      " - 9s - loss: 0.0019 - val_loss: 0.0014\n",
      "Epoch 3/5\n",
      " - 9s - loss: 0.0013 - val_loss: 0.0013\n",
      "Epoch 4/5\n",
      " - 9s - loss: 0.0013 - val_loss: 0.0013\n",
      "Epoch 5/5\n",
      " - 9s - loss: 0.0012 - val_loss: 0.0010\n"
     ]
    },
    {
     "data": {
      "text/plain": [
       "<keras.callbacks.History at 0x7f9ccec61ef0>"
      ]
     },
     "execution_count": 87,
     "metadata": {},
     "output_type": "execute_result"
    }
   ],
   "source": [
    "context_autoencoder.model.fit(X_train_ct[user_columns],X_train_ct[user_columns], validation_data=(dev[user_columns],dev[user_columns]), epochs=5,batch_size=512,verbose=2)"
   ]
  },
  {
   "cell_type": "code",
   "execution_count": 88,
   "metadata": {},
   "outputs": [
    {
     "name": "stdout",
     "output_type": "stream",
     "text": [
      "Train on 109274 samples, validate on 7266 samples\n",
      "Epoch 1/5\n",
      " - 17s - loss: 0.0592 - acc: 0.9848 - val_loss: 0.0391 - val_acc: 0.9876\n",
      "Epoch 2/5\n",
      " - 13s - loss: 0.0285 - acc: 0.9903 - val_loss: 0.0331 - val_acc: 0.9891\n",
      "Epoch 3/5\n",
      " - 13s - loss: 0.0241 - acc: 0.9916 - val_loss: 0.0307 - val_acc: 0.9898\n",
      "Epoch 4/5\n",
      " - 13s - loss: 0.0217 - acc: 0.9924 - val_loss: 0.0294 - val_acc: 0.9903\n",
      "Epoch 5/5\n",
      " - 13s - loss: 0.0200 - acc: 0.9929 - val_loss: 0.0287 - val_acc: 0.9906\n"
     ]
    },
    {
     "data": {
      "text/plain": [
       "<keras.callbacks.History at 0x7f9ccec61cc0>"
      ]
     },
     "execution_count": 88,
     "metadata": {},
     "output_type": "execute_result"
    }
   ],
   "source": [
    "opt_autoencoder.model.fit(y_train_opt,y_train_opt,validation_data=(remap(dev['OPT_CODES_onehot']),remap(dev['OPT_CODES_onehot'])), epochs=5, batch_size=256,verbose=2)"
   ]
  },
  {
   "cell_type": "code",
   "execution_count": 89,
   "metadata": {},
   "outputs": [
    {
     "name": "stdout",
     "output_type": "stream",
     "text": [
      "Train on 109274 samples, validate on 7266 samples\n",
      "Epoch 1/5\n",
      " - 14s - loss: 0.0504 - acc: 0.9894 - val_loss: 1.4756e-07 - val_acc: 1.0000\n",
      "Epoch 2/5\n",
      " - 10s - loss: 1.2753e-07 - acc: 1.0000 - val_loss: 1.1921e-07 - val_acc: 1.0000\n",
      "Epoch 3/5\n",
      " - 10s - loss: 1.1921e-07 - acc: 1.0000 - val_loss: 1.1921e-07 - val_acc: 1.0000\n",
      "Epoch 4/5\n",
      " - 10s - loss: 1.1921e-07 - acc: 1.0000 - val_loss: 1.1921e-07 - val_acc: 1.0000\n",
      "Epoch 5/5\n",
      " - 10s - loss: 1.1921e-07 - acc: 1.0000 - val_loss: 1.1921e-07 - val_acc: 1.0000\n"
     ]
    },
    {
     "data": {
      "text/plain": [
       "<keras.callbacks.History at 0x7f9ce2986828>"
      ]
     },
     "execution_count": 89,
     "metadata": {},
     "output_type": "execute_result"
    }
   ],
   "source": [
    "ct_autoencoder.model.fit(y_train_ct,y_train_ct,validation_data=(remap(dev['TYPECODE_onehot']),remap(dev['TYPECODE_onehot'])), epochs=5, batch_size=256,verbose=2)"
   ]
  },
  {
   "cell_type": "code",
   "execution_count": 90,
   "metadata": {},
   "outputs": [
    {
     "name": "stdout",
     "output_type": "stream",
     "text": [
      "Train on 136587 samples, validate on 7266 samples\n",
      "Epoch 1/5\n",
      " - 16s - loss: 0.0412 - acc: 0.9932 - val_loss: 1.1933e-07 - val_acc: 1.0000\n",
      "Epoch 2/5\n",
      " - 12s - loss: 1.1923e-07 - acc: 1.0000 - val_loss: 1.1921e-07 - val_acc: 1.0000\n",
      "Epoch 3/5\n",
      " - 12s - loss: 1.1921e-07 - acc: 1.0000 - val_loss: 1.1921e-07 - val_acc: 1.0000\n",
      "Epoch 4/5\n",
      " - 12s - loss: 1.1921e-07 - acc: 1.0000 - val_loss: 1.1921e-07 - val_acc: 1.0000\n",
      "Epoch 5/5\n",
      " - 12s - loss: 1.1921e-07 - acc: 1.0000 - val_loss: 1.1921e-07 - val_acc: 1.0000\n"
     ]
    },
    {
     "data": {
      "text/plain": [
       "<keras.callbacks.History at 0x7f9faf0c5390>"
      ]
     },
     "execution_count": 90,
     "metadata": {},
     "output_type": "execute_result"
    }
   ],
   "source": [
    "sv_autoencoder.model.fit(y_train_sv,y_train_sv,validation_data=(remap(dev['SALESVERSIONCODE_onehot']),remap(dev['SALESVERSIONCODE_onehot'])), epochs=5, batch_size=256,verbose=2)"
   ]
  },
  {
   "cell_type": "code",
   "execution_count": 91,
   "metadata": {},
   "outputs": [
    {
     "name": "stdout",
     "output_type": "stream",
     "text": [
      "Train on 143520 samples, validate on 7266 samples\n",
      "Epoch 1/5\n",
      " - 17s - loss: 0.0492 - acc: 0.9908 - val_loss: 2.9079e-07 - val_acc: 1.0000\n",
      "Epoch 2/5\n",
      " - 13s - loss: 2.1269e-07 - acc: 1.0000 - val_loss: 1.3690e-07 - val_acc: 1.0000\n",
      "Epoch 3/5\n",
      " - 13s - loss: 1.5750e-07 - acc: 1.0000 - val_loss: 1.2932e-07 - val_acc: 1.0000\n",
      "Epoch 4/5\n",
      " - 13s - loss: 1.3841e-07 - acc: 1.0000 - val_loss: 1.2300e-07 - val_acc: 1.0000\n",
      "Epoch 5/5\n",
      " - 13s - loss: 1.2506e-07 - acc: 1.0000 - val_loss: 1.2047e-07 - val_acc: 1.0000\n"
     ]
    },
    {
     "data": {
      "text/plain": [
       "<keras.callbacks.History at 0x7f9ce1c04588>"
      ]
     },
     "execution_count": 91,
     "metadata": {},
     "output_type": "execute_result"
    }
   ],
   "source": [
    "eng_autoencoder.model.fit(y_train_eng,y_train_eng,validation_data=(remap(dev['ENGINECODE_onehot']),remap(dev['ENGINECODE_onehot'])), epochs=5, batch_size=256,verbose=2)"
   ]
  },
  {
   "cell_type": "code",
   "execution_count": 92,
   "metadata": {},
   "outputs": [
    {
     "name": "stdout",
     "output_type": "stream",
     "text": [
      "Train on 92982 samples, validate on 7266 samples\n",
      "Epoch 1/5\n",
      " - 13s - loss: 0.0357 - acc: 0.9917 - val_loss: 1.1921e-07 - val_acc: 1.0000\n",
      "Epoch 2/5\n",
      " - 8s - loss: 1.1921e-07 - acc: 1.0000 - val_loss: 1.1921e-07 - val_acc: 1.0000\n",
      "Epoch 3/5\n",
      " - 8s - loss: 1.1921e-07 - acc: 1.0000 - val_loss: 1.1921e-07 - val_acc: 1.0000\n",
      "Epoch 4/5\n",
      " - 8s - loss: 1.1921e-07 - acc: 1.0000 - val_loss: 1.1921e-07 - val_acc: 1.0000\n",
      "Epoch 5/5\n",
      " - 8s - loss: 1.1921e-07 - acc: 1.0000 - val_loss: 1.1921e-07 - val_acc: 1.0000\n"
     ]
    },
    {
     "data": {
      "text/plain": [
       "<keras.callbacks.History at 0x7f9ce59aacf8>"
      ]
     },
     "execution_count": 92,
     "metadata": {},
     "output_type": "execute_result"
    }
   ],
   "source": [
    "gb_autoencoder.model.fit(y_train_gb,y_train_gb,validation_data=(remap(dev['GEARBOXCODE_onehot']),remap(dev['GEARBOXCODE_onehot'])), epochs=5, batch_size=256,verbose=2)"
   ]
  },
  {
   "cell_type": "code",
   "execution_count": 93,
   "metadata": {},
   "outputs": [
    {
     "name": "stdout",
     "output_type": "stream",
     "text": [
      "Train on 156488 samples, validate on 7266 samples\n",
      "Epoch 1/5\n",
      " - 18s - loss: 0.0661 - acc: 0.9811 - val_loss: 2.2141e-06 - val_acc: 1.0000\n",
      "Epoch 2/5\n",
      " - 14s - loss: 9.4613e-07 - acc: 1.0000 - val_loss: 6.5413e-07 - val_acc: 1.0000\n",
      "Epoch 3/5\n",
      " - 14s - loss: 3.6901e-07 - acc: 1.0000 - val_loss: 3.0710e-07 - val_acc: 1.0000\n",
      "Epoch 4/5\n",
      " - 14s - loss: 2.2527e-07 - acc: 1.0000 - val_loss: 2.0030e-07 - val_acc: 1.0000\n",
      "Epoch 5/5\n",
      " - 14s - loss: 1.6965e-07 - acc: 1.0000 - val_loss: 1.5864e-07 - val_acc: 1.0000\n"
     ]
    },
    {
     "data": {
      "text/plain": [
       "<keras.callbacks.History at 0x7f9ce40e3320>"
      ]
     },
     "execution_count": 93,
     "metadata": {},
     "output_type": "execute_result"
    }
   ],
   "source": [
    "col_autoencoder.model.fit(y_train_col,y_train_col,validation_data=(remap(dev['COLOUR_onehot']),remap(dev['COLOUR_onehot'])), epochs=5, batch_size=256,verbose=2)"
   ]
  },
  {
   "cell_type": "code",
   "execution_count": 94,
   "metadata": {},
   "outputs": [
    {
     "name": "stdout",
     "output_type": "stream",
     "text": [
      "Train on 73563 samples, validate on 7266 samples\n",
      "Epoch 1/5\n",
      " - 12s - loss: 0.2994 - acc: 0.9303 - val_loss: 4.4037e-05 - val_acc: 1.0000\n",
      "Epoch 2/5\n",
      " - 7s - loss: 2.4134e-05 - acc: 1.0000 - val_loss: 1.2295e-05 - val_acc: 1.0000\n",
      "Epoch 3/5\n",
      " - 7s - loss: 9.7168e-06 - acc: 1.0000 - val_loss: 6.2016e-06 - val_acc: 1.0000\n",
      "Epoch 4/5\n",
      " - 7s - loss: 5.4212e-06 - acc: 1.0000 - val_loss: 3.7802e-06 - val_acc: 1.0000\n",
      "Epoch 5/5\n",
      " - 7s - loss: 3.4348e-06 - acc: 1.0000 - val_loss: 2.4845e-06 - val_acc: 1.0000\n"
     ]
    },
    {
     "data": {
      "text/plain": [
       "<keras.callbacks.History at 0x7f9f66dfc588>"
      ]
     },
     "execution_count": 94,
     "metadata": {},
     "output_type": "execute_result"
    }
   ],
   "source": [
    "uph_autoencoder.model.fit(y_train_uph,y_train_uph,validation_data=(remap(dev['UPHOLSTERY_onehot']),remap(dev['UPHOLSTERY_onehot'])), epochs=5, batch_size=256,verbose=2)"
   ]
  },
  {
   "cell_type": "markdown",
   "metadata": {},
   "source": [
    "## The AutoInOutModel\n",
    "This is a special construction, Here we make use of the context encoder, and the car components auto decoders.\n",
    "In between these, we create a model that will try to learn the mapping between the context, and the respective component(s). The encoder/decoders are also not trainable in this step, (they were fitted earlier)"
   ]
  },
  {
   "cell_type": "code",
   "execution_count": 95,
   "metadata": {},
   "outputs": [
    {
     "name": "stdout",
     "output_type": "stream",
     "text": [
      "_________________________________________________________________\n",
      "Layer (type)                 Output Shape              Param #   \n",
      "=================================================================\n",
      "input_17 (InputLayer)        (None, 54)                0         \n",
      "_________________________________________________________________\n",
      "encoder (Model)              (None, 10)                1066010   \n",
      "_________________________________________________________________\n",
      "decoder_cartype_model_inbetw (None, 5)                 1223905   \n",
      "_________________________________________________________________\n",
      "decoder_cartype (Model)      (None, 11)                1018011   \n",
      "=================================================================\n",
      "Total params: 3,307,926\n",
      "Trainable params: 1,223,905\n",
      "Non-trainable params: 2,084,021\n",
      "_________________________________________________________________\n",
      "_________________________________________________________________\n",
      "Layer (type)                 Output Shape              Param #   \n",
      "=================================================================\n",
      "input_17 (InputLayer)        (None, 54)                0         \n",
      "_________________________________________________________________\n",
      "encoder (Model)              (None, 10)                1066010   \n",
      "_________________________________________________________________\n",
      "decoder_eng_model_inbetwee ( (None, 5)                 1223905   \n",
      "_________________________________________________________________\n",
      "decoder_eng (Model)          (None, 15)                1022015   \n",
      "=================================================================\n",
      "Total params: 3,311,930\n",
      "Trainable params: 1,223,905\n",
      "Non-trainable params: 2,088,025\n",
      "_________________________________________________________________\n",
      "_________________________________________________________________\n",
      "Layer (type)                 Output Shape              Param #   \n",
      "=================================================================\n",
      "input_17 (InputLayer)        (None, 54)                0         \n",
      "_________________________________________________________________\n",
      "encoder (Model)              (None, 10)                1066010   \n",
      "_________________________________________________________________\n",
      "decoder_gb_model_inbetwee (M (None, 5)                 1223905   \n",
      "_________________________________________________________________\n",
      "decoder_gb (Model)           (None, 6)                 1013006   \n",
      "=================================================================\n",
      "Total params: 3,302,921\n",
      "Trainable params: 1,223,905\n",
      "Non-trainable params: 2,079,016\n",
      "_________________________________________________________________\n",
      "_________________________________________________________________\n",
      "Layer (type)                 Output Shape              Param #   \n",
      "=================================================================\n",
      "input_17 (InputLayer)        (None, 54)                0         \n",
      "_________________________________________________________________\n",
      "encoder (Model)              (None, 10)                1066010   \n",
      "_________________________________________________________________\n",
      "decoder_sv_model_inbetwee (M (None, 5)                 1223905   \n",
      "_________________________________________________________________\n",
      "decoder_sv (Model)           (None, 12)                1019012   \n",
      "=================================================================\n",
      "Total params: 3,308,927\n",
      "Trainable params: 1,223,905\n",
      "Non-trainable params: 2,085,022\n",
      "_________________________________________________________________\n",
      "_________________________________________________________________\n",
      "Layer (type)                 Output Shape              Param #   \n",
      "=================================================================\n",
      "input_17 (InputLayer)        (None, 54)                0         \n",
      "_________________________________________________________________\n",
      "encoder (Model)              (None, 10)                1066010   \n",
      "_________________________________________________________________\n",
      "decoder_color_model_inbetwee (None, 5)                 1223905   \n",
      "_________________________________________________________________\n",
      "decoder_color (Model)        (None, 21)                1028021   \n",
      "=================================================================\n",
      "Total params: 3,317,936\n",
      "Trainable params: 1,223,905\n",
      "Non-trainable params: 2,094,031\n",
      "_________________________________________________________________\n",
      "_________________________________________________________________\n",
      "Layer (type)                 Output Shape              Param #   \n",
      "=================================================================\n",
      "input_17 (InputLayer)        (None, 54)                0         \n",
      "_________________________________________________________________\n",
      "encoder (Model)              (None, 10)                1066010   \n",
      "_________________________________________________________________\n",
      "decoder_uph_model_inbetwee ( (None, 5)                 1223905   \n",
      "_________________________________________________________________\n",
      "decoder_uph (Model)          (None, 65)                1072065   \n",
      "=================================================================\n",
      "Total params: 3,361,980\n",
      "Trainable params: 1,223,905\n",
      "Non-trainable params: 2,138,075\n",
      "_________________________________________________________________\n",
      "_________________________________________________________________\n",
      "Layer (type)                 Output Shape              Param #   \n",
      "=================================================================\n",
      "input_17 (InputLayer)        (None, 54)                0         \n",
      "_________________________________________________________________\n",
      "encoder (Model)              (None, 10)                1066010   \n",
      "_________________________________________________________________\n",
      "decoder_opt_model_inbetwee ( (None, 5)                 1223905   \n",
      "_________________________________________________________________\n",
      "decoder_opt (Model)          (None, 278)               1285278   \n",
      "=================================================================\n",
      "Total params: 3,575,193\n",
      "Trainable params: 1,223,905\n",
      "Non-trainable params: 2,351,288\n",
      "_________________________________________________________________\n"
     ]
    }
   ],
   "source": [
    "class AutoInOutModel:\n",
    "    def __init__(self, in_autoencoder, out_autoencoders):\n",
    "        self.in_autoencoder = in_autoencoder\n",
    "        self.out_autoencoders = out_autoencoders\n",
    "        self._build()\n",
    "        \n",
    "    def _build(self):\n",
    "\n",
    "        x1_encoder = self.in_autoencoder.get_encoder()\n",
    "        \n",
    "        x1_inputs = x1_encoder.inputs[0]\n",
    "        \n",
    "        m_inputs = Input(shape=(x1_encoder.outputs[0].shape[1].value,),name='in_middle')\n",
    "        \n",
    "        outputs = []\n",
    "        for i in range(len(self.out_autoencoders)):\n",
    "            middle=Dense(100,name='middle')(m_inputs)\n",
    "            throttle = Dense(1000,name=f'{i}_throttle_middle_1')(LeakyReLU()(middle))\n",
    "            throttle = Dense(1000,name=f'{i}_throttle_middle_2')(LeakyReLU()(throttle))\n",
    "            throttle = Dense(100,name=f'{i}_throttle_middle_3')(LeakyReLU()(throttle))\n",
    "            throttle = Dense(100,name=f'{i}_throttle_middle_4')(LeakyReLU()(throttle))\n",
    "            #throttle = Dense(1000,name=f'{i}_throttle_middle_5')(LeakyReLU()(throttle))\n",
    "            #throttle = Dense(1000,name=f'{i}_throttle_middle_6')(LeakyReLU()(throttle))\n",
    "            \n",
    "            #throttle = Dense(1000,name=f'{i}_throttle_middle_7')(LeakyReLU()(throttle))\n",
    "            \n",
    "            throttle = Dense(100,name=f'{i}_throttle_middle_8')(LeakyReLU()(throttle))\n",
    "            \n",
    "            throttle = Dense(5,name=f'{i}_throttle_middle_9')(LeakyReLU()(throttle))\n",
    "            decoder = self.out_autoencoders[i].get_decoder()\n",
    "            middlemodel = Model(m_inputs,throttle,name=f'{decoder.name}_model_inbetwee')\n",
    "            outputs += [decoder(middlemodel(x1_encoder(x1_inputs)))]       \n",
    "        \n",
    "        self.model = Model(x1_inputs,outputs,name='complete')\n",
    "        self.model.compile(loss='categorical_crossentropy', optimizer=optimizers.Adam(0.001),metrics=['accuracy'])\n",
    "        self.model.summary()\n",
    "        \n",
    "ct_automodel = AutoInOutModel(context_autoencoder,[ct_autoencoder])\n",
    "eng_automodel = AutoInOutModel(context_autoencoder,[eng_autoencoder])\n",
    "gb_automodel = AutoInOutModel(context_autoencoder,[gb_autoencoder])\n",
    "sv_automodel = AutoInOutModel(context_autoencoder,[sv_autoencoder])\n",
    "col_automodel = AutoInOutModel(context_autoencoder,[col_autoencoder])\n",
    "uph_automodel = AutoInOutModel(context_autoencoder,[uph_autoencoder])\n",
    "opt_automodel = AutoInOutModel(context_autoencoder,[opt_autoencoder])"
   ]
  },
  {
   "cell_type": "code",
   "execution_count": null,
   "metadata": {},
   "outputs": [],
   "source": []
  },
  {
   "cell_type": "code",
   "execution_count": 96,
   "metadata": {},
   "outputs": [
    {
     "name": "stdout",
     "output_type": "stream",
     "text": [
      "_________________________________________________________________\n",
      "Layer (type)                 Output Shape              Param #   \n",
      "=================================================================\n",
      "input_17 (InputLayer)        (None, 54)                0         \n",
      "_________________________________________________________________\n",
      "encoder (Model)              (None, 10)                1066010   \n",
      "_________________________________________________________________\n",
      "decoder_opt_model_inbetwee ( (None, 5)                 1223905   \n",
      "_________________________________________________________________\n",
      "decoder_opt (Model)          (None, 278)               1285278   \n",
      "=================================================================\n",
      "Total params: 3,575,193\n",
      "Trainable params: 1,223,905\n",
      "Non-trainable params: 2,351,288\n",
      "_________________________________________________________________\n"
     ]
    }
   ],
   "source": [
    "opt_automodel = AutoInOutModel(context_autoencoder,[opt_autoencoder])"
   ]
  },
  {
   "cell_type": "code",
   "execution_count": null,
   "metadata": {},
   "outputs": [],
   "source": []
  },
  {
   "cell_type": "code",
   "execution_count": 97,
   "metadata": {
    "scrolled": false
   },
   "outputs": [
    {
     "name": "stdout",
     "output_type": "stream",
     "text": [
      "Train on 109274 samples, validate on 7266 samples\n",
      "Epoch 1/25\n",
      "109274/109274 [==============================] - 30s 276us/step - loss: 24.2543 - acc: 0.0056 - val_loss: 25.3499 - val_acc: 0.0034\n",
      "Epoch 2/25\n",
      "109274/109274 [==============================] - 26s 234us/step - loss: 24.0698 - acc: 0.0042 - val_loss: 25.3534 - val_acc: 0.0034\n",
      "Epoch 3/25\n",
      "109274/109274 [==============================] - 26s 237us/step - loss: 24.0429 - acc: 0.0041 - val_loss: 25.2962 - val_acc: 0.0036\n",
      "Epoch 4/25\n",
      "109274/109274 [==============================] - 26s 238us/step - loss: 24.0553 - acc: 0.0070 - val_loss: 25.3273 - val_acc: 0.0034\n",
      "Epoch 5/25\n",
      "109274/109274 [==============================] - 26s 236us/step - loss: 23.9988 - acc: 0.0044 - val_loss: 25.3573 - val_acc: 0.0036\n",
      "Epoch 6/25\n",
      "109274/109274 [==============================] - 26s 237us/step - loss: 23.9867 - acc: 0.0044 - val_loss: 25.3318 - val_acc: 0.0039\n",
      "Epoch 7/25\n",
      "109274/109274 [==============================] - 26s 239us/step - loss: 23.9626 - acc: 0.0051 - val_loss: 25.3317 - val_acc: 0.0034\n",
      "Epoch 8/25\n",
      "109274/109274 [==============================] - 26s 237us/step - loss: 23.9362 - acc: 0.0066 - val_loss: 25.3205 - val_acc: 0.0034\n",
      "Epoch 9/25\n",
      "109274/109274 [==============================] - 26s 238us/step - loss: 23.9054 - acc: 0.0045 - val_loss: 25.3822 - val_acc: 0.0036\n",
      "Epoch 10/25\n",
      "109274/109274 [==============================] - 26s 238us/step - loss: 23.8892 - acc: 0.0058 - val_loss: 25.4738 - val_acc: 0.0036\n",
      "Epoch 11/25\n",
      "109274/109274 [==============================] - 26s 237us/step - loss: 23.8554 - acc: 0.0070 - val_loss: 25.4273 - val_acc: 0.0039\n",
      "Epoch 12/25\n",
      "109274/109274 [==============================] - 26s 238us/step - loss: 23.8173 - acc: 0.0046 - val_loss: 25.4090 - val_acc: 0.0036\n",
      "Epoch 13/25\n",
      "109274/109274 [==============================] - 26s 238us/step - loss: 23.7868 - acc: 0.0060 - val_loss: 25.3047 - val_acc: 0.0034\n",
      "Epoch 14/25\n",
      "109274/109274 [==============================] - 26s 237us/step - loss: 23.7522 - acc: 0.0051 - val_loss: 25.4748 - val_acc: 0.0033\n",
      "Epoch 15/25\n",
      "109274/109274 [==============================] - 26s 238us/step - loss: 23.7146 - acc: 0.0050 - val_loss: 25.4456 - val_acc: 0.0034\n",
      "Epoch 16/25\n",
      "109274/109274 [==============================] - 26s 238us/step - loss: 23.6768 - acc: 0.0054 - val_loss: 25.4591 - val_acc: 0.0039\n",
      "Epoch 17/25\n",
      "109274/109274 [==============================] - 26s 239us/step - loss: 23.6310 - acc: 0.0045 - val_loss: 25.5330 - val_acc: 0.0036\n",
      "Epoch 18/25\n",
      "109274/109274 [==============================] - 26s 239us/step - loss: 23.5804 - acc: 0.0048 - val_loss: 25.5106 - val_acc: 0.0036\n",
      "Epoch 19/25\n",
      "109274/109274 [==============================] - 26s 238us/step - loss: 23.5400 - acc: 0.0047 - val_loss: 25.5790 - val_acc: 0.0034\n",
      "Epoch 20/25\n",
      "109274/109274 [==============================] - 26s 237us/step - loss: 23.5011 - acc: 0.0058 - val_loss: 25.5516 - val_acc: 0.0036\n",
      "Epoch 21/25\n",
      "109274/109274 [==============================] - 26s 239us/step - loss: 23.4501 - acc: 0.0049 - val_loss: 25.7282 - val_acc: 0.0040\n",
      "Epoch 22/25\n",
      "109274/109274 [==============================] - 26s 236us/step - loss: 23.4038 - acc: 0.0052 - val_loss: 25.8610 - val_acc: 0.0040\n",
      "Epoch 23/25\n",
      "109274/109274 [==============================] - 26s 239us/step - loss: 23.3399 - acc: 0.0054 - val_loss: 25.7823 - val_acc: 0.0043\n",
      "Epoch 24/25\n",
      "109274/109274 [==============================] - 26s 238us/step - loss: 23.2997 - acc: 0.0052 - val_loss: 25.7305 - val_acc: 0.0051\n",
      "Epoch 25/25\n",
      "109274/109274 [==============================] - 26s 237us/step - loss: 23.2486 - acc: 0.0061 - val_loss: 25.9958 - val_acc: 0.0034\n"
     ]
    }
   ],
   "source": [
    "history=opt_automodel.model.fit(X_train_opt[user_columns],[y_train_opt],validation_data=(dev[user_columns], remap(dev['OPT_CODES_onehot'])),epochs=25,batch_size=128)"
   ]
  },
  {
   "cell_type": "code",
   "execution_count": 98,
   "metadata": {
    "scrolled": true
   },
   "outputs": [
    {
     "name": "stdout",
     "output_type": "stream",
     "text": [
      "Train on 109274 samples, validate on 7266 samples\n",
      "Epoch 1/500\n",
      "109274/109274 [==============================] - 15s 133us/step - loss: 2.1578 - acc: 0.2134 - val_loss: 2.3745 - val_acc: 0.1068\n",
      "Epoch 2/500\n",
      "109274/109274 [==============================] - 13s 123us/step - loss: 2.1310 - acc: 0.2277 - val_loss: 2.3765 - val_acc: 0.1162\n",
      "Epoch 3/500\n",
      "109274/109274 [==============================] - 13s 123us/step - loss: 2.1189 - acc: 0.2362 - val_loss: 2.3654 - val_acc: 0.0930\n",
      "Epoch 4/500\n",
      "109274/109274 [==============================] - 13s 123us/step - loss: 2.1031 - acc: 0.2466 - val_loss: 2.3757 - val_acc: 0.1035\n",
      "Epoch 5/500\n",
      "109274/109274 [==============================] - 13s 122us/step - loss: 2.0853 - acc: 0.2594 - val_loss: 2.3956 - val_acc: 0.0929\n",
      "Epoch 6/500\n",
      "109274/109274 [==============================] - 13s 123us/step - loss: 2.0667 - acc: 0.2686 - val_loss: 2.4319 - val_acc: 0.0848\n",
      "Epoch 7/500\n",
      "109274/109274 [==============================] - 13s 122us/step - loss: 2.0457 - acc: 0.2792 - val_loss: 2.4388 - val_acc: 0.0996\n",
      "Epoch 8/500\n",
      "109274/109274 [==============================] - 13s 123us/step - loss: 2.0223 - acc: 0.2946 - val_loss: 2.4547 - val_acc: 0.0973\n",
      "\n",
      "Epoch 00008: ReduceLROnPlateau reducing learning rate to 0.00010000000474974513.\n",
      "Epoch 9/500\n",
      "109274/109274 [==============================] - 13s 123us/step - loss: 1.9411 - acc: 0.3321 - val_loss: 2.4490 - val_acc: 0.0984\n",
      "Epoch 10/500\n",
      "109274/109274 [==============================] - 13s 123us/step - loss: 1.9140 - acc: 0.3469 - val_loss: 2.4687 - val_acc: 0.1003\n",
      "Epoch 11/500\n",
      "109274/109274 [==============================] - 13s 123us/step - loss: 1.8980 - acc: 0.3548 - val_loss: 2.4843 - val_acc: 0.0939\n",
      "Epoch 12/500\n",
      "109274/109274 [==============================] - 13s 123us/step - loss: 1.8834 - acc: 0.3625 - val_loss: 2.4806 - val_acc: 0.1006\n",
      "Epoch 13/500\n",
      "109274/109274 [==============================] - 13s 123us/step - loss: 1.8709 - acc: 0.3687 - val_loss: 2.4945 - val_acc: 0.0948\n",
      "\n",
      "Epoch 00013: ReduceLROnPlateau reducing learning rate to 1.0000000474974514e-05.\n",
      "Train on 143520 samples, validate on 7266 samples\n",
      "Epoch 1/500\n",
      "143520/143520 [==============================] - 19s 130us/step - loss: 2.5616 - acc: 0.1819 - val_loss: 3.0112 - val_acc: 0.0337\n",
      "Epoch 2/500\n",
      "143520/143520 [==============================] - 17s 122us/step - loss: 2.3417 - acc: 0.2706 - val_loss: 2.9550 - val_acc: 0.0630\n",
      "Epoch 3/500\n",
      "143520/143520 [==============================] - 18s 122us/step - loss: 2.2161 - acc: 0.3250 - val_loss: 3.0759 - val_acc: 0.0749\n",
      "Epoch 4/500\n",
      "143520/143520 [==============================] - 17s 122us/step - loss: 2.1266 - acc: 0.3649 - val_loss: 3.1448 - val_acc: 0.0768\n",
      "Epoch 5/500\n",
      "143520/143520 [==============================] - 17s 122us/step - loss: 2.0579 - acc: 0.3925 - val_loss: 3.1612 - val_acc: 0.0922\n",
      "Epoch 6/500\n",
      "143520/143520 [==============================] - 17s 121us/step - loss: 2.0091 - acc: 0.4123 - val_loss: 3.0844 - val_acc: 0.0936\n",
      "Epoch 7/500\n",
      "143520/143520 [==============================] - 17s 122us/step - loss: 1.9644 - acc: 0.4300 - val_loss: 3.0931 - val_acc: 0.0940\n",
      "\n",
      "Epoch 00007: ReduceLROnPlateau reducing learning rate to 0.00010000000474974513.\n",
      "Epoch 8/500\n",
      "143520/143520 [==============================] - 17s 122us/step - loss: 1.8062 - acc: 0.4853 - val_loss: 3.1660 - val_acc: 0.1082\n",
      "Epoch 9/500\n",
      "143520/143520 [==============================] - 17s 121us/step - loss: 1.7759 - acc: 0.4967 - val_loss: 3.1487 - val_acc: 0.1079\n",
      "Epoch 10/500\n",
      "143520/143520 [==============================] - 17s 121us/step - loss: 1.7610 - acc: 0.5009 - val_loss: 3.1776 - val_acc: 0.1043\n",
      "Epoch 11/500\n",
      "143520/143520 [==============================] - 17s 121us/step - loss: 1.7487 - acc: 0.5053 - val_loss: 3.1849 - val_acc: 0.1024\n",
      "Epoch 12/500\n",
      "143520/143520 [==============================] - 17s 122us/step - loss: 1.7380 - acc: 0.5096 - val_loss: 3.1333 - val_acc: 0.1091\n",
      "\n",
      "Epoch 00012: ReduceLROnPlateau reducing learning rate to 1.0000000474974514e-05.\n",
      "Train on 92982 samples, validate on 7266 samples\n",
      "Epoch 1/500\n",
      "92982/92982 [==============================] - 13s 135us/step - loss: 1.5514 - acc: 0.3252 - val_loss: 1.7547 - val_acc: 0.1613\n",
      "Epoch 2/500\n",
      "92982/92982 [==============================] - 11s 122us/step - loss: 1.4405 - acc: 0.3633 - val_loss: 1.6832 - val_acc: 0.1499\n",
      "Epoch 3/500\n",
      "92982/92982 [==============================] - 11s 122us/step - loss: 1.4176 - acc: 0.3770 - val_loss: 1.7114 - val_acc: 0.1338\n",
      "Epoch 4/500\n",
      "92982/92982 [==============================] - 11s 122us/step - loss: 1.4037 - acc: 0.3894 - val_loss: 1.6395 - val_acc: 0.1902\n",
      "Epoch 5/500\n",
      "92982/92982 [==============================] - 11s 122us/step - loss: 1.3961 - acc: 0.3949 - val_loss: 1.6513 - val_acc: 0.1854\n",
      "Epoch 6/500\n",
      "92982/92982 [==============================] - 11s 122us/step - loss: 1.3862 - acc: 0.4039 - val_loss: 1.6423 - val_acc: 0.2085\n",
      "Epoch 7/500\n",
      "92982/92982 [==============================] - 11s 122us/step - loss: 1.3712 - acc: 0.4181 - val_loss: 1.7227 - val_acc: 0.1486\n",
      "Epoch 8/500\n",
      "92982/92982 [==============================] - 11s 122us/step - loss: 1.3599 - acc: 0.4241 - val_loss: 1.6535 - val_acc: 0.2228\n",
      "Epoch 9/500\n",
      "92982/92982 [==============================] - 11s 122us/step - loss: 1.3481 - acc: 0.4319 - val_loss: 1.6931 - val_acc: 0.1857\n",
      "\n",
      "Epoch 00009: ReduceLROnPlateau reducing learning rate to 0.00010000000474974513.\n",
      "Epoch 10/500\n",
      "92982/92982 [==============================] - 11s 122us/step - loss: 1.2901 - acc: 0.4714 - val_loss: 1.7097 - val_acc: 0.1690\n",
      "Epoch 11/500\n",
      "92982/92982 [==============================] - 11s 122us/step - loss: 1.2699 - acc: 0.4825 - val_loss: 1.7033 - val_acc: 0.1803\n",
      "Epoch 12/500\n",
      "92982/92982 [==============================] - 11s 122us/step - loss: 1.2585 - acc: 0.4900 - val_loss: 1.6946 - val_acc: 0.1957\n",
      "Epoch 13/500\n",
      "92982/92982 [==============================] - 11s 122us/step - loss: 1.2493 - acc: 0.4950 - val_loss: 1.6894 - val_acc: 0.2056\n",
      "Epoch 14/500\n",
      "92982/92982 [==============================] - 11s 122us/step - loss: 1.2401 - acc: 0.4989 - val_loss: 1.7145 - val_acc: 0.1945\n",
      "\n",
      "Epoch 00014: ReduceLROnPlateau reducing learning rate to 1.0000000474974514e-05.\n",
      "Train on 136587 samples, validate on 7266 samples\n",
      "Epoch 1/500\n",
      "136587/136587 [==============================] - 19s 138us/step - loss: 2.1399 - acc: 0.2605 - val_loss: 2.5029 - val_acc: 0.0742\n",
      "Epoch 2/500\n",
      "136587/136587 [==============================] - 17s 127us/step - loss: 1.7682 - acc: 0.4415 - val_loss: 2.6476 - val_acc: 0.0688\n",
      "Epoch 3/500\n",
      "136587/136587 [==============================] - 17s 128us/step - loss: 1.5882 - acc: 0.5162 - val_loss: 2.7005 - val_acc: 0.0725\n",
      "Epoch 4/500\n",
      "136587/136587 [==============================] - 17s 127us/step - loss: 1.4936 - acc: 0.5480 - val_loss: 2.7364 - val_acc: 0.0685\n",
      "Epoch 5/500\n",
      "136587/136587 [==============================] - 17s 127us/step - loss: 1.4427 - acc: 0.5624 - val_loss: 2.7686 - val_acc: 0.0819\n",
      "Epoch 6/500\n",
      "136587/136587 [==============================] - 17s 127us/step - loss: 1.4012 - acc: 0.5753 - val_loss: 2.8102 - val_acc: 0.0758\n",
      "\n",
      "Epoch 00006: ReduceLROnPlateau reducing learning rate to 0.00010000000474974513.\n",
      "Epoch 7/500\n",
      "136587/136587 [==============================] - 17s 127us/step - loss: 1.2673 - acc: 0.6087 - val_loss: 2.6670 - val_acc: 0.1046\n",
      "Epoch 8/500\n",
      "136587/136587 [==============================] - 17s 127us/step - loss: 1.2433 - acc: 0.6162 - val_loss: 2.6858 - val_acc: 0.1112\n",
      "Epoch 9/500\n",
      "136587/136587 [==============================] - 17s 127us/step - loss: 1.2321 - acc: 0.6216 - val_loss: 2.7013 - val_acc: 0.1053\n",
      "Epoch 10/500\n",
      "136587/136587 [==============================] - 17s 127us/step - loss: 1.2230 - acc: 0.6243 - val_loss: 2.6929 - val_acc: 0.1151\n",
      "Epoch 11/500\n",
      "136587/136587 [==============================] - 17s 127us/step - loss: 1.2142 - acc: 0.6282 - val_loss: 2.6823 - val_acc: 0.1204\n",
      "\n",
      "Epoch 00011: ReduceLROnPlateau reducing learning rate to 1.0000000474974514e-05.\n",
      "Train on 156488 samples, validate on 7266 samples\n",
      "Epoch 1/500\n",
      "156488/156488 [==============================] - 21s 135us/step - loss: 3.0064 - acc: 0.1053 - val_loss: 3.1228 - val_acc: 0.0634\n",
      "Epoch 2/500\n",
      "156488/156488 [==============================] - 20s 127us/step - loss: 2.9244 - acc: 0.1416 - val_loss: 3.2158 - val_acc: 0.0640\n",
      "Epoch 3/500\n",
      "156488/156488 [==============================] - 20s 127us/step - loss: 2.8397 - acc: 0.1799 - val_loss: 3.2694 - val_acc: 0.0626\n",
      "Epoch 4/500\n",
      "156488/156488 [==============================] - 20s 127us/step - loss: 2.7610 - acc: 0.2118 - val_loss: 3.3154 - val_acc: 0.0663\n",
      "Epoch 5/500\n",
      "156488/156488 [==============================] - 20s 126us/step - loss: 2.6854 - acc: 0.2458 - val_loss: 3.3874 - val_acc: 0.0630\n",
      "Epoch 6/500\n",
      "156488/156488 [==============================] - 20s 127us/step - loss: 2.6193 - acc: 0.2725 - val_loss: 3.4218 - val_acc: 0.0672\n",
      "\n",
      "Epoch 00006: ReduceLROnPlateau reducing learning rate to 0.00010000000474974513.\n",
      "Epoch 7/500\n",
      "156488/156488 [==============================] - 20s 126us/step - loss: 2.4522 - acc: 0.3382 - val_loss: 3.4500 - val_acc: 0.0669\n",
      "Epoch 8/500\n",
      "156488/156488 [==============================] - 20s 126us/step - loss: 2.4105 - acc: 0.3537 - val_loss: 3.4767 - val_acc: 0.0681\n",
      "Epoch 9/500\n",
      "156488/156488 [==============================] - 20s 127us/step - loss: 2.3859 - acc: 0.3635 - val_loss: 3.5002 - val_acc: 0.0685\n",
      "Epoch 10/500\n",
      "156488/156488 [==============================] - 20s 126us/step - loss: 2.3657 - acc: 0.3700 - val_loss: 3.5259 - val_acc: 0.0701\n",
      "Epoch 11/500\n",
      "156488/156488 [==============================] - 20s 126us/step - loss: 2.3484 - acc: 0.3767 - val_loss: 3.5444 - val_acc: 0.0684\n",
      "\n",
      "Epoch 00011: ReduceLROnPlateau reducing learning rate to 1.0000000474974514e-05.\n",
      "Train on 73563 samples, validate on 7266 samples\n",
      "Epoch 1/500\n",
      "73563/73563 [==============================] - 11s 153us/step - loss: 4.0920 - acc: 0.0165 - val_loss: 4.0959 - val_acc: 0.0140\n",
      "Epoch 2/500\n",
      "73563/73563 [==============================] - 10s 132us/step - loss: 4.0753 - acc: 0.0202 - val_loss: 4.1094 - val_acc: 0.0160\n",
      "Epoch 3/500\n",
      "73563/73563 [==============================] - 10s 132us/step - loss: 4.0646 - acc: 0.0222 - val_loss: 4.1223 - val_acc: 0.0168\n",
      "Epoch 4/500\n",
      "73563/73563 [==============================] - 10s 133us/step - loss: 4.0478 - acc: 0.0281 - val_loss: 4.1170 - val_acc: 0.0259\n",
      "Epoch 5/500\n",
      "73563/73563 [==============================] - 10s 133us/step - loss: 4.0316 - acc: 0.0356 - val_loss: 4.1235 - val_acc: 0.0255\n",
      "Epoch 6/500\n",
      "73563/73563 [==============================] - 10s 133us/step - loss: 4.0142 - acc: 0.0409 - val_loss: 4.1413 - val_acc: 0.0178\n",
      "\n",
      "Epoch 00006: ReduceLROnPlateau reducing learning rate to 0.00010000000474974513.\n",
      "Epoch 7/500\n",
      "73563/73563 [==============================] - 10s 132us/step - loss: 3.9549 - acc: 0.0584 - val_loss: 4.1591 - val_acc: 0.0270\n",
      "Epoch 8/500\n",
      "73563/73563 [==============================] - 10s 133us/step - loss: 3.9292 - acc: 0.0674 - val_loss: 4.1752 - val_acc: 0.0297\n",
      "Epoch 9/500\n",
      "73563/73563 [==============================] - 10s 132us/step - loss: 3.9144 - acc: 0.0752 - val_loss: 4.1941 - val_acc: 0.0277\n",
      "Epoch 10/500\n",
      "73563/73563 [==============================] - 10s 132us/step - loss: 3.9009 - acc: 0.0782 - val_loss: 4.1881 - val_acc: 0.0297\n",
      "Epoch 11/500\n",
      "73563/73563 [==============================] - 10s 133us/step - loss: 3.8893 - acc: 0.0824 - val_loss: 4.2028 - val_acc: 0.0290\n",
      "\n",
      "Epoch 00011: ReduceLROnPlateau reducing learning rate to 1.0000000474974514e-05.\n"
     ]
    }
   ],
   "source": [
    "#X_train_eng, X_val_eng, y_train_eng,y_val_eng\n",
    "history=ct_automodel.model.fit(X_train_ct[user_columns],[y_train_ct],validation_data=(dev[user_columns], remap(dev['TYPECODE_onehot'])),epochs=500,batch_size=256,callbacks=callbacks(\"autoinoutmodel_ct\"))\n",
    "history=eng_automodel.model.fit(X_train_eng[user_columns],[y_train_eng],validation_data=(dev[user_columns], remap(dev['ENGINECODE_onehot'])),epochs=500,batch_size=256,callbacks=callbacks(\"autoinoutmodel_eng\"))\n",
    "history=gb_automodel.model.fit(X_train_gb[user_columns],[y_train_gb],validation_data=(dev[user_columns], remap(dev['GEARBOXCODE_onehot'])),epochs=500,batch_size=256,callbacks=callbacks(\"autoinoutmodel_gb\"))\n",
    "history=sv_automodel.model.fit(X_train_sv[user_columns],[y_train_sv],validation_data=(dev[user_columns], remap(dev['SALESVERSIONCODE_onehot'])),epochs=500,batch_size=256,callbacks=callbacks(\"autoinoutmodel_sv\"))\n",
    "history=col_automodel.model.fit(X_train_col[user_columns],[y_train_col],validation_data=(dev[user_columns], remap(dev['COLOUR_onehot'])),epochs=500,batch_size=256,callbacks=callbacks(\"autoinoutmodel_col\"))\n",
    "history=uph_automodel.model.fit(X_train_uph[user_columns],[y_train_uph],validation_data=(dev[user_columns], remap(dev['UPHOLSTERY_onehot'])),epochs=500,batch_size=256,callbacks=callbacks(\"autoinoutmodel_uph\"))"
   ]
  },
  {
   "cell_type": "code",
   "execution_count": 99,
   "metadata": {},
   "outputs": [
    {
     "name": "stdout",
     "output_type": "stream",
     "text": [
      "9082/9082 [==============================] - 2s 241us/step\n",
      "ct [2.3558564200797183, 0.09612420172178517]\n",
      "9082/9082 [==============================] - 2s 242us/step\n",
      "eng [2.9764678274002194, 0.061330103503072136]\n",
      "9082/9082 [==============================] - 2s 242us/step\n",
      "sv [2.496767970544865, 0.0752036996338368]\n",
      "9082/9082 [==============================] - 2s 242us/step\n",
      "gb [1.6371024097805111, 0.19246861926655076]\n",
      "9082/9082 [==============================] - 2s 242us/step\n",
      "col [3.1221218208887587, 0.06925787271936279]\n",
      "9082/9082 [==============================] - 2s 250us/step\n",
      "uph [4.0878321490763465, 0.014203919845546455]\n",
      "9082/9082 [==============================] - 2s 258us/step\n",
      "opt [26.354553316322566, 0.003193129266681348]\n"
     ]
    }
   ],
   "source": [
    "#print(automodel.model.metrics_names)\n",
    "print('ct',ct_automodel.model.evaluate(test[user_columns],remap(test['TYPECODE_onehot'])))\n",
    "print('eng',eng_automodel.model.evaluate(test[user_columns],remap(test['ENGINECODE_onehot'])))\n",
    "print('sv',sv_automodel.model.evaluate(test[user_columns],remap(test['SALESVERSIONCODE_onehot'])))\n",
    "print('gb',gb_automodel.model.evaluate(test[user_columns],remap(test['GEARBOXCODE_onehot'])))\n",
    "print('col',col_automodel.model.evaluate(test[user_columns],remap(test['COLOUR_onehot'])))\n",
    "print('uph',uph_automodel.model.evaluate(test[user_columns],remap(test['UPHOLSTERY_onehot'])))\n",
    "print('opt',opt_automodel.model.evaluate(test[user_columns],remap(test['OPT_CODES_onehot'])))"
   ]
  },
  {
   "cell_type": "code",
   "execution_count": null,
   "metadata": {},
   "outputs": [],
   "source": []
  },
  {
   "cell_type": "code",
   "execution_count": null,
   "metadata": {},
   "outputs": [],
   "source": []
  },
  {
   "cell_type": "code",
   "execution_count": 100,
   "metadata": {},
   "outputs": [],
   "source": [
    "class AggModel:\n",
    "    def __init__(self,ctmodel,engmodel,svmodel,gbmodel,colmodel,uphmodel,optmodel):\n",
    "        self.ctmodel = ctmodel\n",
    "        self.engmodel = engmodel\n",
    "        self.svmodel = svmodel\n",
    "        self.gbmodel = gbmodel\n",
    "        self.colmodel = colmodel\n",
    "        self.uphmodel = uphmodel\n",
    "        self.optmodel = optmodel\n",
    "        \n",
    "    \n",
    "    def predict(self, X):\n",
    "        ct = self.ctmodel.predict(X)\n",
    "        eng = self.engmodel.predict(X)        \n",
    "        sv = self.svmodel.predict(X)        \n",
    "        gb = self.gbmodel.predict(X)        \n",
    "        col = self.colmodel.predict(X)\n",
    "        uph = self.uphmodel.predict(X)\n",
    "        opt = self.optmodel.predict(X)\n",
    "        \n",
    "        return ct,eng,sv,gb,col,uph,opt\n",
    "aggmodel = AggModel(ct_automodel.model,eng_automodel.model,sv_automodel.model,gb_automodel.model,col_automodel.model,uph_automodel.model,opt_automodel.model)"
   ]
  },
  {
   "cell_type": "code",
   "execution_count": 104,
   "metadata": {
    "collapsed": true
   },
   "outputs": [
    {
     "data": {
      "application/vnd.jupyter.widget-view+json": {
       "model_id": "5435e8a998d6401784edbbec7e8a5567",
       "version_major": 2,
       "version_minor": 0
      },
      "text/plain": [
       "HBox(children=(IntProgress(value=0, max=14), HTML(value='')))"
      ]
     },
     "metadata": {},
     "output_type": "display_data"
    },
    {
     "name": "stdout",
     "output_type": "stream",
     "text": [
      "Running evaluation on model_nosolver_pno12 over 2 iterations\n"
     ]
    },
    {
     "data": {
      "application/vnd.jupyter.widget-view+json": {
       "model_id": "ce2bab1ccfe54f3197dce064d5be4c5c",
       "version_major": 2,
       "version_minor": 0
      },
      "text/plain": [
       "HBox(children=(IntProgress(value=0, max=2), HTML(value='')))"
      ]
     },
     "metadata": {},
     "output_type": "display_data"
    },
    {
     "name": "stdout",
     "output_type": "stream",
     "text": [
      "Running test n.1\n"
     ]
    },
    {
     "data": {
      "application/vnd.jupyter.widget-view+json": {
       "model_id": "3e208b079bd4457db17d1f1994f077d6",
       "version_major": 2,
       "version_minor": 0
      },
      "text/plain": [
       "HBox(children=(IntProgress(value=0), HTML(value='')))"
      ]
     },
     "metadata": {},
     "output_type": "display_data"
    },
    {
     "name": "stdout",
     "output_type": "stream",
     "text": [
      "Running test n.2\n"
     ]
    },
    {
     "data": {
      "application/vnd.jupyter.widget-view+json": {
       "model_id": "d2236daa6b794147bd675972617cc893",
       "version_major": 2,
       "version_minor": 0
      },
      "text/plain": [
       "HBox(children=(IntProgress(value=0), HTML(value='')))"
      ]
     },
     "metadata": {},
     "output_type": "display_data"
    },
    {
     "name": "stdout",
     "output_type": "stream",
     "text": [
      "Running evaluation on model_nosolver_pno34 over 2 iterations\n"
     ]
    },
    {
     "data": {
      "application/vnd.jupyter.widget-view+json": {
       "model_id": "32824b05613a49778fca08564e99232b",
       "version_major": 2,
       "version_minor": 0
      },
      "text/plain": [
       "HBox(children=(IntProgress(value=0, max=2), HTML(value='')))"
      ]
     },
     "metadata": {},
     "output_type": "display_data"
    },
    {
     "name": "stdout",
     "output_type": "stream",
     "text": [
      "Running test n.1\n"
     ]
    },
    {
     "data": {
      "application/vnd.jupyter.widget-view+json": {
       "model_id": "a1145da1f63b4c9997f47b09e39c9ec5",
       "version_major": 2,
       "version_minor": 0
      },
      "text/plain": [
       "HBox(children=(IntProgress(value=0), HTML(value='')))"
      ]
     },
     "metadata": {},
     "output_type": "display_data"
    },
    {
     "name": "stdout",
     "output_type": "stream",
     "text": [
      "Running test n.2\n"
     ]
    },
    {
     "data": {
      "application/vnd.jupyter.widget-view+json": {
       "model_id": "f3fd8da64e6b4d3993bbc260bda3f2e3",
       "version_major": 2,
       "version_minor": 0
      },
      "text/plain": [
       "HBox(children=(IntProgress(value=0), HTML(value='')))"
      ]
     },
     "metadata": {},
     "output_type": "display_data"
    },
    {
     "name": "stdout",
     "output_type": "stream",
     "text": [
      "Running evaluation on model_nosolver_CIS over 2 iterations\n"
     ]
    },
    {
     "data": {
      "application/vnd.jupyter.widget-view+json": {
       "model_id": "13f960c2ea4348debf27319355740c1c",
       "version_major": 2,
       "version_minor": 0
      },
      "text/plain": [
       "HBox(children=(IntProgress(value=0, max=2), HTML(value='')))"
      ]
     },
     "metadata": {},
     "output_type": "display_data"
    },
    {
     "name": "stdout",
     "output_type": "stream",
     "text": [
      "Running test n.1\n"
     ]
    },
    {
     "data": {
      "application/vnd.jupyter.widget-view+json": {
       "model_id": "382aa612ca0142bf80a16fc4e0998331",
       "version_major": 2,
       "version_minor": 0
      },
      "text/plain": [
       "HBox(children=(IntProgress(value=0), HTML(value='')))"
      ]
     },
     "metadata": {},
     "output_type": "display_data"
    },
    {
     "name": "stdout",
     "output_type": "stream",
     "text": [
      "Running test n.2\n"
     ]
    },
    {
     "data": {
      "application/vnd.jupyter.widget-view+json": {
       "model_id": "481a85d7b5fc4550acb57940853a01bc",
       "version_major": 2,
       "version_minor": 0
      },
      "text/plain": [
       "HBox(children=(IntProgress(value=0), HTML(value='')))"
      ]
     },
     "metadata": {},
     "output_type": "display_data"
    },
    {
     "name": "stdout",
     "output_type": "stream",
     "text": [
      "Running evaluation on model_w.solver_CIS over 2 iterations\n"
     ]
    },
    {
     "data": {
      "application/vnd.jupyter.widget-view+json": {
       "model_id": "a9c2414f49f048e0bc057bfde5a99db1",
       "version_major": 2,
       "version_minor": 0
      },
      "text/plain": [
       "HBox(children=(IntProgress(value=0, max=2), HTML(value='')))"
      ]
     },
     "metadata": {},
     "output_type": "display_data"
    },
    {
     "name": "stdout",
     "output_type": "stream",
     "text": [
      "Running test n.1\n"
     ]
    },
    {
     "data": {
      "application/vnd.jupyter.widget-view+json": {
       "model_id": "03bfbfb0ff214842908a73b1dc49e9c8",
       "version_major": 2,
       "version_minor": 0
      },
      "text/plain": [
       "HBox(children=(IntProgress(value=0), HTML(value='')))"
      ]
     },
     "metadata": {},
     "output_type": "display_data"
    },
    {
     "name": "stdout",
     "output_type": "stream",
     "text": [
      "solving ...\n",
      "solving ...\n",
      "solving ...\n",
      "solving ...\n",
      "solving ...\n",
      "solving ...\n",
      "solving ...\n",
      "solving ...\n",
      "solving ...\n",
      "solving ...\n",
      "solving ...\n",
      "solving ...\n",
      "solving ...\n",
      "solving ...\n",
      "solving ...\n",
      "solving ...\n",
      "solving ...\n",
      "solving ...\n",
      "solving ...\n",
      "solving ...\n",
      "solving ...\n",
      "solving ...\n",
      "solving ...\n",
      "solving ...\n",
      "solving ...\n",
      "solving ...\n",
      "solving ...\n",
      "solving ...\n",
      "solving ...\n",
      "solving ...\n",
      "solving ...\n",
      "solving ...\n",
      "solving ...\n",
      "solving ...\n",
      "solving ...\n",
      "solving ...\n",
      "solving ...\n",
      "solving ...\n",
      "solving ...\n",
      "solving ...\n",
      "solving ...\n",
      "solving ...\n",
      "solving ...\n",
      "solving ...\n",
      "solving ...\n",
      "solving ...\n",
      "solving ...\n",
      "solving ...\n",
      "solving ...\n",
      "solving ...\n",
      "solving ...\n",
      "solving ...\n",
      "solving ...\n",
      "solving ...\n",
      "solving ...\n",
      "solving ...\n",
      "solving ...\n",
      "solving ...\n",
      "solving ...\n",
      "solving ...\n",
      "solving ...\n",
      "solving ...\n",
      "solving ...\n",
      "solving ...\n",
      "solving ...\n",
      "solving ...\n",
      "solving ...\n",
      "solving ...\n",
      "solving ...\n",
      "solving ...\n",
      "solving ...\n",
      "solving ...\n",
      "solving ...\n",
      "solving ...\n",
      "solving ...\n",
      "solving ...\n",
      "solving ...\n",
      "solving ...\n",
      "solving ...\n",
      "solving ...\n",
      "solving ...\n",
      "solving ...\n",
      "solving ...\n",
      "solving ...\n",
      "solving ...\n",
      "solving ...\n",
      "solving ...\n",
      "solving ...\n",
      "solving ...\n",
      "solving ...\n",
      "solving ...\n",
      "solving ...\n",
      "solving ...\n",
      "solving ...\n",
      "solving ...\n",
      "solving ...\n",
      "solving ...\n",
      "solving ...\n",
      "solving ...\n",
      "solving ...\n",
      "Running test n.2\n"
     ]
    },
    {
     "data": {
      "application/vnd.jupyter.widget-view+json": {
       "model_id": "680529c2df7549a79e22608a49b86610",
       "version_major": 2,
       "version_minor": 0
      },
      "text/plain": [
       "HBox(children=(IntProgress(value=0), HTML(value='')))"
      ]
     },
     "metadata": {},
     "output_type": "display_data"
    },
    {
     "name": "stdout",
     "output_type": "stream",
     "text": [
      "solving ...\n",
      "solving ...\n",
      "solving ...\n",
      "solving ...\n",
      "solving ...\n",
      "solving ...\n",
      "solving ...\n",
      "solving ...\n",
      "solving ...\n",
      "solving ...\n",
      "solving ...\n",
      "solving ...\n",
      "solving ...\n",
      "solving ...\n",
      "solving ...\n",
      "solving ...\n",
      "solving ...\n",
      "solving ...\n",
      "solving ...\n",
      "solving ...\n",
      "solving ...\n",
      "solving ...\n",
      "solving ...\n",
      "solving ...\n",
      "solving ...\n",
      "solving ...\n",
      "solving ...\n",
      "solving ...\n",
      "solving ...\n",
      "solving ...\n",
      "solving ...\n",
      "solving ...\n",
      "solving ...\n",
      "solving ...\n",
      "solving ...\n",
      "solving ...\n",
      "solving ...\n",
      "solving ...\n",
      "solving ...\n",
      "solving ...\n",
      "solving ...\n",
      "solving ...\n",
      "solving ...\n",
      "solving ...\n",
      "solving ...\n",
      "solving ...\n",
      "solving ...\n",
      "solving ...\n",
      "solving ...\n",
      "solving ...\n",
      "solving ...\n",
      "solving ...\n",
      "solving ...\n",
      "solving ...\n",
      "solving ...\n",
      "solving ...\n",
      "solving ...\n",
      "solving ...\n",
      "solving ...\n",
      "solving ...\n",
      "solving ...\n",
      "solving ...\n",
      "solving ...\n",
      "solving ...\n",
      "solving ...\n",
      "solving ...\n",
      "solving ...\n",
      "solving ...\n",
      "solving ...\n",
      "solving ...\n",
      "solving ...\n",
      "solving ...\n",
      "solving ...\n",
      "solving ...\n",
      "solving ...\n",
      "solving ...\n",
      "solving ...\n",
      "solving ...\n",
      "solving ...\n",
      "solving ...\n",
      "solving ...\n",
      "solving ...\n",
      "solving ...\n",
      "solving ...\n",
      "solving ...\n",
      "solving ...\n",
      "solving ...\n",
      "solving ...\n",
      "solving ...\n",
      "solving ...\n",
      "solving ...\n",
      "solving ...\n",
      "solving ...\n",
      "solving ...\n",
      "solving ...\n",
      "solving ...\n",
      "solving ...\n",
      "solving ...\n",
      "solving ...\n",
      "solving ...\n",
      "Running evaluation on model_nosolver.solver_thres:0.1_CIS over 2 iterations\n"
     ]
    },
    {
     "data": {
      "application/vnd.jupyter.widget-view+json": {
       "model_id": "37136b72ff9b4c14ad0eee64d5c81904",
       "version_major": 2,
       "version_minor": 0
      },
      "text/plain": [
       "HBox(children=(IntProgress(value=0, max=2), HTML(value='')))"
      ]
     },
     "metadata": {},
     "output_type": "display_data"
    },
    {
     "name": "stdout",
     "output_type": "stream",
     "text": [
      "Running test n.1\n"
     ]
    },
    {
     "data": {
      "application/vnd.jupyter.widget-view+json": {
       "model_id": "9d8e510444284d9593990615a2e3f179",
       "version_major": 2,
       "version_minor": 0
      },
      "text/plain": [
       "HBox(children=(IntProgress(value=0), HTML(value='')))"
      ]
     },
     "metadata": {},
     "output_type": "display_data"
    },
    {
     "name": "stdout",
     "output_type": "stream",
     "text": [
      "Running test n.2\n"
     ]
    },
    {
     "data": {
      "application/vnd.jupyter.widget-view+json": {
       "model_id": "266130b4a6d448738cf153f84923d66a",
       "version_major": 2,
       "version_minor": 0
      },
      "text/plain": [
       "HBox(children=(IntProgress(value=0), HTML(value='')))"
      ]
     },
     "metadata": {},
     "output_type": "display_data"
    },
    {
     "name": "stdout",
     "output_type": "stream",
     "text": [
      "Running evaluation on model_nosolver.solver_thres:0.30000000000000004_CIS over 2 iterations\n"
     ]
    },
    {
     "data": {
      "application/vnd.jupyter.widget-view+json": {
       "model_id": "6d3201a4434a44b2bd3cd9fed8b0ad67",
       "version_major": 2,
       "version_minor": 0
      },
      "text/plain": [
       "HBox(children=(IntProgress(value=0, max=2), HTML(value='')))"
      ]
     },
     "metadata": {},
     "output_type": "display_data"
    },
    {
     "name": "stdout",
     "output_type": "stream",
     "text": [
      "Running test n.1\n"
     ]
    },
    {
     "data": {
      "application/vnd.jupyter.widget-view+json": {
       "model_id": "2c9d466bb4b4432fbe0afb5901e882d7",
       "version_major": 2,
       "version_minor": 0
      },
      "text/plain": [
       "HBox(children=(IntProgress(value=0), HTML(value='')))"
      ]
     },
     "metadata": {},
     "output_type": "display_data"
    },
    {
     "name": "stdout",
     "output_type": "stream",
     "text": [
      "Running test n.2\n"
     ]
    },
    {
     "data": {
      "application/vnd.jupyter.widget-view+json": {
       "model_id": "dbb67a4ced434ede878c3da564e7c9d1",
       "version_major": 2,
       "version_minor": 0
      },
      "text/plain": [
       "HBox(children=(IntProgress(value=0), HTML(value='')))"
      ]
     },
     "metadata": {},
     "output_type": "display_data"
    },
    {
     "name": "stdout",
     "output_type": "stream",
     "text": [
      "Running evaluation on model_nosolver.solver_thres:0.5000000000000001_CIS over 2 iterations\n"
     ]
    },
    {
     "data": {
      "application/vnd.jupyter.widget-view+json": {
       "model_id": "dcb7706115bb4a0882378bb53050ca4f",
       "version_major": 2,
       "version_minor": 0
      },
      "text/plain": [
       "HBox(children=(IntProgress(value=0, max=2), HTML(value='')))"
      ]
     },
     "metadata": {},
     "output_type": "display_data"
    },
    {
     "name": "stdout",
     "output_type": "stream",
     "text": [
      "Running test n.1\n"
     ]
    },
    {
     "data": {
      "application/vnd.jupyter.widget-view+json": {
       "model_id": "8c85cf87237747e6a6525a2cf50597de",
       "version_major": 2,
       "version_minor": 0
      },
      "text/plain": [
       "HBox(children=(IntProgress(value=0), HTML(value='')))"
      ]
     },
     "metadata": {},
     "output_type": "display_data"
    },
    {
     "name": "stdout",
     "output_type": "stream",
     "text": [
      "Running test n.2\n"
     ]
    },
    {
     "data": {
      "application/vnd.jupyter.widget-view+json": {
       "model_id": "7f9e8940a76a46a79e3e1b59da38a108",
       "version_major": 2,
       "version_minor": 0
      },
      "text/plain": [
       "HBox(children=(IntProgress(value=0), HTML(value='')))"
      ]
     },
     "metadata": {},
     "output_type": "display_data"
    },
    {
     "name": "stdout",
     "output_type": "stream",
     "text": [
      "Running evaluation on model_nosolver.solver_thres:0.7000000000000001_CIS over 2 iterations\n"
     ]
    },
    {
     "data": {
      "application/vnd.jupyter.widget-view+json": {
       "model_id": "ec6637b39ed6428a86c49ae639c0c153",
       "version_major": 2,
       "version_minor": 0
      },
      "text/plain": [
       "HBox(children=(IntProgress(value=0, max=2), HTML(value='')))"
      ]
     },
     "metadata": {},
     "output_type": "display_data"
    },
    {
     "name": "stdout",
     "output_type": "stream",
     "text": [
      "Running test n.1\n"
     ]
    },
    {
     "data": {
      "application/vnd.jupyter.widget-view+json": {
       "model_id": "7e274d8b22a64df48a572a20dce80e6f",
       "version_major": 2,
       "version_minor": 0
      },
      "text/plain": [
       "HBox(children=(IntProgress(value=0), HTML(value='')))"
      ]
     },
     "metadata": {},
     "output_type": "display_data"
    },
    {
     "name": "stdout",
     "output_type": "stream",
     "text": [
      "Running test n.2\n"
     ]
    },
    {
     "data": {
      "application/vnd.jupyter.widget-view+json": {
       "model_id": "c3e54e8dac14457aaa5b91f120024889",
       "version_major": 2,
       "version_minor": 0
      },
      "text/plain": [
       "HBox(children=(IntProgress(value=0), HTML(value='')))"
      ]
     },
     "metadata": {},
     "output_type": "display_data"
    },
    {
     "name": "stdout",
     "output_type": "stream",
     "text": [
      "Running evaluation on model_nosolver.solver_thres:0.9000000000000001_CIS over 2 iterations\n"
     ]
    },
    {
     "data": {
      "application/vnd.jupyter.widget-view+json": {
       "model_id": "83352a82283c469e8bd991bccd288d33",
       "version_major": 2,
       "version_minor": 0
      },
      "text/plain": [
       "HBox(children=(IntProgress(value=0, max=2), HTML(value='')))"
      ]
     },
     "metadata": {},
     "output_type": "display_data"
    },
    {
     "name": "stdout",
     "output_type": "stream",
     "text": [
      "Running test n.1\n"
     ]
    },
    {
     "data": {
      "application/vnd.jupyter.widget-view+json": {
       "model_id": "02a2594f75134fa08990cbbfbc79d881",
       "version_major": 2,
       "version_minor": 0
      },
      "text/plain": [
       "HBox(children=(IntProgress(value=0), HTML(value='')))"
      ]
     },
     "metadata": {},
     "output_type": "display_data"
    },
    {
     "name": "stdout",
     "output_type": "stream",
     "text": [
      "Running test n.2\n"
     ]
    },
    {
     "data": {
      "application/vnd.jupyter.widget-view+json": {
       "model_id": "0c0ada875bb74752b3e9033534e86c20",
       "version_major": 2,
       "version_minor": 0
      },
      "text/plain": [
       "HBox(children=(IntProgress(value=0), HTML(value='')))"
      ]
     },
     "metadata": {},
     "output_type": "display_data"
    },
    {
     "name": "stdout",
     "output_type": "stream",
     "text": [
      "Running evaluation on model_w.*solver_thres:0.1_CIS over 2 iterations\n"
     ]
    },
    {
     "data": {
      "application/vnd.jupyter.widget-view+json": {
       "model_id": "338fa4aebecc48188ce4a80418168bc4",
       "version_major": 2,
       "version_minor": 0
      },
      "text/plain": [
       "HBox(children=(IntProgress(value=0, max=2), HTML(value='')))"
      ]
     },
     "metadata": {},
     "output_type": "display_data"
    },
    {
     "name": "stdout",
     "output_type": "stream",
     "text": [
      "Running test n.1\n"
     ]
    },
    {
     "data": {
      "application/vnd.jupyter.widget-view+json": {
       "model_id": "2e96377bb94749d1996228719e5ae985",
       "version_major": 2,
       "version_minor": 0
      },
      "text/plain": [
       "HBox(children=(IntProgress(value=0), HTML(value='')))"
      ]
     },
     "metadata": {},
     "output_type": "display_data"
    },
    {
     "name": "stdout",
     "output_type": "stream",
     "text": [
      "solving ...\n",
      "solving ...\n",
      "solving ...\n",
      "solving ...\n",
      "solving ...\n",
      "solving ...\n",
      "solving ...\n",
      "solving ...\n",
      "solving ...\n",
      "solving ...\n",
      "solving ...\n",
      "solving ...\n",
      "solving ...\n",
      "solving ...\n",
      "solving ...\n",
      "solving ...\n",
      "solving ...\n",
      "solving ...\n",
      "solving ...\n",
      "solving ...\n",
      "solving ...\n",
      "solving ...\n",
      "solving ...\n",
      "solving ...\n",
      "solving ...\n",
      "solving ...\n",
      "solving ...\n",
      "solving ...\n",
      "solving ...\n",
      "solving ...\n",
      "solving ...\n",
      "solving ...\n",
      "solving ...\n",
      "solving ...\n",
      "solving ...\n",
      "solving ...\n",
      "solving ...\n",
      "solving ...\n",
      "solving ...\n",
      "solving ...\n",
      "solving ...\n",
      "solving ...\n",
      "solving ...\n",
      "solving ...\n",
      "solving ...\n",
      "solving ...\n",
      "solving ...\n",
      "solving ...\n",
      "solving ...\n",
      "solving ...\n",
      "solving ...\n",
      "solving ...\n",
      "solving ...\n",
      "solving ...\n",
      "solving ...\n",
      "solving ...\n",
      "solving ...\n",
      "solving ...\n",
      "solving ...\n",
      "solving ...\n",
      "solving ...\n",
      "solving ...\n",
      "solving ...\n",
      "solving ...\n",
      "solving ...\n",
      "solving ...\n",
      "solving ...\n",
      "solving ...\n",
      "solving ...\n",
      "solving ...\n",
      "solving ...\n",
      "solving ...\n",
      "solving ...\n",
      "solving ...\n",
      "solving ...\n",
      "solving ...\n",
      "solving ...\n",
      "solving ...\n",
      "solving ...\n",
      "solving ...\n",
      "solving ...\n",
      "solving ...\n",
      "solving ...\n",
      "solving ...\n",
      "solving ...\n",
      "solving ...\n",
      "solving ...\n",
      "solving ...\n",
      "solving ...\n",
      "solving ...\n",
      "solving ...\n",
      "solving ...\n",
      "solving ...\n",
      "solving ...\n",
      "solving ...\n",
      "solving ...\n",
      "solving ...\n",
      "solving ...\n",
      "solving ...\n",
      "solving ...\n",
      "Running test n.2\n"
     ]
    },
    {
     "data": {
      "application/vnd.jupyter.widget-view+json": {
       "model_id": "a7e31fef91af4953a754d5e17add08f0",
       "version_major": 2,
       "version_minor": 0
      },
      "text/plain": [
       "HBox(children=(IntProgress(value=0), HTML(value='')))"
      ]
     },
     "metadata": {},
     "output_type": "display_data"
    },
    {
     "name": "stdout",
     "output_type": "stream",
     "text": [
      "solving ...\n",
      "solving ...\n",
      "solving ...\n",
      "solving ...\n",
      "solving ...\n",
      "solving ...\n",
      "solving ...\n",
      "solving ...\n",
      "solving ...\n",
      "solving ...\n",
      "solving ...\n",
      "solving ...\n",
      "solving ...\n",
      "solving ...\n",
      "solving ...\n",
      "solving ...\n",
      "solving ...\n",
      "solving ...\n",
      "solving ...\n",
      "solving ...\n",
      "solving ...\n",
      "solving ...\n",
      "solving ...\n",
      "solving ...\n",
      "solving ...\n",
      "solving ...\n",
      "solving ...\n",
      "solving ...\n",
      "solving ...\n",
      "solving ...\n",
      "solving ...\n",
      "solving ...\n",
      "solving ...\n",
      "solving ...\n",
      "solving ...\n",
      "solving ...\n",
      "solving ...\n",
      "solving ...\n",
      "solving ...\n",
      "solving ...\n",
      "solving ...\n",
      "solving ...\n",
      "solving ...\n",
      "solving ...\n",
      "solving ...\n",
      "solving ...\n",
      "solving ...\n",
      "solving ...\n",
      "solving ...\n",
      "solving ...\n",
      "solving ...\n",
      "solving ...\n",
      "solving ...\n",
      "solving ...\n",
      "solving ...\n",
      "solving ...\n",
      "solving ...\n",
      "solving ...\n",
      "solving ...\n",
      "solving ...\n",
      "solving ...\n",
      "solving ...\n",
      "solving ...\n",
      "solving ...\n",
      "solving ...\n",
      "solving ...\n",
      "solving ...\n",
      "solving ...\n",
      "solving ...\n",
      "solving ...\n",
      "solving ...\n",
      "solving ...\n",
      "solving ...\n",
      "solving ...\n",
      "solving ...\n",
      "solving ...\n",
      "solving ...\n",
      "solving ...\n",
      "solving ...\n",
      "solving ...\n",
      "solving ...\n",
      "solving ...\n",
      "solving ...\n",
      "solving ...\n",
      "solving ...\n",
      "solving ...\n",
      "solving ...\n",
      "solving ...\n",
      "solving ...\n",
      "solving ...\n",
      "solving ...\n",
      "solving ...\n",
      "solving ...\n",
      "solving ...\n",
      "solving ...\n",
      "solving ...\n",
      "solving ...\n",
      "solving ...\n",
      "solving ...\n",
      "solving ...\n",
      "Running evaluation on model_w.*solver_thres:0.30000000000000004_CIS over 2 iterations\n"
     ]
    },
    {
     "data": {
      "application/vnd.jupyter.widget-view+json": {
       "model_id": "10fda768e8fe40518965378769e19939",
       "version_major": 2,
       "version_minor": 0
      },
      "text/plain": [
       "HBox(children=(IntProgress(value=0, max=2), HTML(value='')))"
      ]
     },
     "metadata": {},
     "output_type": "display_data"
    },
    {
     "name": "stdout",
     "output_type": "stream",
     "text": [
      "Running test n.1\n"
     ]
    },
    {
     "data": {
      "application/vnd.jupyter.widget-view+json": {
       "model_id": "9621b7e1f68648a09b1a6bc8a3146e07",
       "version_major": 2,
       "version_minor": 0
      },
      "text/plain": [
       "HBox(children=(IntProgress(value=0), HTML(value='')))"
      ]
     },
     "metadata": {},
     "output_type": "display_data"
    },
    {
     "name": "stdout",
     "output_type": "stream",
     "text": [
      "solving ...\n",
      "solving ...\n",
      "solving ...\n",
      "solving ...\n",
      "solving ...\n",
      "solving ...\n",
      "solving ...\n",
      "solving ...\n",
      "solving ...\n",
      "solving ...\n",
      "solving ...\n",
      "solving ...\n",
      "solving ...\n",
      "solving ...\n",
      "solving ...\n",
      "solving ...\n",
      "solving ...\n",
      "solving ...\n",
      "solving ...\n",
      "solving ...\n",
      "solving ...\n",
      "solving ...\n",
      "solving ...\n",
      "solving ...\n",
      "solving ...\n",
      "solving ...\n",
      "solving ...\n",
      "solving ...\n",
      "solving ...\n",
      "solving ...\n",
      "solving ...\n",
      "solving ...\n",
      "solving ...\n",
      "solving ...\n",
      "solving ...\n",
      "solving ...\n",
      "solving ...\n",
      "solving ...\n",
      "solving ...\n",
      "solving ...\n",
      "solving ...\n",
      "solving ...\n",
      "solving ...\n",
      "solving ...\n",
      "solving ...\n",
      "solving ...\n",
      "solving ...\n",
      "solving ...\n",
      "solving ...\n",
      "solving ...\n",
      "solving ...\n",
      "solving ...\n",
      "solving ...\n",
      "solving ...\n",
      "solving ...\n",
      "solving ...\n",
      "solving ...\n",
      "solving ...\n",
      "solving ...\n",
      "solving ...\n",
      "solving ...\n",
      "solving ...\n",
      "solving ...\n",
      "solving ...\n",
      "solving ...\n",
      "solving ...\n",
      "solving ...\n",
      "solving ...\n",
      "solving ...\n",
      "solving ...\n",
      "solving ...\n",
      "solving ...\n",
      "solving ...\n",
      "solving ...\n",
      "solving ...\n",
      "solving ...\n",
      "solving ...\n",
      "solving ...\n",
      "solving ...\n",
      "solving ...\n",
      "solving ...\n",
      "solving ...\n",
      "solving ...\n",
      "solving ...\n",
      "solving ...\n",
      "solving ...\n",
      "solving ...\n",
      "solving ...\n",
      "solving ...\n",
      "solving ...\n",
      "solving ...\n",
      "solving ...\n",
      "solving ...\n",
      "solving ...\n",
      "solving ...\n",
      "solving ...\n",
      "solving ...\n",
      "solving ...\n",
      "solving ...\n",
      "solving ...\n",
      "could not process 1 [(array([0.06796269, 0.02482737, 0.18740155, 0.09306061, 0.17717293,\n",
      "       0.04669531, 0.08121782, 0.03813883, 0.03004365, 0.20322101,\n",
      "       0.05025823], dtype=float32), array([0.19182031, 0.24778302, 0.09203428, 0.03239958, 0.04458997,\n",
      "       0.0128438 , 0.05666259, 0.10740838, 0.04053881, 0.03687969,\n",
      "       0.07490975, 0.06212979], dtype=float32), array([0.0424295 , 0.10745838, 0.05434981, 0.07391495, 0.06187319,\n",
      "       0.05082481, 0.13388322, 0.09564002, 0.04839166, 0.06510431,\n",
      "       0.04775913, 0.02592782, 0.07509175, 0.09163716, 0.02571427],\n",
      "      dtype=float32), array([1.74394667e-01, 2.62555271e-01, 1.23747557e-01, 2.81303346e-01,\n",
      "       1.57891512e-01, 1.07583226e-04], dtype=float32), array([0.08532699, 0.04975851, 0.05941773, 0.0289765 , 0.03009657,\n",
      "       0.05218457, 0.03447454, 0.06733236, 0.03709269, 0.04300211,\n",
      "       0.03097142, 0.04608446, 0.10742976, 0.04638421, 0.01805187,\n",
      "       0.05681165, 0.05322048, 0.07030318, 0.02193217, 0.03838494,\n",
      "       0.02276331], dtype=float32), array([0.01321223, 0.02643261, 0.01969633, 0.00546923, 0.00897131,\n",
      "       0.02139961, 0.01767393, 0.03843793, 0.02629218, 0.01559079,\n",
      "       0.01726077, 0.05161789, 0.02176875, 0.01521472, 0.00843503,\n",
      "       0.02380513, 0.01766491, 0.00207519, 0.01568035, 0.01897034,\n",
      "       0.00937384, 0.02497803, 0.01638438, 0.00641369, 0.00994329,\n",
      "       0.03716119, 0.01903791, 0.00869035, 0.01199623, 0.00712894,\n",
      "       0.00479611, 0.01932831, 0.00662266, 0.0197022 , 0.01496091,\n",
      "       0.02007303, 0.00953655, 0.00788725, 0.01160602, 0.00988214,\n",
      "       0.02027746, 0.01241423, 0.0082586 , 0.00954328, 0.01230855,\n",
      "       0.01414517, 0.01400505, 0.01130143, 0.01727435, 0.03288149,\n",
      "       0.02246142, 0.0223999 , 0.01020431, 0.00673141, 0.00163105,\n",
      "       0.01436622, 0.01066014, 0.01452171, 0.02430219, 0.0079368 ,\n",
      "       0.00246884, 0.00791536, 0.02024669, 0.00954532, 0.01102682],\n",
      "      dtype=float32), array([1.30935371e-01, 2.08616257e-07, 1.46031380e-06, 1.19209290e-06,\n",
      "       1.01671338e-01, 4.74447012e-03, 0.00000000e+00, 3.74211967e-02,\n",
      "       2.26923525e-02, 8.94069672e-08, 3.51151824e-03, 5.50264120e-03,\n",
      "       1.87754631e-06, 1.98172629e-02, 1.60932541e-06, 1.95105672e-02,\n",
      "       5.96046448e-08, 2.11244941e-01, 1.78813934e-07, 3.70431244e-02,\n",
      "       9.18114185e-03, 1.52727664e-01, 1.49011612e-07, 7.12239742e-03,\n",
      "       3.12030315e-05, 7.48038292e-06, 4.79254425e-02, 4.57650423e-03,\n",
      "       5.66244125e-07, 2.08616257e-07, 1.45216584e-02, 4.13048267e-03,\n",
      "       0.00000000e+00, 1.29839778e-02, 1.56795979e-03, 2.08616257e-07,\n",
      "       1.69873238e-05, 5.24896383e-03, 1.78813934e-07, 0.00000000e+00,\n",
      "       5.20724773e-01, 4.76837158e-07, 6.28829002e-06, 7.42894411e-03,\n",
      "       4.36967611e-03, 5.06639481e-07, 3.06963921e-06, 2.27821380e-01,\n",
      "       4.31878865e-02, 1.26293302e-03, 0.00000000e+00, 4.41045970e-01,\n",
      "       0.00000000e+00, 0.00000000e+00, 1.76027417e-03, 6.77815080e-03,\n",
      "       3.42573822e-02, 7.74860382e-07, 2.98023224e-08, 1.27416551e-02,\n",
      "       1.74989849e-01, 5.06639481e-07, 3.45706940e-06, 6.16908073e-06,\n",
      "       2.04996765e-02, 2.37250686e-01, 5.83139062e-03, 1.70698464e-02,\n",
      "       1.83251500e-03, 1.91539526e-04, 2.86686718e-02, 2.20527649e-02,\n",
      "       3.30374897e-01, 3.61681998e-01, 2.00722814e-02, 8.94069672e-08,\n",
      "       1.87754631e-06, 3.71226668e-03, 0.00000000e+00, 4.24674153e-03,\n",
      "       1.04308128e-06, 1.00807548e-01, 2.67684460e-04, 0.00000000e+00,\n",
      "       3.23644578e-01, 0.00000000e+00, 1.25169754e-06, 2.63836980e-03,\n",
      "       0.00000000e+00, 9.53674316e-07, 1.27673149e-04, 8.96534324e-03,\n",
      "       2.98023224e-08, 1.78813934e-07, 6.93139434e-03, 0.00000000e+00,\n",
      "       0.00000000e+00, 3.68065834e-02, 2.82776356e-03, 7.68437386e-02,\n",
      "       4.35775816e-02, 5.01319766e-03, 4.45485115e-04, 0.00000000e+00,\n",
      "       0.00000000e+00, 0.00000000e+00, 1.25739932e-01, 2.07745880e-01,\n",
      "       1.78813934e-07, 2.68220901e-07, 1.49011612e-07, 0.00000000e+00,\n",
      "       2.29180157e-02, 0.00000000e+00, 0.00000000e+00, 0.00000000e+00,\n",
      "       0.00000000e+00, 5.96046448e-08, 0.00000000e+00, 5.96046448e-08,\n",
      "       2.98023224e-08, 0.00000000e+00, 1.43865168e-01, 6.55651093e-07,\n",
      "       8.94069672e-08, 1.49011612e-07, 2.97427177e-05, 2.38418579e-07,\n",
      "       1.40070915e-06, 8.31633806e-04, 4.76837158e-07, 4.20212746e-06,\n",
      "       1.22189522e-06, 9.46913958e-02, 1.78813934e-07, 1.43051147e-06,\n",
      "       5.42211533e-03, 1.01327896e-06, 9.32514668e-05, 2.45690346e-03,\n",
      "       1.01327896e-06, 9.77516174e-06, 2.19526887e-03, 2.18862295e-03,\n",
      "       2.33143568e-04, 4.72366810e-05, 2.98023224e-07, 3.96141410e-03,\n",
      "       4.49194044e-01, 2.89082527e-06, 1.38685107e-03, 1.39034390e-02,\n",
      "       8.14199448e-05, 2.41845846e-04, 1.37737393e-03, 2.02871263e-02,\n",
      "       0.00000000e+00, 0.00000000e+00, 0.00000000e+00, 1.20997429e-05,\n",
      "       0.00000000e+00, 3.29226255e-04, 1.62571669e-04, 1.49011612e-07,\n",
      "       0.00000000e+00, 2.47001648e-04, 1.78813934e-07, 4.14743423e-02,\n",
      "       2.51975060e-02, 5.36441803e-07, 3.57627869e-07, 2.08616257e-07,\n",
      "       6.25848770e-07, 0.00000000e+00, 6.57588243e-04, 1.13087893e-03,\n",
      "       8.94069672e-08, 9.80705023e-04, 9.59336758e-05, 0.00000000e+00,\n",
      "       5.96046448e-08, 8.94069672e-08, 9.29296017e-03, 2.97867298e-01,\n",
      "       2.42888927e-05, 3.08156013e-05, 9.99998689e-01, 8.34465027e-07,\n",
      "       5.96046448e-08, 4.02837992e-04, 6.76184893e-04, 7.59959221e-06,\n",
      "       2.25126743e-04, 1.24871731e-04, 2.80439854e-05, 2.32774019e-03,\n",
      "       4.17232513e-07, 8.84205103e-04, 2.69770622e-04, 8.94069672e-07,\n",
      "       9.53674316e-07, 4.89205122e-04, 1.82715058e-03, 2.29775906e-04,\n",
      "       1.28805637e-04, 7.38799572e-05, 1.00016594e-04, 5.06639481e-07,\n",
      "       1.72212720e-03, 1.23971701e-03, 2.98023224e-07, 1.43945217e-05,\n",
      "       6.25848770e-07, 8.34465027e-07, 1.32530928e-04, 1.10268593e-06,\n",
      "       1.44153833e-04, 4.47034836e-07, 5.06639481e-07, 1.29729509e-04,\n",
      "       2.98023224e-07, 1.02230906e-03, 1.19209290e-06, 4.38094139e-06,\n",
      "       3.57627869e-07, 7.15255737e-07, 0.00000000e+00, 4.03764844e-03,\n",
      "       3.35007906e-04, 4.82350588e-04, 3.57627869e-07, 1.85166895e-02,\n",
      "       1.34110451e-06, 4.21832502e-02, 4.42313254e-02, 0.00000000e+00,\n",
      "       8.94069672e-08, 1.78813934e-07, 0.00000000e+00, 0.00000000e+00,\n",
      "       1.19209290e-07, 7.62697339e-01, 0.00000000e+00, 3.27825546e-07,\n",
      "       1.87754631e-06, 2.80141830e-06, 0.00000000e+00, 5.96046448e-07,\n",
      "       5.06639481e-07, 5.66458702e-03, 0.00000000e+00, 6.76286817e-02,\n",
      "       3.03541422e-02, 0.00000000e+00, 1.07923746e-02, 3.60327065e-02,\n",
      "       4.31659818e-03, 2.66650617e-02, 1.22043490e-03, 4.08291817e-06,\n",
      "       5.87165356e-03, 9.29301977e-03, 0.00000000e+00, 1.19209290e-07,\n",
      "       1.98512971e-02, 4.16048169e-02, 4.43565845e-02, 0.00000000e+00,\n",
      "       1.32821679e-01, 1.06947005e-01, 3.71902883e-02, 1.66357160e-02,\n",
      "       1.36943758e-02, 3.09507936e-01, 4.01895732e-01, 2.49706566e-01,\n",
      "       2.11495906e-01, 4.79722023e-03], dtype=float32))]\n",
      "Error processing in run 1... Length of passed values is 99, index implies 100\n",
      "Running test n.2\n"
     ]
    },
    {
     "data": {
      "application/vnd.jupyter.widget-view+json": {
       "model_id": "10a14b81d98a4be1941318698ba159d1",
       "version_major": 2,
       "version_minor": 0
      },
      "text/plain": [
       "HBox(children=(IntProgress(value=0), HTML(value='')))"
      ]
     },
     "metadata": {},
     "output_type": "display_data"
    },
    {
     "name": "stdout",
     "output_type": "stream",
     "text": [
      "solving ...\n",
      "solving ...\n",
      "solving ...\n",
      "solving ...\n",
      "solving ...\n",
      "solving ...\n",
      "solving ...\n",
      "solving ...\n",
      "solving ...\n",
      "solving ...\n",
      "solving ...\n",
      "solving ...\n",
      "solving ...\n",
      "solving ...\n",
      "solving ...\n",
      "solving ...\n",
      "solving ...\n",
      "solving ...\n",
      "solving ...\n",
      "solving ...\n",
      "solving ...\n",
      "solving ...\n",
      "solving ...\n",
      "solving ...\n",
      "solving ...\n",
      "solving ...\n",
      "solving ...\n",
      "solving ...\n",
      "solving ...\n",
      "solving ...\n",
      "solving ...\n",
      "solving ...\n",
      "solving ...\n",
      "solving ...\n",
      "solving ...\n",
      "solving ...\n",
      "solving ...\n",
      "solving ...\n",
      "solving ...\n",
      "solving ...\n",
      "solving ...\n",
      "solving ...\n",
      "solving ...\n",
      "solving ...\n",
      "solving ...\n",
      "solving ...\n",
      "solving ...\n",
      "solving ...\n",
      "solving ...\n",
      "solving ...\n",
      "solving ...\n",
      "solving ...\n",
      "solving ...\n",
      "solving ...\n",
      "solving ...\n",
      "solving ...\n",
      "solving ...\n",
      "solving ...\n",
      "solving ...\n",
      "solving ...\n",
      "solving ...\n",
      "solving ...\n",
      "solving ...\n",
      "solving ...\n",
      "solving ...\n",
      "solving ...\n",
      "solving ...\n",
      "solving ...\n",
      "solving ...\n",
      "solving ...\n",
      "solving ...\n",
      "solving ...\n",
      "solving ...\n",
      "solving ...\n",
      "solving ...\n",
      "solving ...\n",
      "solving ...\n",
      "solving ...\n",
      "solving ...\n",
      "solving ...\n",
      "solving ...\n",
      "solving ...\n",
      "solving ...\n",
      "solving ...\n",
      "solving ...\n",
      "solving ...\n",
      "solving ...\n",
      "solving ...\n",
      "solving ...\n",
      "solving ...\n",
      "solving ...\n",
      "solving ...\n",
      "solving ...\n",
      "solving ...\n",
      "solving ...\n",
      "solving ...\n",
      "solving ...\n",
      "solving ...\n",
      "solving ...\n",
      "solving ...\n",
      "Running evaluation on model_w.*solver_thres:0.5000000000000001_CIS over 2 iterations\n"
     ]
    },
    {
     "data": {
      "application/vnd.jupyter.widget-view+json": {
       "model_id": "ece794ea90b4463dbec30221d1e66a89",
       "version_major": 2,
       "version_minor": 0
      },
      "text/plain": [
       "HBox(children=(IntProgress(value=0, max=2), HTML(value='')))"
      ]
     },
     "metadata": {},
     "output_type": "display_data"
    },
    {
     "name": "stdout",
     "output_type": "stream",
     "text": [
      "Running test n.1\n"
     ]
    },
    {
     "data": {
      "application/vnd.jupyter.widget-view+json": {
       "model_id": "06747c7740ff4081a30100a113ae386d",
       "version_major": 2,
       "version_minor": 0
      },
      "text/plain": [
       "HBox(children=(IntProgress(value=0), HTML(value='')))"
      ]
     },
     "metadata": {},
     "output_type": "display_data"
    },
    {
     "name": "stdout",
     "output_type": "stream",
     "text": [
      "solving ...\n",
      "solving ...\n",
      "solving ...\n",
      "solving ...\n",
      "solving ...\n",
      "solving ...\n",
      "solving ...\n",
      "solving ...\n",
      "solving ...\n",
      "solving ...\n",
      "solving ...\n",
      "solving ...\n",
      "solving ...\n",
      "solving ...\n",
      "solving ...\n",
      "solving ...\n",
      "solving ...\n",
      "solving ...\n",
      "solving ...\n",
      "solving ...\n",
      "solving ...\n",
      "solving ...\n",
      "solving ...\n",
      "solving ...\n",
      "solving ...\n",
      "solving ...\n",
      "solving ...\n",
      "solving ...\n",
      "solving ...\n",
      "solving ...\n",
      "solving ...\n",
      "solving ...\n",
      "solving ...\n",
      "solving ...\n",
      "solving ...\n",
      "solving ...\n",
      "solving ...\n",
      "solving ...\n",
      "solving ...\n",
      "solving ...\n",
      "solving ...\n",
      "solving ...\n",
      "solving ...\n",
      "solving ...\n",
      "solving ...\n",
      "solving ...\n",
      "solving ...\n",
      "solving ...\n",
      "solving ...\n",
      "solving ...\n",
      "solving ...\n",
      "solving ...\n",
      "solving ...\n",
      "solving ...\n",
      "solving ...\n",
      "solving ...\n",
      "solving ...\n",
      "solving ...\n",
      "solving ...\n",
      "solving ...\n",
      "solving ...\n",
      "solving ...\n",
      "solving ...\n",
      "solving ...\n",
      "solving ...\n",
      "solving ...\n",
      "solving ...\n",
      "solving ...\n",
      "solving ...\n",
      "solving ...\n",
      "solving ...\n",
      "solving ...\n",
      "solving ...\n",
      "solving ...\n",
      "solving ...\n",
      "solving ...\n",
      "solving ...\n",
      "solving ...\n",
      "solving ...\n",
      "solving ...\n",
      "solving ...\n",
      "solving ...\n",
      "solving ...\n",
      "solving ...\n",
      "solving ...\n",
      "solving ...\n",
      "solving ...\n",
      "solving ...\n",
      "solving ...\n",
      "solving ...\n",
      "solving ...\n",
      "solving ...\n",
      "solving ...\n",
      "solving ...\n",
      "solving ...\n",
      "solving ...\n",
      "solving ...\n",
      "solving ...\n",
      "solving ...\n",
      "solving ...\n",
      "Running test n.2\n"
     ]
    },
    {
     "data": {
      "application/vnd.jupyter.widget-view+json": {
       "model_id": "9005e47348ad4b48bcd158747f9dd4ac",
       "version_major": 2,
       "version_minor": 0
      },
      "text/plain": [
       "HBox(children=(IntProgress(value=0), HTML(value='')))"
      ]
     },
     "metadata": {},
     "output_type": "display_data"
    },
    {
     "name": "stdout",
     "output_type": "stream",
     "text": [
      "solving ...\n",
      "solving ...\n",
      "solving ...\n",
      "solving ...\n",
      "solving ...\n",
      "solving ...\n",
      "solving ...\n",
      "solving ...\n",
      "solving ...\n",
      "solving ...\n",
      "solving ...\n",
      "solving ...\n",
      "solving ...\n",
      "solving ...\n",
      "solving ...\n",
      "solving ...\n",
      "solving ...\n",
      "solving ...\n",
      "solving ...\n",
      "solving ...\n",
      "solving ...\n",
      "solving ...\n",
      "solving ...\n",
      "solving ...\n",
      "solving ...\n",
      "solving ...\n",
      "solving ...\n",
      "solving ...\n",
      "solving ...\n",
      "solving ...\n",
      "solving ...\n",
      "solving ...\n",
      "solving ...\n",
      "solving ...\n",
      "solving ...\n",
      "solving ...\n",
      "solving ...\n",
      "solving ...\n",
      "solving ...\n",
      "solving ...\n",
      "solving ...\n",
      "solving ...\n",
      "solving ...\n",
      "solving ...\n",
      "solving ...\n",
      "solving ...\n",
      "solving ...\n",
      "solving ...\n",
      "solving ...\n",
      "solving ...\n",
      "solving ...\n",
      "solving ...\n",
      "solving ...\n",
      "solving ...\n",
      "solving ...\n",
      "solving ...\n",
      "solving ...\n",
      "solving ...\n",
      "solving ...\n",
      "solving ...\n",
      "solving ...\n",
      "solving ...\n",
      "solving ...\n",
      "solving ...\n",
      "solving ...\n",
      "solving ...\n",
      "solving ...\n",
      "solving ...\n",
      "solving ...\n",
      "solving ...\n",
      "solving ...\n",
      "solving ...\n",
      "solving ...\n",
      "solving ...\n",
      "solving ...\n",
      "solving ...\n",
      "solving ...\n",
      "solving ...\n",
      "solving ...\n",
      "solving ...\n",
      "solving ...\n",
      "solving ...\n",
      "solving ...\n",
      "solving ...\n",
      "solving ...\n",
      "solving ...\n",
      "solving ...\n",
      "solving ...\n",
      "solving ...\n",
      "solving ...\n",
      "solving ...\n",
      "solving ...\n",
      "solving ...\n",
      "solving ...\n",
      "solving ...\n",
      "solving ...\n",
      "solving ...\n",
      "solving ...\n",
      "solving ...\n",
      "solving ...\n",
      "Running evaluation on model_w.*solver_thres:0.7000000000000001_CIS over 2 iterations\n"
     ]
    },
    {
     "data": {
      "application/vnd.jupyter.widget-view+json": {
       "model_id": "783572ab322e440eb8d66c9ff8ec469a",
       "version_major": 2,
       "version_minor": 0
      },
      "text/plain": [
       "HBox(children=(IntProgress(value=0, max=2), HTML(value='')))"
      ]
     },
     "metadata": {},
     "output_type": "display_data"
    },
    {
     "name": "stdout",
     "output_type": "stream",
     "text": [
      "Running test n.1\n"
     ]
    },
    {
     "data": {
      "application/vnd.jupyter.widget-view+json": {
       "model_id": "9e4ad4329d084f8f9391e07c1f855886",
       "version_major": 2,
       "version_minor": 0
      },
      "text/plain": [
       "HBox(children=(IntProgress(value=0), HTML(value='')))"
      ]
     },
     "metadata": {},
     "output_type": "display_data"
    },
    {
     "name": "stdout",
     "output_type": "stream",
     "text": [
      "solving ...\n",
      "solving ...\n",
      "solving ...\n",
      "solving ...\n",
      "solving ...\n",
      "solving ...\n",
      "solving ...\n",
      "solving ...\n",
      "solving ...\n",
      "solving ...\n",
      "solving ...\n",
      "solving ...\n",
      "solving ...\n",
      "solving ...\n",
      "solving ...\n",
      "solving ...\n",
      "solving ...\n",
      "solving ...\n",
      "solving ...\n",
      "solving ...\n",
      "solving ...\n",
      "solving ...\n",
      "solving ...\n",
      "solving ...\n",
      "solving ...\n",
      "solving ...\n",
      "solving ...\n",
      "solving ...\n",
      "solving ...\n",
      "solving ...\n",
      "solving ...\n",
      "solving ...\n",
      "solving ...\n",
      "solving ...\n",
      "solving ...\n",
      "solving ...\n",
      "solving ...\n",
      "solving ...\n",
      "solving ...\n",
      "solving ...\n",
      "solving ...\n",
      "solving ...\n",
      "solving ...\n",
      "solving ...\n",
      "solving ...\n",
      "solving ...\n",
      "solving ...\n",
      "solving ...\n",
      "solving ...\n",
      "solving ...\n",
      "solving ...\n",
      "solving ...\n",
      "solving ...\n",
      "solving ...\n",
      "solving ...\n",
      "solving ...\n",
      "solving ...\n",
      "solving ...\n",
      "solving ...\n",
      "solving ...\n",
      "solving ...\n",
      "solving ...\n",
      "solving ...\n",
      "solving ...\n",
      "solving ...\n",
      "solving ...\n",
      "solving ...\n",
      "solving ...\n",
      "solving ...\n",
      "solving ...\n",
      "solving ...\n",
      "solving ...\n",
      "solving ...\n",
      "solving ...\n",
      "solving ...\n",
      "solving ...\n",
      "solving ...\n",
      "solving ...\n",
      "solving ...\n",
      "solving ...\n",
      "solving ...\n",
      "solving ...\n",
      "solving ...\n",
      "solving ...\n",
      "solving ...\n",
      "solving ...\n",
      "solving ...\n",
      "solving ...\n",
      "solving ...\n",
      "solving ...\n",
      "solving ...\n",
      "solving ...\n",
      "solving ...\n",
      "solving ...\n",
      "solving ...\n",
      "solving ...\n",
      "solving ...\n",
      "solving ...\n",
      "solving ...\n",
      "solving ...\n",
      "Running test n.2\n"
     ]
    },
    {
     "data": {
      "application/vnd.jupyter.widget-view+json": {
       "model_id": "dcc0b3ef749544d8ababcbdfea93b61f",
       "version_major": 2,
       "version_minor": 0
      },
      "text/plain": [
       "HBox(children=(IntProgress(value=0), HTML(value='')))"
      ]
     },
     "metadata": {},
     "output_type": "display_data"
    },
    {
     "name": "stdout",
     "output_type": "stream",
     "text": [
      "solving ...\n",
      "solving ...\n",
      "solving ...\n",
      "solving ...\n",
      "solving ...\n",
      "solving ...\n",
      "solving ...\n",
      "solving ...\n",
      "solving ...\n",
      "solving ...\n",
      "solving ...\n",
      "solving ...\n",
      "solving ...\n",
      "solving ...\n",
      "solving ...\n",
      "solving ...\n",
      "solving ...\n",
      "solving ...\n",
      "solving ...\n",
      "solving ...\n",
      "solving ...\n",
      "solving ...\n",
      "solving ...\n",
      "solving ...\n",
      "solving ...\n",
      "solving ...\n",
      "solving ...\n",
      "solving ...\n",
      "solving ...\n",
      "solving ...\n",
      "solving ...\n",
      "solving ...\n",
      "solving ...\n",
      "solving ...\n",
      "solving ...\n",
      "solving ...\n",
      "solving ...\n",
      "solving ...\n",
      "solving ...\n",
      "solving ...\n",
      "solving ...\n",
      "solving ...\n",
      "solving ...\n",
      "solving ...\n",
      "solving ...\n",
      "solving ...\n",
      "solving ...\n",
      "solving ...\n",
      "solving ...\n",
      "solving ...\n",
      "solving ...\n",
      "solving ...\n",
      "solving ...\n",
      "solving ...\n",
      "solving ...\n",
      "solving ...\n",
      "solving ...\n",
      "solving ...\n",
      "solving ...\n",
      "solving ...\n",
      "solving ...\n",
      "solving ...\n",
      "solving ...\n",
      "solving ...\n",
      "solving ...\n",
      "solving ...\n",
      "solving ...\n",
      "solving ...\n",
      "solving ...\n",
      "solving ...\n",
      "solving ...\n",
      "solving ...\n",
      "solving ...\n",
      "solving ...\n",
      "solving ...\n",
      "solving ...\n",
      "solving ...\n",
      "solving ...\n",
      "solving ...\n",
      "solving ...\n",
      "solving ...\n",
      "solving ...\n",
      "solving ...\n",
      "solving ...\n",
      "solving ...\n",
      "solving ...\n",
      "solving ...\n",
      "solving ...\n",
      "solving ...\n",
      "solving ...\n",
      "solving ...\n",
      "solving ...\n",
      "solving ...\n",
      "solving ...\n",
      "solving ...\n",
      "solving ...\n",
      "solving ...\n",
      "solving ...\n",
      "solving ...\n",
      "solving ...\n",
      "Running evaluation on model_w.*solver_thres:0.9000000000000001_CIS over 2 iterations\n"
     ]
    },
    {
     "data": {
      "application/vnd.jupyter.widget-view+json": {
       "model_id": "d7a394b4635e4b24ba7a435d2b198ed1",
       "version_major": 2,
       "version_minor": 0
      },
      "text/plain": [
       "HBox(children=(IntProgress(value=0, max=2), HTML(value='')))"
      ]
     },
     "metadata": {},
     "output_type": "display_data"
    },
    {
     "name": "stdout",
     "output_type": "stream",
     "text": [
      "Running test n.1\n"
     ]
    },
    {
     "data": {
      "application/vnd.jupyter.widget-view+json": {
       "model_id": "51c2102cd61c4e588289f7b4f97bfe2a",
       "version_major": 2,
       "version_minor": 0
      },
      "text/plain": [
       "HBox(children=(IntProgress(value=0), HTML(value='')))"
      ]
     },
     "metadata": {},
     "output_type": "display_data"
    },
    {
     "name": "stdout",
     "output_type": "stream",
     "text": [
      "solving ...\n",
      "solving ...\n",
      "solving ...\n",
      "solving ...\n",
      "solving ...\n",
      "solving ...\n",
      "solving ...\n",
      "solving ...\n",
      "solving ...\n",
      "solving ...\n",
      "solving ...\n",
      "solving ...\n",
      "solving ...\n",
      "solving ...\n",
      "solving ...\n",
      "solving ...\n",
      "solving ...\n",
      "solving ...\n",
      "solving ...\n",
      "solving ...\n",
      "solving ...\n",
      "solving ...\n",
      "solving ...\n",
      "solving ...\n",
      "solving ...\n",
      "solving ...\n",
      "solving ...\n",
      "solving ...\n",
      "solving ...\n",
      "solving ...\n",
      "solving ...\n",
      "solving ...\n",
      "solving ...\n",
      "solving ...\n",
      "solving ...\n",
      "solving ...\n",
      "solving ...\n",
      "solving ...\n",
      "solving ...\n",
      "solving ...\n",
      "solving ...\n",
      "solving ...\n",
      "solving ...\n",
      "solving ...\n",
      "solving ...\n",
      "solving ...\n",
      "solving ...\n",
      "solving ...\n",
      "solving ...\n",
      "solving ...\n",
      "solving ...\n",
      "solving ...\n",
      "solving ...\n",
      "solving ...\n",
      "solving ...\n",
      "solving ...\n",
      "solving ...\n",
      "solving ...\n",
      "solving ...\n",
      "solving ...\n",
      "solving ...\n",
      "solving ...\n",
      "solving ...\n",
      "solving ...\n",
      "solving ...\n",
      "solving ...\n",
      "solving ...\n",
      "solving ...\n",
      "solving ...\n",
      "solving ...\n",
      "solving ...\n",
      "solving ...\n",
      "solving ...\n",
      "solving ...\n",
      "solving ...\n",
      "solving ...\n",
      "solving ...\n",
      "solving ...\n",
      "solving ...\n",
      "solving ...\n",
      "solving ...\n",
      "solving ...\n",
      "solving ...\n",
      "solving ...\n",
      "solving ...\n",
      "solving ...\n",
      "solving ...\n",
      "solving ...\n",
      "solving ...\n",
      "solving ...\n",
      "solving ...\n",
      "solving ...\n",
      "solving ...\n",
      "solving ...\n",
      "solving ...\n",
      "solving ...\n",
      "solving ...\n",
      "solving ...\n",
      "solving ...\n",
      "solving ...\n",
      "Running test n.2\n"
     ]
    },
    {
     "data": {
      "application/vnd.jupyter.widget-view+json": {
       "model_id": "7101bb5a8bad4b539854bb236d755f49",
       "version_major": 2,
       "version_minor": 0
      },
      "text/plain": [
       "HBox(children=(IntProgress(value=0), HTML(value='')))"
      ]
     },
     "metadata": {},
     "output_type": "display_data"
    },
    {
     "name": "stdout",
     "output_type": "stream",
     "text": [
      "solving ...\n",
      "solving ...\n",
      "solving ...\n",
      "solving ...\n",
      "solving ...\n",
      "solving ...\n",
      "solving ...\n",
      "solving ...\n",
      "solving ...\n",
      "solving ...\n",
      "solving ...\n",
      "solving ...\n",
      "solving ...\n",
      "solving ...\n",
      "solving ...\n",
      "solving ...\n",
      "solving ...\n",
      "solving ...\n",
      "solving ...\n",
      "solving ...\n",
      "solving ...\n",
      "solving ...\n",
      "solving ...\n",
      "solving ...\n",
      "solving ...\n",
      "solving ...\n",
      "solving ...\n",
      "solving ...\n",
      "solving ...\n",
      "solving ...\n",
      "solving ...\n",
      "solving ...\n",
      "solving ...\n",
      "solving ...\n",
      "solving ...\n",
      "solving ...\n",
      "solving ...\n",
      "solving ...\n",
      "solving ...\n",
      "solving ...\n",
      "solving ...\n",
      "solving ...\n",
      "solving ...\n",
      "solving ...\n",
      "solving ...\n",
      "solving ...\n",
      "solving ...\n",
      "solving ...\n",
      "solving ...\n",
      "solving ...\n",
      "solving ...\n",
      "solving ...\n",
      "solving ...\n",
      "solving ...\n",
      "solving ...\n",
      "solving ...\n",
      "solving ...\n",
      "solving ...\n",
      "solving ...\n",
      "solving ...\n",
      "solving ...\n",
      "solving ...\n",
      "solving ...\n",
      "solving ...\n",
      "solving ...\n",
      "solving ...\n",
      "solving ...\n",
      "solving ...\n",
      "solving ...\n",
      "solving ...\n",
      "solving ...\n",
      "solving ...\n",
      "solving ...\n",
      "solving ...\n",
      "solving ...\n",
      "solving ...\n",
      "solving ...\n",
      "solving ...\n",
      "solving ...\n",
      "solving ...\n",
      "solving ...\n",
      "solving ...\n",
      "solving ...\n",
      "solving ...\n",
      "solving ...\n",
      "solving ...\n",
      "solving ...\n",
      "solving ...\n",
      "solving ...\n",
      "solving ...\n",
      "solving ...\n",
      "solving ...\n",
      "solving ...\n",
      "solving ...\n",
      "solving ...\n",
      "solving ...\n",
      "solving ...\n",
      "solving ...\n",
      "solving ...\n",
      "solving ...\n",
      "\n"
     ]
    },
    {
     "data": {
      "text/plain": [
       "{'model_nosolver_pno12': [0.1572727272727273, 0.1613636363636364],\n",
       " 'model_nosolver_pno34': [0.08338461538461538, 0.08415384615384613],\n",
       " 'model_nosolver_CIS': [0.689656862745098, 0.6845098039215685],\n",
       " 'model_w.solver_CIS': [0.14237745098039217, 0.1478921568627451],\n",
       " 'model_nosolver.solver_thres:0.1_CIS': [0.11504901960784313,\n",
       "  0.1140686274509804],\n",
       " 'model_nosolver.solver_thres:0.30000000000000004_CIS': [0.057573529411764704,\n",
       "  0.0582843137254902],\n",
       " 'model_nosolver.solver_thres:0.5000000000000001_CIS': [0.04791666666666667,\n",
       "  0.047107843137254905],\n",
       " 'model_nosolver.solver_thres:0.7000000000000001_CIS': [0.0428186274509804,\n",
       "  0.04409313725490196],\n",
       " 'model_nosolver.solver_thres:0.9000000000000001_CIS': [0.039289215686274505,\n",
       "  0.039142156862745095],\n",
       " 'model_w.*solver_thres:0.1_CIS': [0.07573529411764705, 0.07708333333333332],\n",
       " 'model_w.*solver_thres:0.30000000000000004_CIS': [0.04602941176470589],\n",
       " 'model_w.*solver_thres:0.5000000000000001_CIS': [0.04154411764705883,\n",
       "  0.04098039215686275],\n",
       " 'model_w.*solver_thres:0.7000000000000001_CIS': [0.03705882352941176,\n",
       "  0.036985294117647054],\n",
       " 'model_w.*solver_thres:0.9000000000000001_CIS': [0.03517156862745097,\n",
       "  0.035514705882352934]}"
      ]
     },
     "execution_count": 104,
     "metadata": {},
     "output_type": "execute_result"
    }
   ],
   "source": [
    "evaluator = exjobb_data.Evaluator(test,2,sample_size=100)\n",
    "evaluator.enqueue(exjobb_data.Pno34ModelResolver(aggmodel,cb,pno12_solver,pnotype=PNO12), 'model_nosolver_pno12')\n",
    "evaluator.enqueue(exjobb_data.Pno34ModelResolver(aggmodel,cb,pno12_solver,pnotype=PNO34), 'model_nosolver_pno34')\n",
    "evaluator.enqueue(exjobb_data.Pno34ModelResolver(aggmodel,cb,pno12_solver,pnotype=CIS,use_solver=False), 'model_nosolver_CIS')\n",
    "evaluator.enqueue(exjobb_data.Pno34ModelResolver(aggmodel,cb,pno12_solver,pnotype=CIS,use_solver=True), 'model_w.solver_CIS')\n",
    "\n",
    "for t in np.arange(0.1,1.1,0.2):\n",
    "    evaluator.enqueue(exjobb_data.Pno34ModelResolver(aggmodel,cb,pno12_solver,threshold=t,pnotype=CIS,use_solver=False), f'model_nosolver.solver_thres:{t}_CIS')\n",
    "\n",
    "for t in np.arange(0.1,1.1,0.2):\n",
    "    evaluator.enqueue(exjobb_data.Pno34ModelResolver(aggmodel,cb,pno12_solver,threshold=t,pnotype=CIS,use_solver=True), f'model_w.*solver_thres:{t}_CIS')\n",
    "\n",
    "evaluator.run_queue()"
   ]
  },
  {
   "cell_type": "code",
   "execution_count": 106,
   "metadata": {},
   "outputs": [],
   "source": [
    "with open('algo2_results_new_data.pickle', 'wb') as f:\n",
    "    pickle.dump(evaluator.history,f)"
   ]
  },
  {
   "cell_type": "code",
   "execution_count": 107,
   "metadata": {},
   "outputs": [
    {
     "data": {
      "text/plain": [
       "{'model_nosolver_pno12': [0.1572727272727273, 0.1613636363636364],\n",
       " 'model_nosolver_pno34': [0.08338461538461538, 0.08415384615384613],\n",
       " 'model_nosolver_CIS': [0.689656862745098, 0.6845098039215685],\n",
       " 'model_w.solver_CIS': [0.14237745098039217, 0.1478921568627451],\n",
       " 'model_nosolver.solver_thres:0.1_CIS': [0.11504901960784313,\n",
       "  0.1140686274509804],\n",
       " 'model_nosolver.solver_thres:0.30000000000000004_CIS': [0.057573529411764704,\n",
       "  0.0582843137254902],\n",
       " 'model_nosolver.solver_thres:0.5000000000000001_CIS': [0.04791666666666667,\n",
       "  0.047107843137254905],\n",
       " 'model_nosolver.solver_thres:0.7000000000000001_CIS': [0.0428186274509804,\n",
       "  0.04409313725490196],\n",
       " 'model_nosolver.solver_thres:0.9000000000000001_CIS': [0.039289215686274505,\n",
       "  0.039142156862745095],\n",
       " 'model_w.*solver_thres:0.1_CIS': [0.07573529411764705, 0.07708333333333332],\n",
       " 'model_w.*solver_thres:0.30000000000000004_CIS': [0.04602941176470589],\n",
       " 'model_w.*solver_thres:0.5000000000000001_CIS': [0.04154411764705883,\n",
       "  0.04098039215686275],\n",
       " 'model_w.*solver_thres:0.7000000000000001_CIS': [0.03705882352941176,\n",
       "  0.036985294117647054],\n",
       " 'model_w.*solver_thres:0.9000000000000001_CIS': [0.03517156862745097,\n",
       "  0.035514705882352934]}"
      ]
     },
     "execution_count": 107,
     "metadata": {},
     "output_type": "execute_result"
    }
   ],
   "source": [
    "evaluator.history"
   ]
  }
 ],
 "metadata": {
  "kernelspec": {
   "display_name": "Python 3",
   "language": "python",
   "name": "python3"
  },
  "language_info": {
   "codemirror_mode": {
    "name": "ipython",
    "version": 3
   },
   "file_extension": ".py",
   "mimetype": "text/x-python",
   "name": "python",
   "nbconvert_exporter": "python",
   "pygments_lexer": "ipython3",
   "version": "3.6.8"
  }
 },
 "nbformat": 4,
 "nbformat_minor": 2
}
