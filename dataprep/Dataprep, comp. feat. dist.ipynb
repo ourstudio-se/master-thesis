{
 "cells": [
  {
   "cell_type": "code",
   "execution_count": 42,
   "metadata": {},
   "outputs": [
    {
     "data": {
      "application/vnd.jupyter.widget-view+json": {
       "model_id": "60305152a8be4fad8b10022466013aab",
       "version_major": 2,
       "version_minor": 0
      },
      "text/plain": [
       "HBox(children=(IntProgress(value=1, bar_style='info', max=1), HTML(value='')))"
      ]
     },
     "metadata": {},
     "output_type": "display_data"
    },
    {
     "name": "stdout",
     "output_type": "stream",
     "text": [
      "\n"
     ]
    },
    {
     "data": {
      "application/vnd.jupyter.widget-view+json": {
       "model_id": "be8783e5003344aa84741f25de3beac5",
       "version_major": 2,
       "version_minor": 0
      },
      "text/plain": [
       "HBox(children=(IntProgress(value=1, bar_style='info', max=1), HTML(value='')))"
      ]
     },
     "metadata": {},
     "output_type": "display_data"
    },
    {
     "name": "stdout",
     "output_type": "stream",
     "text": [
      "\n",
      "exjobb data prepare loading...   \n",
      "data loaded ....\n"
     ]
    }
   ],
   "source": [
    "import tensorflow as tf\n",
    "#tf.enable_eager_execution()\n",
    "#from graphlib.keras_model import CarRatingPrediction\n",
    "from graphlib.cryptographer import Cryptographer\n",
    "from graphlib.volvo_stats import VolvoStats\n",
    "from graphlib.types import Types\n",
    "#from graphlib.carbinarizer import CarBinarizer\n",
    "from graphlib.find_distribution import best_fit_distribution\n",
    "import pandas as pd\n",
    "import pandas_profiling as pp\n",
    "from sklearn.preprocessing import StandardScaler, MinMaxScaler\n",
    "from sklearn.preprocessing import LabelEncoder\n",
    "from sklearn.model_selection import train_test_split\n",
    "from tqdm import tqdm, tqdm_notebook\n",
    "tqdm_notebook().pandas()\n",
    "import matplotlib.pyplot as plt\n",
    "pd.set_option('display.max_columns', 500)\n",
    "import matplotlib.pyplot as plt\n",
    "plt.rcParams['figure.figsize'] = [10, 5]\n",
    "import keras\n",
    "from keras import optimizers\n",
    "from keras import Model\n",
    "from keras.callbacks import TensorBoard, ModelCheckpoint, ReduceLROnPlateau, EarlyStopping\n",
    "from keras.utils import plot_model\n",
    "from keras.layers import Embedding, Dense, Input, concatenate, dot, CuDNNLSTM, RepeatVector, Dropout, LeakyReLU, Flatten, BatchNormalization, Activation\n",
    "from IPython.display import Image\n",
    "from datetime import datetime\n",
    "import tensorflow as tf\n",
    "from tensorflow import set_random_seed\n",
    "import numpy as np\n",
    "import seaborn as sns\n",
    "from scipy.stats import norm\n",
    "from graphlib.cryptographer import Cryptographer\n",
    "from graphlib.volvo_stats import VolvoStats\n",
    "import pickle\n",
    "set_random_seed(15)\n",
    "tf.__version__\n",
    "from exjobb_data import *"
   ]
  },
  {
   "cell_type": "markdown",
   "metadata": {},
   "source": [
    "### Define the training and test data"
   ]
  },
  {
   "cell_type": "code",
   "execution_count": 3,
   "metadata": {},
   "outputs": [
    {
     "data": {
      "text/html": [
       "<div>\n",
       "<style scoped>\n",
       "    .dataframe tbody tr th:only-of-type {\n",
       "        vertical-align: middle;\n",
       "    }\n",
       "\n",
       "    .dataframe tbody tr th {\n",
       "        vertical-align: top;\n",
       "    }\n",
       "\n",
       "    .dataframe thead th {\n",
       "        text-align: right;\n",
       "    }\n",
       "</style>\n",
       "<table border=\"1\" class=\"dataframe\">\n",
       "  <thead>\n",
       "    <tr style=\"text-align: right;\">\n",
       "      <th></th>\n",
       "      <th>antal_inpendlare</th>\n",
       "      <th>antal_utpendlare</th>\n",
       "      <th>postnummer</th>\n",
       "      <th>man</th>\n",
       "      <th>kvinnor</th>\n",
       "      <th>forvarvs-arbetande</th>\n",
       "      <th>ej_forvarvs-arbetande</th>\n",
       "      <th>aganderatt_smahus</th>\n",
       "      <th>bostadsratt</th>\n",
       "      <th>hyresratt</th>\n",
       "      <th>ovriga_inkl_uppgift_saknas</th>\n",
       "      <th>forgymnasial</th>\n",
       "      <th>gymnasial</th>\n",
       "      <th>eftergymnasial_mindre_an_3_ar</th>\n",
       "      <th>eftergymnasial_3_ar_eller_langre_inkl_forskarutbildning</th>\n",
       "      <th>uppgift_saknas</th>\n",
       "      <th>0-6_ar</th>\n",
       "      <th>7-15_ar</th>\n",
       "      <th>16-19_ar</th>\n",
       "      <th>20-24_ar</th>\n",
       "      <th>25-44_ar</th>\n",
       "      <th>45-64_ar</th>\n",
       "      <th>65-w_ar</th>\n",
       "      <th>lag_inkomst</th>\n",
       "      <th>medellag_inkomst</th>\n",
       "      <th>medelhog_inkomst</th>\n",
       "      <th>hog_inkomst</th>\n",
       "      <th>sammanboende_med_barn</th>\n",
       "      <th>sammanboende_utan_barn</th>\n",
       "      <th>ensamstaende_med_barn</th>\n",
       "      <th>ensamstaende_utan_barn</th>\n",
       "      <th>ovriga_hushall</th>\n",
       "      <th>lag_kopkraft</th>\n",
       "      <th>medellag_kopkraft</th>\n",
       "      <th>medelhog_kopkraft</th>\n",
       "      <th>hog_kopkraft</th>\n",
       "      <th>jordbruk_skogsbruk_jakt_och_fiske</th>\n",
       "      <th>tillverkning_och_utvinning</th>\n",
       "      <th>energi_och_miljoverksamhet</th>\n",
       "      <th>byggverksamhet</th>\n",
       "      <th>handel</th>\n",
       "      <th>transport_och_magasinering</th>\n",
       "      <th>hotell-_och_restaurangverksamhet</th>\n",
       "      <th>information_och_kommunikation</th>\n",
       "      <th>finans-_och_forsakringsverksamhet</th>\n",
       "      <th>fastighetsverksamhet</th>\n",
       "      <th>foretagstjanster</th>\n",
       "      <th>offentlig_forvaltning_och_forsvar</th>\n",
       "      <th>utbildning</th>\n",
       "      <th>vard_och_omsorg_sociala_tjanster</th>\n",
       "      <th>kulturella_och_personliga_tjanster_mm</th>\n",
       "      <th>okand_verksamhet</th>\n",
       "      <th>0_barn</th>\n",
       "      <th>1_barn</th>\n",
       "      <th>2_barn</th>\n",
       "      <th>3+_barn</th>\n",
       "      <th>postal_area</th>\n",
       "    </tr>\n",
       "  </thead>\n",
       "  <tbody>\n",
       "  </tbody>\n",
       "</table>\n",
       "</div>"
      ],
      "text/plain": [
       "Empty DataFrame\n",
       "Columns: [antal_inpendlare, antal_utpendlare, postnummer, man, kvinnor, forvarvs-arbetande, ej_forvarvs-arbetande, aganderatt_smahus, bostadsratt, hyresratt, ovriga_inkl_uppgift_saknas, forgymnasial, gymnasial, eftergymnasial_mindre_an_3_ar, eftergymnasial_3_ar_eller_langre_inkl_forskarutbildning, uppgift_saknas, 0-6_ar, 7-15_ar, 16-19_ar, 20-24_ar, 25-44_ar, 45-64_ar, 65-w_ar, lag_inkomst, medellag_inkomst, medelhog_inkomst, hog_inkomst, sammanboende_med_barn, sammanboende_utan_barn, ensamstaende_med_barn, ensamstaende_utan_barn, ovriga_hushall, lag_kopkraft, medellag_kopkraft, medelhog_kopkraft, hog_kopkraft, jordbruk_skogsbruk_jakt_och_fiske, tillverkning_och_utvinning, energi_och_miljoverksamhet, byggverksamhet, handel, transport_och_magasinering, hotell-_och_restaurangverksamhet, information_och_kommunikation, finans-_och_forsakringsverksamhet, fastighetsverksamhet, foretagstjanster, offentlig_forvaltning_och_forsvar, utbildning, vard_och_omsorg_sociala_tjanster, kulturella_och_personliga_tjanster_mm, okand_verksamhet, 0_barn, 1_barn, 2_barn, 3+_barn, postal_area]\n",
       "Index: []"
      ]
     },
     "execution_count": 3,
     "metadata": {},
     "output_type": "execute_result"
    }
   ],
   "source": [
    "df_zip = pd.read_parquet('/home/rocket/dev/data/volvo/scb_zipstat_full.parquet')\n",
    "df_zip.head(0)"
   ]
  },
  {
   "cell_type": "code",
   "execution_count": 4,
   "metadata": {},
   "outputs": [
    {
     "data": {
      "text/plain": [
       "Index(['TYPECODE', 'ENGINECODE', 'SALESVERSIONCODE', 'COLOUR', 'UPHOLSTERY',\n",
       "       'GEARBOXCODE', 'PACKAGES_CODES', 'OPT_CODES', 'Zip_Code', 'postnummer',\n",
       "       'antal_inpendlare', 'antal_utpendlare', 'förvärvs-arbetande',\n",
       "       'ej_förvärvs-arbetande', 'äganderätt/småhus', 'bostadsrätt',\n",
       "       'hyresrätt', 'övriga_inkl._uppgift_saknas', 'förgymnasial', 'gymnasial',\n",
       "       'eftergymnasial_mindre_än_3_år',\n",
       "       'eftergymnasial_3_år_eller_längre_inkl._forskarutbildning', '0-6_år',\n",
       "       '7-15_år', '16-19_år', '20-24_år', '25-44_år', '45-64_år', '65-w_år',\n",
       "       'låg_inkomst', 'medellåg_inkomst', 'medelhög_inkomst', 'hög_inkomst',\n",
       "       'medianinkomst', 'sammanboende_med_barn', 'sammanboende_utan_barn',\n",
       "       'ensamstående_med_barn', 'ensamstående_utan_barn', 'övriga_hushåll',\n",
       "       'låg_köpkraft', 'medellåg_köpkraft', 'medelhög_köpkraft',\n",
       "       'hög_köpkraft', 'median_köpkraft',\n",
       "       'jordbruk,_skogsbruk,_jakt_och_fiske', 'tillverkning_och_utvinning',\n",
       "       'energi_och_miljöverksamhet', 'byggverksamhet', 'handel',\n",
       "       'transport_och_magasinering', 'hotell-_och_restaurangverksamhet',\n",
       "       'information_och_kommunikation', 'finans-_och_försäkringsverksamhet',\n",
       "       'fastighetsverksamhet', 'företagstjänster',\n",
       "       'offentlig_förvaltning_och_försvar', 'utbildning',\n",
       "       'vård_och_omsorg,_sociala_tjänster',\n",
       "       'kulturella_och_personliga_tjänster_m.m.', 'okänd_verksamhet', '0_barn',\n",
       "       '1_barn', '2_barn', '3+_barn', 'MODEL_YEAR'],\n",
       "      dtype='object')"
      ]
     },
     "execution_count": 4,
     "metadata": {},
     "output_type": "execute_result"
    }
   ],
   "source": [
    "df = pd.read_pickle('/home/rocket/dev/data/volvo/volvo_vehicles_with_zip_and_my.pickle')\n",
    "df.columns"
   ]
  },
  {
   "cell_type": "code",
   "execution_count": 5,
   "metadata": {},
   "outputs": [],
   "source": [
    "### USER COLUMNS\n",
    "user_columns = ['antal_inpendlare', 'antal_utpendlare', 'förvärvs-arbetande',\n",
    "       'ej_förvärvs-arbetande', 'äganderätt/småhus', 'bostadsrätt',\n",
    "       'hyresrätt', 'övriga_inkl._uppgift_saknas', 'förgymnasial', 'gymnasial',\n",
    "       'eftergymnasial_mindre_än_3_år',\n",
    "       'eftergymnasial_3_år_eller_längre_inkl._forskarutbildning', '0-6_år',\n",
    "       '7-15_år', '16-19_år', '20-24_år', '25-44_år', '45-64_år', '65-w_år',\n",
    "       'låg_inkomst', 'medellåg_inkomst', 'medelhög_inkomst', 'hög_inkomst',\n",
    "       'medianinkomst', 'sammanboende_med_barn', 'sammanboende_utan_barn',\n",
    "       'ensamstående_med_barn', 'ensamstående_utan_barn', 'övriga_hushåll',\n",
    "       'låg_köpkraft', 'medellåg_köpkraft', 'medelhög_köpkraft',\n",
    "       'hög_köpkraft', 'median_köpkraft',\n",
    "       'jordbruk,_skogsbruk,_jakt_och_fiske', 'tillverkning_och_utvinning',\n",
    "       'energi_och_miljöverksamhet', 'byggverksamhet', 'handel',\n",
    "       'transport_och_magasinering', 'hotell-_och_restaurangverksamhet',\n",
    "       'information_och_kommunikation', 'finans-_och_försäkringsverksamhet',\n",
    "       'fastighetsverksamhet', 'företagstjänster',\n",
    "       'offentlig_förvaltning_och_försvar', 'utbildning',\n",
    "       'vård_och_omsorg,_sociala_tjänster',\n",
    "       'kulturella_och_personliga_tjänster_m.m.', 'okänd_verksamhet', '0_barn',\n",
    "       '1_barn', '2_barn', '3+_barn']\n",
    "\n",
    "vehicle_columns = ['TYPECODE', 'SALESVERSIONCODE', 'GEARBOXCODE', 'COLOUR', 'UPHOLSTERY', 'ENGINECODE','OPT_CODES']"
   ]
  },
  {
   "cell_type": "code",
   "execution_count": 6,
   "metadata": {},
   "outputs": [
    {
     "data": {
      "text/html": [
       "<div>\n",
       "<style scoped>\n",
       "    .dataframe tbody tr th:only-of-type {\n",
       "        vertical-align: middle;\n",
       "    }\n",
       "\n",
       "    .dataframe tbody tr th {\n",
       "        vertical-align: top;\n",
       "    }\n",
       "\n",
       "    .dataframe thead th {\n",
       "        text-align: right;\n",
       "    }\n",
       "</style>\n",
       "<table border=\"1\" class=\"dataframe\">\n",
       "  <thead>\n",
       "    <tr style=\"text-align: right;\">\n",
       "      <th></th>\n",
       "      <th>antal_inpendlare</th>\n",
       "      <th>antal_utpendlare</th>\n",
       "      <th>förvärvs-arbetande</th>\n",
       "      <th>ej_förvärvs-arbetande</th>\n",
       "      <th>äganderätt/småhus</th>\n",
       "      <th>bostadsrätt</th>\n",
       "      <th>hyresrätt</th>\n",
       "      <th>övriga_inkl._uppgift_saknas</th>\n",
       "      <th>förgymnasial</th>\n",
       "      <th>gymnasial</th>\n",
       "      <th>eftergymnasial_mindre_än_3_år</th>\n",
       "      <th>eftergymnasial_3_år_eller_längre_inkl._forskarutbildning</th>\n",
       "      <th>0-6_år</th>\n",
       "      <th>7-15_år</th>\n",
       "      <th>16-19_år</th>\n",
       "      <th>20-24_år</th>\n",
       "      <th>25-44_år</th>\n",
       "      <th>45-64_år</th>\n",
       "      <th>65-w_år</th>\n",
       "      <th>låg_inkomst</th>\n",
       "      <th>medellåg_inkomst</th>\n",
       "      <th>medelhög_inkomst</th>\n",
       "      <th>hög_inkomst</th>\n",
       "      <th>medianinkomst</th>\n",
       "      <th>sammanboende_med_barn</th>\n",
       "      <th>sammanboende_utan_barn</th>\n",
       "      <th>ensamstående_med_barn</th>\n",
       "      <th>ensamstående_utan_barn</th>\n",
       "      <th>övriga_hushåll</th>\n",
       "      <th>låg_köpkraft</th>\n",
       "      <th>medellåg_köpkraft</th>\n",
       "      <th>medelhög_köpkraft</th>\n",
       "      <th>hög_köpkraft</th>\n",
       "      <th>median_köpkraft</th>\n",
       "      <th>jordbruk,_skogsbruk,_jakt_och_fiske</th>\n",
       "      <th>tillverkning_och_utvinning</th>\n",
       "      <th>energi_och_miljöverksamhet</th>\n",
       "      <th>byggverksamhet</th>\n",
       "      <th>handel</th>\n",
       "      <th>transport_och_magasinering</th>\n",
       "      <th>hotell-_och_restaurangverksamhet</th>\n",
       "      <th>information_och_kommunikation</th>\n",
       "      <th>finans-_och_försäkringsverksamhet</th>\n",
       "      <th>fastighetsverksamhet</th>\n",
       "      <th>företagstjänster</th>\n",
       "      <th>offentlig_förvaltning_och_försvar</th>\n",
       "      <th>utbildning</th>\n",
       "      <th>vård_och_omsorg,_sociala_tjänster</th>\n",
       "      <th>kulturella_och_personliga_tjänster_m.m.</th>\n",
       "      <th>okänd_verksamhet</th>\n",
       "      <th>0_barn</th>\n",
       "      <th>1_barn</th>\n",
       "      <th>2_barn</th>\n",
       "      <th>3+_barn</th>\n",
       "    </tr>\n",
       "  </thead>\n",
       "  <tbody>\n",
       "  </tbody>\n",
       "</table>\n",
       "</div>"
      ],
      "text/plain": [
       "Empty DataFrame\n",
       "Columns: [antal_inpendlare, antal_utpendlare, förvärvs-arbetande, ej_förvärvs-arbetande, äganderätt/småhus, bostadsrätt, hyresrätt, övriga_inkl._uppgift_saknas, förgymnasial, gymnasial, eftergymnasial_mindre_än_3_år, eftergymnasial_3_år_eller_längre_inkl._forskarutbildning, 0-6_år, 7-15_år, 16-19_år, 20-24_år, 25-44_år, 45-64_år, 65-w_år, låg_inkomst, medellåg_inkomst, medelhög_inkomst, hög_inkomst, medianinkomst, sammanboende_med_barn, sammanboende_utan_barn, ensamstående_med_barn, ensamstående_utan_barn, övriga_hushåll, låg_köpkraft, medellåg_köpkraft, medelhög_köpkraft, hög_köpkraft, median_köpkraft, jordbruk,_skogsbruk,_jakt_och_fiske, tillverkning_och_utvinning, energi_och_miljöverksamhet, byggverksamhet, handel, transport_och_magasinering, hotell-_och_restaurangverksamhet, information_och_kommunikation, finans-_och_försäkringsverksamhet, fastighetsverksamhet, företagstjänster, offentlig_förvaltning_och_försvar, utbildning, vård_och_omsorg,_sociala_tjänster, kulturella_och_personliga_tjänster_m.m., okänd_verksamhet, 0_barn, 1_barn, 2_barn, 3+_barn]\n",
       "Index: []"
      ]
     },
     "execution_count": 6,
     "metadata": {},
     "output_type": "execute_result"
    }
   ],
   "source": [
    "df[user_columns].head(0)"
   ]
  },
  {
   "cell_type": "code",
   "execution_count": 7,
   "metadata": {},
   "outputs": [],
   "source": [
    "df.MODEL_YEAR = pd.to_numeric(df.MODEL_YEAR)"
   ]
  },
  {
   "cell_type": "code",
   "execution_count": 8,
   "metadata": {},
   "outputs": [
    {
     "data": {
      "text/html": [
       "<div>\n",
       "<style scoped>\n",
       "    .dataframe tbody tr th:only-of-type {\n",
       "        vertical-align: middle;\n",
       "    }\n",
       "\n",
       "    .dataframe tbody tr th {\n",
       "        vertical-align: top;\n",
       "    }\n",
       "\n",
       "    .dataframe thead th {\n",
       "        text-align: right;\n",
       "    }\n",
       "</style>\n",
       "<table border=\"1\" class=\"dataframe\">\n",
       "  <thead>\n",
       "    <tr style=\"text-align: right;\">\n",
       "      <th></th>\n",
       "      <th>TYPECODE</th>\n",
       "      <th>ENGINECODE</th>\n",
       "      <th>SALESVERSIONCODE</th>\n",
       "      <th>COLOUR</th>\n",
       "      <th>UPHOLSTERY</th>\n",
       "      <th>GEARBOXCODE</th>\n",
       "      <th>PACKAGES_CODES</th>\n",
       "      <th>OPT_CODES</th>\n",
       "      <th>Zip_Code</th>\n",
       "      <th>postnummer</th>\n",
       "      <th>antal_inpendlare</th>\n",
       "      <th>antal_utpendlare</th>\n",
       "      <th>förvärvs-arbetande</th>\n",
       "      <th>ej_förvärvs-arbetande</th>\n",
       "      <th>äganderätt/småhus</th>\n",
       "      <th>bostadsrätt</th>\n",
       "      <th>hyresrätt</th>\n",
       "      <th>övriga_inkl._uppgift_saknas</th>\n",
       "      <th>förgymnasial</th>\n",
       "      <th>gymnasial</th>\n",
       "      <th>eftergymnasial_mindre_än_3_år</th>\n",
       "      <th>eftergymnasial_3_år_eller_längre_inkl._forskarutbildning</th>\n",
       "      <th>0-6_år</th>\n",
       "      <th>7-15_år</th>\n",
       "      <th>16-19_år</th>\n",
       "      <th>20-24_år</th>\n",
       "      <th>25-44_år</th>\n",
       "      <th>45-64_år</th>\n",
       "      <th>65-w_år</th>\n",
       "      <th>låg_inkomst</th>\n",
       "      <th>medellåg_inkomst</th>\n",
       "      <th>medelhög_inkomst</th>\n",
       "      <th>hög_inkomst</th>\n",
       "      <th>medianinkomst</th>\n",
       "      <th>sammanboende_med_barn</th>\n",
       "      <th>sammanboende_utan_barn</th>\n",
       "      <th>ensamstående_med_barn</th>\n",
       "      <th>ensamstående_utan_barn</th>\n",
       "      <th>övriga_hushåll</th>\n",
       "      <th>låg_köpkraft</th>\n",
       "      <th>medellåg_köpkraft</th>\n",
       "      <th>medelhög_köpkraft</th>\n",
       "      <th>hög_köpkraft</th>\n",
       "      <th>median_köpkraft</th>\n",
       "      <th>jordbruk,_skogsbruk,_jakt_och_fiske</th>\n",
       "      <th>tillverkning_och_utvinning</th>\n",
       "      <th>energi_och_miljöverksamhet</th>\n",
       "      <th>byggverksamhet</th>\n",
       "      <th>handel</th>\n",
       "      <th>transport_och_magasinering</th>\n",
       "      <th>hotell-_och_restaurangverksamhet</th>\n",
       "      <th>information_och_kommunikation</th>\n",
       "      <th>finans-_och_försäkringsverksamhet</th>\n",
       "      <th>fastighetsverksamhet</th>\n",
       "      <th>företagstjänster</th>\n",
       "      <th>offentlig_förvaltning_och_försvar</th>\n",
       "      <th>utbildning</th>\n",
       "      <th>vård_och_omsorg,_sociala_tjänster</th>\n",
       "      <th>kulturella_och_personliga_tjänster_m.m.</th>\n",
       "      <th>okänd_verksamhet</th>\n",
       "      <th>0_barn</th>\n",
       "      <th>1_barn</th>\n",
       "      <th>2_barn</th>\n",
       "      <th>3+_barn</th>\n",
       "      <th>MODEL_YEAR</th>\n",
       "    </tr>\n",
       "  </thead>\n",
       "  <tbody>\n",
       "  </tbody>\n",
       "</table>\n",
       "</div>"
      ],
      "text/plain": [
       "Empty DataFrame\n",
       "Columns: [TYPECODE, ENGINECODE, SALESVERSIONCODE, COLOUR, UPHOLSTERY, GEARBOXCODE, PACKAGES_CODES, OPT_CODES, Zip_Code, postnummer, antal_inpendlare, antal_utpendlare, förvärvs-arbetande, ej_förvärvs-arbetande, äganderätt/småhus, bostadsrätt, hyresrätt, övriga_inkl._uppgift_saknas, förgymnasial, gymnasial, eftergymnasial_mindre_än_3_år, eftergymnasial_3_år_eller_längre_inkl._forskarutbildning, 0-6_år, 7-15_år, 16-19_år, 20-24_år, 25-44_år, 45-64_år, 65-w_år, låg_inkomst, medellåg_inkomst, medelhög_inkomst, hög_inkomst, medianinkomst, sammanboende_med_barn, sammanboende_utan_barn, ensamstående_med_barn, ensamstående_utan_barn, övriga_hushåll, låg_köpkraft, medellåg_köpkraft, medelhög_köpkraft, hög_köpkraft, median_köpkraft, jordbruk,_skogsbruk,_jakt_och_fiske, tillverkning_och_utvinning, energi_och_miljöverksamhet, byggverksamhet, handel, transport_och_magasinering, hotell-_och_restaurangverksamhet, information_och_kommunikation, finans-_och_försäkringsverksamhet, fastighetsverksamhet, företagstjänster, offentlig_förvaltning_och_försvar, utbildning, vård_och_omsorg,_sociala_tjänster, kulturella_och_personliga_tjänster_m.m., okänd_verksamhet, 0_barn, 1_barn, 2_barn, 3+_barn, MODEL_YEAR]\n",
       "Index: []"
      ]
     },
     "execution_count": 8,
     "metadata": {},
     "output_type": "execute_result"
    }
   ],
   "source": [
    "df = df.dropna(subset=user_columns)\n",
    "df[df[user_columns].isnull().any(axis=1)]"
   ]
  },
  {
   "cell_type": "code",
   "execution_count": 9,
   "metadata": {},
   "outputs": [
    {
     "data": {
      "text/plain": [
       "False"
      ]
     },
     "execution_count": 9,
     "metadata": {},
     "output_type": "execute_result"
    }
   ],
   "source": [
    "isinstance(df[df['OPT_CODES'].isnull()].head(1)['OPT_CODES'].values[0],type(np.nan))"
   ]
  },
  {
   "cell_type": "code",
   "execution_count": 10,
   "metadata": {},
   "outputs": [
    {
     "data": {
      "application/vnd.jupyter.widget-view+json": {
       "model_id": "37e1fa885e214e21879cab61f149febc",
       "version_major": 2,
       "version_minor": 0
      },
      "text/plain": [
       "HBox(children=(IntProgress(value=0, max=49522), HTML(value='')))"
      ]
     },
     "metadata": {},
     "output_type": "display_data"
    },
    {
     "name": "stdout",
     "output_type": "stream",
     "text": [
      "\n"
     ]
    }
   ],
   "source": [
    "def remove_nan(series):\n",
    "    if isinstance(series,type(None)):\n",
    "        return np.nan\n",
    "    return [x for x in series if str(x) != 'nan']\n",
    "df['OPT_CODES'] = df['OPT_CODES'].progress_apply(lambda x: remove_nan(x))"
   ]
  },
  {
   "cell_type": "code",
   "execution_count": 11,
   "metadata": {},
   "outputs": [],
   "source": [
    "df = df.dropna(subset=['OPT_CODES'])"
   ]
  },
  {
   "cell_type": "code",
   "execution_count": 13,
   "metadata": {},
   "outputs": [
    {
     "data": {
      "text/html": [
       "<div>\n",
       "<style scoped>\n",
       "    .dataframe tbody tr th:only-of-type {\n",
       "        vertical-align: middle;\n",
       "    }\n",
       "\n",
       "    .dataframe tbody tr th {\n",
       "        vertical-align: top;\n",
       "    }\n",
       "\n",
       "    .dataframe thead th {\n",
       "        text-align: right;\n",
       "    }\n",
       "</style>\n",
       "<table border=\"1\" class=\"dataframe\">\n",
       "  <thead>\n",
       "    <tr style=\"text-align: right;\">\n",
       "      <th></th>\n",
       "      <th>TYPECODE</th>\n",
       "      <th>ENGINECODE</th>\n",
       "      <th>SALESVERSIONCODE</th>\n",
       "      <th>COLOUR</th>\n",
       "      <th>UPHOLSTERY</th>\n",
       "      <th>GEARBOXCODE</th>\n",
       "      <th>PACKAGES_CODES</th>\n",
       "      <th>OPT_CODES</th>\n",
       "      <th>Zip_Code</th>\n",
       "      <th>postnummer</th>\n",
       "      <th>antal_inpendlare</th>\n",
       "      <th>antal_utpendlare</th>\n",
       "      <th>förvärvs-arbetande</th>\n",
       "      <th>ej_förvärvs-arbetande</th>\n",
       "      <th>äganderätt/småhus</th>\n",
       "      <th>bostadsrätt</th>\n",
       "      <th>hyresrätt</th>\n",
       "      <th>övriga_inkl._uppgift_saknas</th>\n",
       "      <th>förgymnasial</th>\n",
       "      <th>gymnasial</th>\n",
       "      <th>eftergymnasial_mindre_än_3_år</th>\n",
       "      <th>eftergymnasial_3_år_eller_längre_inkl._forskarutbildning</th>\n",
       "      <th>0-6_år</th>\n",
       "      <th>7-15_år</th>\n",
       "      <th>16-19_år</th>\n",
       "      <th>20-24_år</th>\n",
       "      <th>25-44_år</th>\n",
       "      <th>45-64_år</th>\n",
       "      <th>65-w_år</th>\n",
       "      <th>låg_inkomst</th>\n",
       "      <th>medellåg_inkomst</th>\n",
       "      <th>medelhög_inkomst</th>\n",
       "      <th>hög_inkomst</th>\n",
       "      <th>medianinkomst</th>\n",
       "      <th>sammanboende_med_barn</th>\n",
       "      <th>sammanboende_utan_barn</th>\n",
       "      <th>ensamstående_med_barn</th>\n",
       "      <th>ensamstående_utan_barn</th>\n",
       "      <th>övriga_hushåll</th>\n",
       "      <th>låg_köpkraft</th>\n",
       "      <th>medellåg_köpkraft</th>\n",
       "      <th>medelhög_köpkraft</th>\n",
       "      <th>hög_köpkraft</th>\n",
       "      <th>median_köpkraft</th>\n",
       "      <th>jordbruk,_skogsbruk,_jakt_och_fiske</th>\n",
       "      <th>tillverkning_och_utvinning</th>\n",
       "      <th>energi_och_miljöverksamhet</th>\n",
       "      <th>byggverksamhet</th>\n",
       "      <th>handel</th>\n",
       "      <th>transport_och_magasinering</th>\n",
       "      <th>hotell-_och_restaurangverksamhet</th>\n",
       "      <th>information_och_kommunikation</th>\n",
       "      <th>finans-_och_försäkringsverksamhet</th>\n",
       "      <th>fastighetsverksamhet</th>\n",
       "      <th>företagstjänster</th>\n",
       "      <th>offentlig_förvaltning_och_försvar</th>\n",
       "      <th>utbildning</th>\n",
       "      <th>vård_och_omsorg,_sociala_tjänster</th>\n",
       "      <th>kulturella_och_personliga_tjänster_m.m.</th>\n",
       "      <th>okänd_verksamhet</th>\n",
       "      <th>0_barn</th>\n",
       "      <th>1_barn</th>\n",
       "      <th>2_barn</th>\n",
       "      <th>3+_barn</th>\n",
       "      <th>MODEL_YEAR</th>\n",
       "    </tr>\n",
       "  </thead>\n",
       "  <tbody>\n",
       "  </tbody>\n",
       "</table>\n",
       "</div>"
      ],
      "text/plain": [
       "Empty DataFrame\n",
       "Columns: [TYPECODE, ENGINECODE, SALESVERSIONCODE, COLOUR, UPHOLSTERY, GEARBOXCODE, PACKAGES_CODES, OPT_CODES, Zip_Code, postnummer, antal_inpendlare, antal_utpendlare, förvärvs-arbetande, ej_förvärvs-arbetande, äganderätt/småhus, bostadsrätt, hyresrätt, övriga_inkl._uppgift_saknas, förgymnasial, gymnasial, eftergymnasial_mindre_än_3_år, eftergymnasial_3_år_eller_längre_inkl._forskarutbildning, 0-6_år, 7-15_år, 16-19_år, 20-24_år, 25-44_år, 45-64_år, 65-w_år, låg_inkomst, medellåg_inkomst, medelhög_inkomst, hög_inkomst, medianinkomst, sammanboende_med_barn, sammanboende_utan_barn, ensamstående_med_barn, ensamstående_utan_barn, övriga_hushåll, låg_köpkraft, medellåg_köpkraft, medelhög_köpkraft, hög_köpkraft, median_köpkraft, jordbruk,_skogsbruk,_jakt_och_fiske, tillverkning_och_utvinning, energi_och_miljöverksamhet, byggverksamhet, handel, transport_och_magasinering, hotell-_och_restaurangverksamhet, information_och_kommunikation, finans-_och_försäkringsverksamhet, fastighetsverksamhet, företagstjänster, offentlig_förvaltning_och_försvar, utbildning, vård_och_omsorg,_sociala_tjänster, kulturella_och_personliga_tjänster_m.m., okänd_verksamhet, 0_barn, 1_barn, 2_barn, 3+_barn, MODEL_YEAR]\n",
       "Index: []"
      ]
     },
     "execution_count": 13,
     "metadata": {},
     "output_type": "execute_result"
    }
   ],
   "source": [
    "df.head(0)"
   ]
  },
  {
   "cell_type": "code",
   "execution_count": 14,
   "metadata": {},
   "outputs": [],
   "source": [
    "import pandas as pd\n",
    "from graphlib.types import Types\n",
    "\n",
    "class VolvoStats:\n",
    "    def __init__(self, df, debug=False, group_by='default'):\n",
    "        self.debug = debug\n",
    "        assert df is not None, \"You must provide a dataframe if you don't want to reload it\"\n",
    "        self.volvo_df = df\n",
    "\n",
    "        if group_by == 'default':\n",
    "            self.group_by = self.volvo_df.MODEL_YEAR\n",
    "        else: \n",
    "            self.group_by = group_by(df)\n",
    "\n",
    "        self.agg_stats = {\n",
    "            'counts': VolvoStats.top_k_values,\n",
    "            'percentage': VolvoStats.top_k_count_percentage\n",
    "        }\n",
    "\n",
    "        self.mappings = {\n",
    "            'ENGINECODE': Types.ENGINE,\n",
    "            'TYPECODE': Types.CAR_TYPE,\n",
    "            'SALESVERSIONCODE': Types.SALES_VERSION,\n",
    "            'GEARBOXCODE': Types.GEARBOX,\n",
    "            'COLOUR': Types.COL,\n",
    "            'UPHOLSTERY': Types.UPH,\n",
    "            'OPT_CODES': Types.OPT,\n",
    "        }\n",
    "\n",
    "        for key in self.mappings.keys():\n",
    "            assert key in self.volvo_df.columns, \"The dataframe provided does not contain column {}\".format(\n",
    "                key)\n",
    "        self.cache = {}\n",
    "\n",
    "        self.agg = {}\n",
    "        for key in self.mappings:\n",
    "            if key is 'OPT_CODES':\n",
    "                self.agg[key] = {\n",
    "                    'counts':VolvoStats.tok_k_values_list,\n",
    "                    'percentage':VolvoStats.top_k_percentage_list\n",
    "                }\n",
    "            else:\n",
    "                self.agg[key] = self.agg_stats\n",
    "\n",
    "        self._init_statistics()\n",
    "\n",
    "    def debug_print(self, *msg):\n",
    "        if self.debug:\n",
    "            print(msg)\n",
    "\n",
    "    def _init_statistics(self):\n",
    "        self.volvo_agg_df = self.volvo_df.groupby(self.group_by).agg(self.agg)\n",
    "        for year in self.volvo_agg_df.index:\n",
    "            for code, typ in self.mappings.items():\n",
    "                stats = self.volvo_agg_df.loc[year][code]\n",
    "                if not year in self.cache:\n",
    "                    self.cache[year] = {}\n",
    "                self.cache[year][typ] = dict(\n",
    "                    zip(stats['counts'], stats['percentage']))\n",
    "\n",
    "    @staticmethod\n",
    "    def top_k_count(series):\n",
    "        return \",\".join(map(lambda x: str(x).strip(), series.value_counts())).replace(',,', ',')\n",
    "\n",
    "    @staticmethod\n",
    "    def top_k_values(series):\n",
    "        return list(map(lambda x: x, series.value_counts().index))\n",
    "\n",
    "    @staticmethod\n",
    "    def top_k_count_percentage(series):\n",
    "        total = series.value_counts().sum()\n",
    "        values = [(v/total)\n",
    "                  for _, v in series.value_counts().to_dict().items()]\n",
    "        return values\n",
    "    \n",
    "    def top_k_list(series_w_list):\n",
    "        series_dict= series_w_list.to_dict()\n",
    "        items = []\n",
    "        for list_items in series_dict.values():\n",
    "            #print('kv',list_items)\n",
    "            if isinstance(list_items,list):\n",
    "                items += list_items                \n",
    "        return Counter(items)\n",
    "\n",
    "    def tok_k_values_list(series):\n",
    "        return list(map(lambda x: x[0], top_k(series).most_common()))\n",
    "\n",
    "    def top_k_percentage_list(series):\n",
    "        series_length=len(series.to_dict().keys())\n",
    "        return list(map(lambda x: x[1]/series_length, top_k(series).most_common()))\n",
    "\n",
    "    @property\n",
    "    def stats(self):\n",
    "        return self.cache\n"
   ]
  },
  {
   "cell_type": "code",
   "execution_count": 29,
   "metadata": {},
   "outputs": [],
   "source": [
    "from collections import Counter\n",
    "import operator\n",
    "\n",
    "def top_k(series_w_list):\n",
    "    series_dict= series_w_list.to_dict()\n",
    "    items = []\n",
    "    for list_items in series_dict.values():\n",
    "        #print('kv',list_items)\n",
    "        if isinstance(list_items,list):\n",
    "            items += list_items                \n",
    "    return Counter(items)\n",
    "\n",
    "def tok_k_values(series):\n",
    "    return list(map(lambda x: x[0], top_k(series).most_common()))\n",
    "\n",
    "def top_k_percentage(series):\n",
    "    series_length=len(series.to_dict().keys())\n",
    "    return list(map(lambda x: x[1]/series_length, top_k(series).most_common()))\n",
    "\n",
    "    \n",
    "#df.groupby(df.MODEL_YEAR).agg({'OPT_CODES':{'values':tok_k_values, 'percentage':top_k_percentage}})"
   ]
  },
  {
   "cell_type": "code",
   "execution_count": 30,
   "metadata": {},
   "outputs": [],
   "source": [
    "stats = VolvoStats(df)\n",
    "with open('VolvoStats', 'wb') as f:\n",
    "    pickle.dump(stats,f)"
   ]
  },
  {
   "cell_type": "code",
   "execution_count": 31,
   "metadata": {},
   "outputs": [],
   "source": [
    "import operator\n",
    "from collections import Counter\n",
    "from graphlib.types import Types\n",
    "\n",
    "class Cryptographer:\n",
    "    \n",
    "    DISTRIBUTION_MOCKUP = {\n",
    "        '2008': {\n",
    "            Types.ENGINE: {\n",
    "                'A1': 0.13756074,\n",
    "                'A2': 0.12775981,\n",
    "                'A3': 0.13522137,\n",
    "                'A4': 0.14571605,\n",
    "                'A5': 0.1719328,\n",
    "                'A6': 0.14982322,\n",
    "                'A7': 0.13198601\n",
    "            }\n",
    "        },\n",
    "        '2019': {\n",
    "            Types.ENGINE: {\n",
    "                'B1': 0.26371891,\n",
    "                'B2': 0.19470216,\n",
    "                'B3': 0.1293187,\n",
    "                'B4': 0.3499376,\n",
    "                'B5': 0.06232263,\n",
    "            }\n",
    "        }\n",
    "    }\n",
    "    \n",
    "    def __init__(self, distributions = None):\n",
    "        if distributions:\n",
    "            self.distributions = distributions\n",
    "        else:\n",
    "            self.distributions = Cryptographer.DISTRIBUTION_MOCKUP\n",
    "\n",
    "            \n",
    "    # Returns the distribution of a specific year and type. For every call, the \n",
    "    # distribution will be sorted and restored in 'self.distributions'.\n",
    "\n",
    "    def get_dist(self, year, typ):\n",
    "        if not 'sorted' in self.distributions[year][typ]:\n",
    "            sorted_d = sorted(self.distributions[year][typ].items(), key=operator.itemgetter(1))\n",
    "            self.distributions[year][typ] = dict(sorted_d)\n",
    "        \n",
    "        dist = np.array(list(self.distributions[year][typ].values()))\n",
    "        keys = np.array(list(self.distributions[year][typ].keys()))\n",
    "        \n",
    "        return dist, keys\n",
    "    \n",
    "    # Input:\n",
    "    #   'form_year': e.g. '2008'\n",
    "    #   'typ': a graphlib.Types, e.g. Types.ENGINE\n",
    "    #   'comp_code': a component code, e.g. 'A8'\n",
    "    # Return:\n",
    "    #   The component's (type, comp_code) distribution value in year 'from_year'\n",
    "\n",
    "    def encode_dist(self, from_year, typ, comp_code):\n",
    "        if isinstance(comp_code,list):\n",
    "            dist_values = [self.distributions[from_year][typ][code] for code in comp_code]\n",
    "            return dist_values\n",
    "        dist_value = self.distributions[from_year][typ][comp_code]\n",
    "        \n",
    "        return dist_value\n",
    "    \n",
    "    # Input: \n",
    "    #   'to_year': e.g. '2019'\n",
    "    #   'typ': a type from graphlib.Types\n",
    "    #   'dist_value': the distribution value for the component that is going to be mapped\n",
    "    # Return:\n",
    "    #   A component, e.g. (Types.ENGINE, 'A8')\n",
    "\n",
    "    def decode_dist(self, to_year, typ, dist_value, rounds=1,debug=False,filterer=None):\n",
    "\n",
    "        if isinstance(dist_value,list):\n",
    "            if len(dist_value) == 0:\n",
    "                return []\n",
    "            return [self.decode_dist(to_year,typ,v,filterer=filterer) for v in dist_value]\n",
    "        predictions = []\n",
    "        for _ in range(rounds):\n",
    "\n",
    "            # Get distribution of year and type\n",
    "            to_dists, to_keys = self.get_dist(to_year, typ)\n",
    "            #print('1',to_dists,to_keys,dist_value)\n",
    "            \n",
    "            if not filterer is None:\n",
    "                valids = filterer(typ,to_keys)\n",
    "                result = list(filter(lambda x: x[1] in valids,zip(to_dists,to_keys)))\n",
    "                #print('FILTERED:',result)\n",
    "                to_dists,to_keys = zip(*result)\n",
    "                to_dists=np.array(to_dists)\n",
    "                to_keys=np.array(to_keys)\n",
    "                \n",
    "                #print('filtered',to_dists,to_keys,dist_value)\n",
    "                \n",
    "            # 'dist_value' is the new 100% of 'to_dists'\n",
    "            diff = to_dists - dist_value\n",
    "            min_idx = np.argmin(np.abs(diff))\n",
    "            #print('2',diff)\n",
    "            #this is the special case where we just map 1-1 to the distribution\n",
    "            # based on the distribution in one year, what it represents in another year.\n",
    "            # this also means that if we translate something in the same year, we will get the same thing back\n",
    "            return (typ,to_keys[min_idx])\n",
    "            d_n = np.append(to_dists[:min_idx], [dist_value])\n",
    "            \n",
    "            # Slicing to exclude items that is not directly over dist_value or under.\n",
    "            # E.g. if dist_value = 0.11 and to_dists = [0.05, 0.1, 0,2, 0.5], the 'new_values'\n",
    "            # includes [0.05, 0.1, 0.2] as [0.05, 0.1, 0.11] from which\n",
    "            # we do a distance distribution into [0.05, 0.05, 0.01] (distances from each other with idx=0 as base).\n",
    "            # This will (from here) go into a prob. distribution of [0.45454545, 0.45454545, 0.09090909]\n",
    "            distances = d_n.reshape(-1,1) - d_n\n",
    "            d_n[1:] = np.diag(distances, k = -1)\n",
    "            pd = d_n / np.sum(d_n)\n",
    "            \n",
    "            # Now, we pick a random index over this distribution\n",
    "            p_idx = np.random.choice(len(pd), 1, p=pd)\n",
    "            \n",
    "            # Return the key of p_idx as a component\n",
    "            predictions+=[to_keys[p_idx][0]]\n",
    "\n",
    "        counted = Counter(predictions)\n",
    "        if debug:\n",
    "            print(counted)\n",
    "\n",
    "        most_common_component,_ = counted.most_common(1)[0]\n",
    "\n",
    "        return (typ, most_common_component)\n"
   ]
  },
  {
   "cell_type": "code",
   "execution_count": 32,
   "metadata": {},
   "outputs": [],
   "source": [
    "### Data pre process\n",
    "cp = Cryptographer(stats.stats)\n",
    "#stats.stats"
   ]
  },
  {
   "cell_type": "code",
   "execution_count": 33,
   "metadata": {},
   "outputs": [],
   "source": [
    "\n",
    "import numpy as np\n",
    "import cvxpy as cvp\n",
    "import cvxopt\n",
    "import re\n",
    "from functools import reduce\n",
    "import pickle\n",
    "class SolverData:\n",
    "    def __init__(self):\n",
    "        self.all_pno_components = {\n",
    "            'cartypes':set([]),\n",
    "            'salesversions':set([]),\n",
    "            'engines':set([]),\n",
    "            'gearboxes':set([]),\n",
    "            'uph':set([]),\n",
    "            'col':set([])\n",
    "        }\n",
    "        self.solver_data = pickle.load(open(\"/home/rocket/dev/jupyter/solver_data.pkl\", \"rb\"))\n",
    "        \n",
    "        self.pno12s = []\n",
    "        self.colors=[]\n",
    "        self.uphs=[]\n",
    "        self.opts=[]\n",
    "        self.pno12s_ct={}\n",
    "        for ct, values in self.solver_data['css'].items():\n",
    "            self.pno12s+=list(filter(lambda x: 'PNO' in x[0],values.c2i.items()))\n",
    "            self.colors+=list(filter(lambda x: 'COL' in x[0],values.c2i.items()))\n",
    "            self.uphs+=list(filter(lambda x: 'UPH' in x[0],values.c2i.items()))\n",
    "            self.opts+=list(filter(lambda x: 'OPT' in x[0],values.c2i.items()))\n",
    "\n",
    "\n",
    "        self.uphs = list(map(lambda x: ('UPH',x[0][-6:]),self.uphs))\n",
    "        self.colors = list(map(lambda x: ('COL',x[0][-5:]),self.colors))\n",
    "        self.opts = list(map(lambda x: ('OPT',x[0][-6:]),self.opts))\n",
    "        for pno12 in self.pno12s:\n",
    "            _,ct,eng,sv,gb = re.findall(r'(..PNO12..)(...)_(..)_(..)_(.)',pno12[0])[0]\n",
    "            self.all_pno_components['cartypes'].add(ct)\n",
    "            self.all_pno_components['salesversions'].add(sv)\n",
    "            self.all_pno_components['engines'].add(eng)\n",
    "            self.all_pno_components['gearboxes'].add(gb)\n",
    "\n",
    "        self.total_length=0\n",
    "        self.total_length += reduce(lambda x,y:x+y,[len(x) for x in self.all_pno_components.values() ])\n",
    "        self.total_length\n",
    "        #print('pno12s', self.one_hot_encoder.classes_)\n",
    "        #self.one_hot_encoder.fit()\n",
    "        self._build_matrix()\n",
    "        \n",
    "    def _build_matrix(self):\n",
    "        self.matrix = np.zeros((len(self.pno12s),self.total_length),dtype=np.int8)\n",
    "        \n",
    "        self.ct_index=list(self.all_pno_components['cartypes'])\n",
    "        self.sv_index=list(self.all_pno_components['salesversions'])\n",
    "        self.eng_index=list(self.all_pno_components['engines'])\n",
    "        self.gb_index=list(self.all_pno_components['gearboxes'])\n",
    "\n",
    "        for idx in range(len(self.pno12s)):\n",
    "\n",
    "            _,ct,eng,sv,gb = re.findall(r'(..PNO12..)(...)_(..)_(..)_(.)',self.pno12s[idx][0])[0]\n",
    "            ct_i = self.ct_index.index(ct)\n",
    "            sv_i = len(self.ct_index)+self.sv_index.index(sv)\n",
    "            eng_i = len(self.ct_index)+len(self.sv_index)+self.eng_index.index(eng)\n",
    "            gb_i = len(self.ct_index)+len(self.sv_index)+len(self.eng_index)+self.gb_index.index(gb)\n",
    "            self.matrix[idx,ct_i] = 1\n",
    "            self.matrix[idx,sv_i] = 1\n",
    "            self.matrix[idx,eng_i] = 1\n",
    "            self.matrix[idx,gb_i] = 1\n",
    "            \n",
    "    def find_nearest_pno12(self,ct,sv,eng,gb):\n",
    "        ct_i = self.ct_index.index(ct)\n",
    "        sv_i = len(self.ct_index)+self.sv_index.index(sv)\n",
    "        eng_i = len(self.ct_index)+len(self.sv_index)+self.eng_index.index(eng)\n",
    "        gb_i = len(self.ct_index)+len(self.sv_index)+len(self.eng_index)+self.gb_index.index(gb)\n",
    "        predicted=np.zeros(self.matrix.shape[1])\n",
    "        predicted[ct_i] = 1\n",
    "        predicted[sv_i] = 1\n",
    "        predicted[eng_i] = 1\n",
    "        predicted[gb_i] = 1\n",
    "        row = np.sum(np.absolute(np.subtract(self.matrix,predicted)),axis=1).argmin()\n",
    "        return self.pno12s[row]\n",
    "    \n",
    "    def filter_values_by_pno_type(self, ct,sv,eng,gb,typ,values):\n",
    "        c2i = self.solver_data['css'][ct].c2i\n",
    "        #print('ALL',list(filter(lambda x: typ in x[0], c2i.items())))\n",
    "        theoretical_values = [(f'__{typ}__2019{ct}{eng}{sv}{gb}{v[0]}',v[1]) for v in values]\n",
    "            \n",
    "        print(f'theoretircal {theoretical_values}')\n",
    "        real_values = [val for val in theoretical_values if val[0] in map(lambda x: x[0], c2i.items())]\n",
    "        print(f'real_values {real_values}')\n",
    "        \n",
    "        return real_values\n",
    "\n",
    "    def filter_values_by_car_type(self,ct,typ,values):\n",
    "        c2i = self.solver_data['css'][ct].c2i\n",
    "        #print(c2i)\n",
    "        all_values = list(filter(lambda x: typ in x, c2i.keys()))\n",
    "        #print('filter_values_by_car_type',typ,all_values)\n",
    "        if typ is 'COL':\n",
    "            return list(set(map(lambda x: x[-5:],all_values)))\n",
    "        else:\n",
    "            return list(set(map(lambda x: x[-6:],all_values)))\n",
    "        \n",
    "    \n",
    "    def get_onehot_pno12_for_ct(self,ct,sv,eng,gb):\n",
    "        pno12, idx = self.find_nearest_pno12(ct,sv,eng,gb)\n",
    "        #search\n",
    "        for ct, values in self.solver_data['css'].items():\n",
    "            i2c  = values['i2c']\n",
    "            if i2c[idx] == pno12:\n",
    "                #match\n",
    "                pno12s = list(filter(lambda x: 'PNO12' in x[0],values.c2i.items()))\n",
    "                onehot = np.zeros(len(pno12s))\n",
    "                onehot[idx] = 1\n",
    "                return onehot\n",
    "            \n",
    "\n",
    "    def get_onehot_for_ct(self,ct,typ,value):\n",
    "        c2i = self.solver_data['css'][ct].c2i\n",
    "        \n",
    "        typ_filtered = list(filter(lambda x: typ in x[0],c2i.items()))\n",
    "        one_hot = np.zeros(len(typ_filtered))\n",
    "        index_typ_mapping = {}\n",
    "        \n",
    "        for col, idx in typ_filtered:\n",
    "            position = typ_filtered.index((col,idx))\n",
    "            index_typ_mapping[position] = idx\n",
    "           # if value \n",
    "    \n",
    "    def invert_components_vec(self,ct,comps):\n",
    "        pass\n",
    "    \n",
    "    def build_components_vec(self,ct,sv,eng,gb, cols, uphs, opts,debug=False):\n",
    "        \"\"\"\n",
    "            cols = [('71200',0.006),...]\n",
    "            uhps = [('RA00000',0.231)]\n",
    "            opts = [('079000',0.231)]\n",
    "            \n",
    "            \n",
    "        \"\"\"\n",
    "        pno12 = self.find_nearest_pno12(ct,sv,eng,gb)\n",
    "        #print('pno12:',pno12)\n",
    "        _,ct,eng,sv,gb = re.findall(r'(..PNO12..)(...)_(..)_(..)_(.)',pno12[0])[0]\n",
    "        #print(ct,eng,sv,gb)\n",
    "        c2i = self.solver_data['css'][ct].c2i\n",
    "        #print(c2i)\n",
    "        carcomps = np.zeros(len(c2i))\n",
    "        carcomps[pno12[1]] = 1\n",
    "        cols = self.filter_values_by_pno_type(ct,sv,eng,gb,'COL',cols)\n",
    "        uph = self.filter_values_by_pno_type(ct,sv,eng,gb,'UPH',uphs)\n",
    "        opts = self.filter_values_by_pno_type(ct,sv,eng,gb,'OPT',opts)\n",
    "        \n",
    "        for item, w in cols+uph+opts:\n",
    "            if debug:\n",
    "                print('=>',item,c2i[item],w)\n",
    "            carcomps[c2i[item]] = w\n",
    "\n",
    "        return ct,carcomps\n",
    "        \n",
    "    def solve(self,ct,sv,eng,gb,cols,uphs,opts,debug=False):\n",
    "        if debug:\n",
    "            print(ct,sv,eng,gb,cols,uphs,opts)\n",
    "        ct,w = self.build_components_vec(ct,sv,eng,gb,cols,uphs,opts,debug)\n",
    "        #return self.solver_data['css'][ct].solve(w,lambda w,x: -(cp.sum(cp.abs(w-x))))\n",
    "        return self.solver_data['css'][ct].solve(w,lambda w,x: w@x)\n",
    "        \n",
    "    def invert_onehot_pno12_for_ct(self,ct,one_hot):\n",
    "        argmax = one_hot.argmax()\n",
    "        return self.solver_data['css'][ct]['i2c'][argmax]\n",
    "    \n",
    "pno12_solver = SolverData()\n"
   ]
  },
  {
   "cell_type": "code",
   "execution_count": 34,
   "metadata": {},
   "outputs": [
    {
     "data": {
      "text/plain": [
       "[]"
      ]
     },
     "execution_count": 34,
     "metadata": {},
     "output_type": "execute_result"
    }
   ],
   "source": [
    "list(filter(lambda x: '000205' in x,pno12_solver.solver_data['css']['525'].c2i.keys()))"
   ]
  },
  {
   "cell_type": "code",
   "execution_count": 35,
   "metadata": {
    "scrolled": true
   },
   "outputs": [
    {
     "data": {
      "application/vnd.jupyter.widget-view+json": {
       "model_id": "0182e26b03f046f8ab958cf3b8202f8b",
       "version_major": 2,
       "version_minor": 0
      },
      "text/plain": [
       "HBox(children=(IntProgress(value=0, max=46674), HTML(value='')))"
      ]
     },
     "metadata": {},
     "output_type": "display_data"
    },
    {
     "name": "stdout",
     "output_type": "stream",
     "text": [
      "\n"
     ]
    },
    {
     "data": {
      "application/vnd.jupyter.widget-view+json": {
       "model_id": "9e9a9d975269465d8ad2889cf43bb8ca",
       "version_major": 2,
       "version_minor": 0
      },
      "text/plain": [
       "HBox(children=(IntProgress(value=0, max=46674), HTML(value='')))"
      ]
     },
     "metadata": {},
     "output_type": "display_data"
    },
    {
     "name": "stdout",
     "output_type": "stream",
     "text": [
      "\n"
     ]
    },
    {
     "data": {
      "application/vnd.jupyter.widget-view+json": {
       "model_id": "e01a96ae268e4234a511e3c9a54dbafb",
       "version_major": 2,
       "version_minor": 0
      },
      "text/plain": [
       "HBox(children=(IntProgress(value=0, max=46674), HTML(value='')))"
      ]
     },
     "metadata": {},
     "output_type": "display_data"
    },
    {
     "name": "stdout",
     "output_type": "stream",
     "text": [
      "\n"
     ]
    },
    {
     "data": {
      "application/vnd.jupyter.widget-view+json": {
       "model_id": "9337203166ac4477885b13a26fd0003c",
       "version_major": 2,
       "version_minor": 0
      },
      "text/plain": [
       "HBox(children=(IntProgress(value=0, max=46674), HTML(value='')))"
      ]
     },
     "metadata": {},
     "output_type": "display_data"
    },
    {
     "name": "stdout",
     "output_type": "stream",
     "text": [
      "\n"
     ]
    },
    {
     "data": {
      "application/vnd.jupyter.widget-view+json": {
       "model_id": "204da4111e1144b1a97753a08910208e",
       "version_major": 2,
       "version_minor": 0
      },
      "text/plain": [
       "HBox(children=(IntProgress(value=0, max=46674), HTML(value='')))"
      ]
     },
     "metadata": {},
     "output_type": "display_data"
    },
    {
     "name": "stdout",
     "output_type": "stream",
     "text": [
      "\n"
     ]
    },
    {
     "data": {
      "application/vnd.jupyter.widget-view+json": {
       "model_id": "17cb50ae888040ac82c2ba681d3f32e1",
       "version_major": 2,
       "version_minor": 0
      },
      "text/plain": [
       "HBox(children=(IntProgress(value=0, max=46674), HTML(value='')))"
      ]
     },
     "metadata": {},
     "output_type": "display_data"
    },
    {
     "name": "stdout",
     "output_type": "stream",
     "text": [
      "\n"
     ]
    },
    {
     "data": {
      "application/vnd.jupyter.widget-view+json": {
       "model_id": "9e3f026842324e94ad098b90cfc6606e",
       "version_major": 2,
       "version_minor": 0
      },
      "text/plain": [
       "HBox(children=(IntProgress(value=0, max=46674), HTML(value='')))"
      ]
     },
     "metadata": {},
     "output_type": "display_data"
    },
    {
     "name": "stdout",
     "output_type": "stream",
     "text": [
      "\n"
     ]
    }
   ],
   "source": [
    "for key,typ in stats.mappings.items():\n",
    "    df[key+'_dist'] = df.progress_apply(lambda x: cp.encode_dist(x.MODEL_YEAR,typ,x[key]), axis=1)"
   ]
  },
  {
   "cell_type": "code",
   "execution_count": 36,
   "metadata": {},
   "outputs": [
    {
     "data": {
      "application/vnd.jupyter.widget-view+json": {
       "model_id": "815c7ded42cf400abe8cdc2717c8d0c9",
       "version_major": 2,
       "version_minor": 0
      },
      "text/plain": [
       "HBox(children=(IntProgress(value=0, max=46674), HTML(value='')))"
      ]
     },
     "metadata": {},
     "output_type": "display_data"
    },
    {
     "name": "stdout",
     "output_type": "stream",
     "text": [
      "\n"
     ]
    }
   ],
   "source": [
    "pno_keys = ['CAR_TYPE','SALES_VERSION','ENGINE','GEARBOX']\n",
    "def translate_row(x):\n",
    "    pno_12 ={}\n",
    "    for key,typ in stats.mappings.items():\n",
    "        if not typ in pno_keys:\n",
    "            continue\n",
    "        if key is 'OPT_CODES':\n",
    "            pno_12[typ] = list(map(lambda y: y[1],cp.decode_dist(2019,'OPT', x['OPT_CODES_dist'])))     \n",
    "        else:\n",
    "            pno_12[typ] = cp.decode_dist(2019,typ, x[f'{key}_dist'])[1]\n",
    "    #print(pno_12)\n",
    "    def filter_by_typ(typ,values):\n",
    "        filtered= pno12_solver.filter_values_by_car_type(pno_12['CAR_TYPE'],typ,values)\n",
    "        return filtered\n",
    "    \n",
    "    nearest = pno12_solver.find_nearest_pno12(pno_12['CAR_TYPE'],pno_12['SALES_VERSION'],pno_12['ENGINE'],pno_12['GEARBOX'])[0]\n",
    "    #print('nearest',nearest)\n",
    "    _,ct,eng,sv,gb = re.findall(r'(..PNO12..)(...)_(..)_(..)_(.)',nearest)[0]\n",
    "    #print(ct,eng,sv,gb)\n",
    "    pno_12['CAR_TYPE'] = ct\n",
    "    pno_12['ENGINE'] = eng\n",
    "    pno_12['GEARBOX'] = gb\n",
    "    pno_12['SALES_VERSION'] = sv\n",
    "    \n",
    "    for key,typ in stats.mappings.items():\n",
    "        if typ in pno_keys:\n",
    "            continue\n",
    "        if key is 'OPT_CODES':\n",
    "            pno_12[typ] = list(map(lambda y: y[1],cp.decode_dist(2019,'OPT', x['OPT_CODES_dist'],filterer=filter_by_typ)))    \n",
    "        else:\n",
    "            pno_12[typ] = cp.decode_dist(2019,typ, x[f'{key}_dist'],filterer=filter_by_typ)[1]\n",
    "    \n",
    "    #print(pno_12)\n",
    "    #filter_values_by_pno_type(self, ct,sv,eng,gb,typ,values)\n",
    "    #print(pno12_solver.filter_values_by_pno_type(pno_12['CAR_TYPE'],pno_12['SALES_VERSION'],pno_12['ENGINE'],pno_12['GEARBOX'],'COL',[pno_12['OPT']]))\n",
    "    #find_nearest_pno12(self,ct,sv,eng,gb):\n",
    "    return nearest, pno_12['COL'], pno_12['UPH'], pno_12['OPT']\n",
    "df['WORKING_PNO34'] = df.progress_apply(lambda x: translate_row(x),axis=1)"
   ]
  },
  {
   "cell_type": "code",
   "execution_count": 37,
   "metadata": {},
   "outputs": [
    {
     "name": "stdout",
     "output_type": "stream",
     "text": [
      "running ENGINECODE\n"
     ]
    },
    {
     "data": {
      "application/vnd.jupyter.widget-view+json": {
       "model_id": "50242c9d05c5472aaf8606626f040c46",
       "version_major": 2,
       "version_minor": 0
      },
      "text/plain": [
       "HBox(children=(IntProgress(value=0, max=46674), HTML(value='')))"
      ]
     },
     "metadata": {},
     "output_type": "display_data"
    },
    {
     "name": "stdout",
     "output_type": "stream",
     "text": [
      "\n",
      "running TYPECODE\n"
     ]
    },
    {
     "data": {
      "application/vnd.jupyter.widget-view+json": {
       "model_id": "78062297169943b2bf47a9393fc37ae9",
       "version_major": 2,
       "version_minor": 0
      },
      "text/plain": [
       "HBox(children=(IntProgress(value=0, max=46674), HTML(value='')))"
      ]
     },
     "metadata": {},
     "output_type": "display_data"
    },
    {
     "name": "stdout",
     "output_type": "stream",
     "text": [
      "\n",
      "running SALESVERSIONCODE\n"
     ]
    },
    {
     "data": {
      "application/vnd.jupyter.widget-view+json": {
       "model_id": "f892c330a79741288b55820ef4dffa02",
       "version_major": 2,
       "version_minor": 0
      },
      "text/plain": [
       "HBox(children=(IntProgress(value=0, max=46674), HTML(value='')))"
      ]
     },
     "metadata": {},
     "output_type": "display_data"
    },
    {
     "name": "stdout",
     "output_type": "stream",
     "text": [
      "\n",
      "running GEARBOXCODE\n"
     ]
    },
    {
     "data": {
      "application/vnd.jupyter.widget-view+json": {
       "model_id": "c4474069712f4829b995c2630a98c5ef",
       "version_major": 2,
       "version_minor": 0
      },
      "text/plain": [
       "HBox(children=(IntProgress(value=0, max=46674), HTML(value='')))"
      ]
     },
     "metadata": {},
     "output_type": "display_data"
    },
    {
     "name": "stdout",
     "output_type": "stream",
     "text": [
      "\n",
      "running COLOUR\n"
     ]
    },
    {
     "data": {
      "application/vnd.jupyter.widget-view+json": {
       "model_id": "7f6e589a26c74aefaa35db4472b3c850",
       "version_major": 2,
       "version_minor": 0
      },
      "text/plain": [
       "HBox(children=(IntProgress(value=0, max=46674), HTML(value='')))"
      ]
     },
     "metadata": {},
     "output_type": "display_data"
    },
    {
     "name": "stdout",
     "output_type": "stream",
     "text": [
      "\n",
      "running UPHOLSTERY\n"
     ]
    },
    {
     "data": {
      "application/vnd.jupyter.widget-view+json": {
       "model_id": "2913e2b87aed46f287d7580b8f0aeb4e",
       "version_major": 2,
       "version_minor": 0
      },
      "text/plain": [
       "HBox(children=(IntProgress(value=0, max=46674), HTML(value='')))"
      ]
     },
     "metadata": {},
     "output_type": "display_data"
    },
    {
     "name": "stdout",
     "output_type": "stream",
     "text": [
      "\n",
      "running OPT_CODES\n"
     ]
    },
    {
     "data": {
      "application/vnd.jupyter.widget-view+json": {
       "model_id": "f5510ef5fbf144a39481e49e66806df6",
       "version_major": 2,
       "version_minor": 0
      },
      "text/plain": [
       "HBox(children=(IntProgress(value=0, max=46674), HTML(value='')))"
      ]
     },
     "metadata": {},
     "output_type": "display_data"
    },
    {
     "name": "stdout",
     "output_type": "stream",
     "text": [
      "\n"
     ]
    }
   ],
   "source": [
    "def pno12_to_dict(pno12,typ):\n",
    "    _,ct,eng,sv,gb = re.findall(r'(..PNO12..)(...)_(..)_(..)_(.)',pno12[0])[0]\n",
    "    if typ is 'CAR_TYPE':\n",
    "        return ct\n",
    "    if typ is 'ENGINE':\n",
    "        return eng\n",
    "    if typ is 'SALES_VERSION':\n",
    "        return sv\n",
    "    if typ is 'GEARBOX':\n",
    "        return gb\n",
    "    if typ is 'COL':\n",
    "        return pno12[1]\n",
    "    if typ is 'UPH':\n",
    "        return pno12[2]\n",
    "    if typ is 'OPT':\n",
    "        return pno12[3]\n",
    "    \n",
    "\n",
    "for key,typ in stats.mappings.items():\n",
    "    print(f'running {key}')\n",
    "    df[f'{key}_translated'] = df['WORKING_PNO34'].progress_apply(lambda x: pno12_to_dict(x,typ))\n"
   ]
  },
  {
   "cell_type": "code",
   "execution_count": 38,
   "metadata": {},
   "outputs": [
    {
     "data": {
      "text/html": [
       "<div>\n",
       "<style scoped>\n",
       "    .dataframe tbody tr th:only-of-type {\n",
       "        vertical-align: middle;\n",
       "    }\n",
       "\n",
       "    .dataframe tbody tr th {\n",
       "        vertical-align: top;\n",
       "    }\n",
       "\n",
       "    .dataframe thead th {\n",
       "        text-align: right;\n",
       "    }\n",
       "</style>\n",
       "<table border=\"1\" class=\"dataframe\">\n",
       "  <thead>\n",
       "    <tr style=\"text-align: right;\">\n",
       "      <th></th>\n",
       "      <th>WORKING_PNO34</th>\n",
       "      <th>TYPECODE_translated</th>\n",
       "      <th>ENGINECODE_translated</th>\n",
       "      <th>SALESVERSIONCODE_translated</th>\n",
       "      <th>GEARBOXCODE_translated</th>\n",
       "    </tr>\n",
       "  </thead>\n",
       "  <tbody>\n",
       "  </tbody>\n",
       "</table>\n",
       "</div>"
      ],
      "text/plain": [
       "Empty DataFrame\n",
       "Columns: [WORKING_PNO34, TYPECODE_translated, ENGINECODE_translated, SALESVERSIONCODE_translated, GEARBOXCODE_translated]\n",
       "Index: []"
      ]
     },
     "execution_count": 38,
     "metadata": {},
     "output_type": "execute_result"
    }
   ],
   "source": [
    "df[['WORKING_PNO34','TYPECODE_translated','ENGINECODE_translated','SALESVERSIONCODE_translated','GEARBOXCODE_translated']].sample(0)"
   ]
  },
  {
   "cell_type": "code",
   "execution_count": 39,
   "metadata": {},
   "outputs": [
    {
     "data": {
      "text/html": [
       "<div>\n",
       "<style scoped>\n",
       "    .dataframe tbody tr th:only-of-type {\n",
       "        vertical-align: middle;\n",
       "    }\n",
       "\n",
       "    .dataframe tbody tr th {\n",
       "        vertical-align: top;\n",
       "    }\n",
       "\n",
       "    .dataframe thead th {\n",
       "        text-align: right;\n",
       "    }\n",
       "</style>\n",
       "<table border=\"1\" class=\"dataframe\">\n",
       "  <thead>\n",
       "    <tr style=\"text-align: right;\">\n",
       "      <th></th>\n",
       "      <th>ENGINECODE</th>\n",
       "      <th>TYPECODE</th>\n",
       "      <th>SALESVERSIONCODE</th>\n",
       "      <th>GEARBOXCODE</th>\n",
       "      <th>COLOUR</th>\n",
       "      <th>UPHOLSTERY</th>\n",
       "      <th>OPT_CODES</th>\n",
       "    </tr>\n",
       "  </thead>\n",
       "  <tbody>\n",
       "  </tbody>\n",
       "</table>\n",
       "</div>"
      ],
      "text/plain": [
       "Empty DataFrame\n",
       "Columns: [ENGINECODE, TYPECODE, SALESVERSIONCODE, GEARBOXCODE, COLOUR, UPHOLSTERY, OPT_CODES]\n",
       "Index: []"
      ]
     },
     "execution_count": 39,
     "metadata": {},
     "output_type": "execute_result"
    }
   ],
   "source": [
    "df[map(lambda x: x,stats.mappings.keys())].head(0)"
   ]
  },
  {
   "cell_type": "code",
   "execution_count": 40,
   "metadata": {},
   "outputs": [
    {
     "data": {
      "text/html": [
       "<div>\n",
       "<style scoped>\n",
       "    .dataframe tbody tr th:only-of-type {\n",
       "        vertical-align: middle;\n",
       "    }\n",
       "\n",
       "    .dataframe tbody tr th {\n",
       "        vertical-align: top;\n",
       "    }\n",
       "\n",
       "    .dataframe thead th {\n",
       "        text-align: right;\n",
       "    }\n",
       "</style>\n",
       "<table border=\"1\" class=\"dataframe\">\n",
       "  <thead>\n",
       "    <tr style=\"text-align: right;\">\n",
       "      <th></th>\n",
       "      <th>ENGINECODE_translated</th>\n",
       "      <th>TYPECODE_translated</th>\n",
       "      <th>SALESVERSIONCODE_translated</th>\n",
       "      <th>GEARBOXCODE_translated</th>\n",
       "      <th>COLOUR_translated</th>\n",
       "      <th>UPHOLSTERY_translated</th>\n",
       "      <th>OPT_CODES_translated</th>\n",
       "    </tr>\n",
       "  </thead>\n",
       "  <tbody>\n",
       "  </tbody>\n",
       "</table>\n",
       "</div>"
      ],
      "text/plain": [
       "Empty DataFrame\n",
       "Columns: [ENGINECODE_translated, TYPECODE_translated, SALESVERSIONCODE_translated, GEARBOXCODE_translated, COLOUR_translated, UPHOLSTERY_translated, OPT_CODES_translated]\n",
       "Index: []"
      ]
     },
     "execution_count": 40,
     "metadata": {},
     "output_type": "execute_result"
    }
   ],
   "source": [
    "df[map(lambda x: x+'_translated',stats.mappings.keys())].head(0)"
   ]
  },
  {
   "cell_type": "code",
   "execution_count": 43,
   "metadata": {},
   "outputs": [],
   "source": [
    "cb = CarBinarizer()\n",
    "all_items = list(map(lambda x: ('CAR_TYPE',x) ,pno12_solver.all_pno_components['cartypes']))+\\\n",
    "list(map(lambda x: ('SALES_VERSION',x) ,pno12_solver.all_pno_components['salesversions']))+\\\n",
    "list(map(lambda x: ('ENGINE',x) ,pno12_solver.all_pno_components['engines']))+\\\n",
    "list(map(lambda x: ('GEARBOX',x) ,pno12_solver.all_pno_components['gearboxes']))+\\\n",
    "pno12_solver.uphs+pno12_solver.colors+pno12_solver.opts"
   ]
  },
  {
   "cell_type": "code",
   "execution_count": 44,
   "metadata": {},
   "outputs": [
    {
     "data": {
      "text/plain": [
       "CarBinarizer(categorical_features=None, categories=None,\n",
       "       dtype=<class 'numpy.float64'>, handle_unknown='error',\n",
       "       n_values=None, sparse=True)"
      ]
     },
     "execution_count": 44,
     "metadata": {},
     "output_type": "execute_result"
    }
   ],
   "source": [
    "cb.fit(all_items)\n",
    "cb\n"
   ]
  },
  {
   "cell_type": "code",
   "execution_count": 46,
   "metadata": {},
   "outputs": [],
   "source": [
    "with open(\"CarBinarizer\", \"wb\") as f:\n",
    "    pickle.dump(cb, f)\n",
    "with open(\"Stats\", \"wb\") as f:\n",
    "    pickle.dump(cb, f)"
   ]
  },
  {
   "cell_type": "code",
   "execution_count": 47,
   "metadata": {},
   "outputs": [
    {
     "data": {
      "text/plain": [
       "{'CAR_TYPE': LabelBinarizer(neg_label=0, pos_label=1, sparse_output=False),\n",
       " 'SALES_VERSION': LabelBinarizer(neg_label=0, pos_label=1, sparse_output=False),\n",
       " 'ENGINE': LabelBinarizer(neg_label=0, pos_label=1, sparse_output=False),\n",
       " 'GEARBOX': LabelBinarizer(neg_label=0, pos_label=1, sparse_output=False),\n",
       " 'UPH': LabelBinarizer(neg_label=0, pos_label=1, sparse_output=False),\n",
       " 'COL': LabelBinarizer(neg_label=0, pos_label=1, sparse_output=False),\n",
       " 'OPT': MultiLabelBinarizer(classes=None, sparse_output=False)}"
      ]
     },
     "execution_count": 47,
     "metadata": {},
     "output_type": "execute_result"
    }
   ],
   "source": [
    "cb.types_binarizer"
   ]
  },
  {
   "cell_type": "code",
   "execution_count": 48,
   "metadata": {},
   "outputs": [
    {
     "data": {
      "application/vnd.jupyter.widget-view+json": {
       "model_id": "b111317284a34fda8af8df37cc7edb54",
       "version_major": 2,
       "version_minor": 0
      },
      "text/plain": [
       "HBox(children=(IntProgress(value=0, max=7), HTML(value='')))"
      ]
     },
     "metadata": {},
     "output_type": "display_data"
    },
    {
     "data": {
      "application/vnd.jupyter.widget-view+json": {
       "model_id": "75478b01a85d439683241e35316dc388",
       "version_major": 2,
       "version_minor": 0
      },
      "text/plain": [
       "HBox(children=(IntProgress(value=0, max=46674), HTML(value='')))"
      ]
     },
     "metadata": {},
     "output_type": "display_data"
    },
    {
     "data": {
      "application/vnd.jupyter.widget-view+json": {
       "model_id": "84c4792aef4041d4be71663117f0bf3a",
       "version_major": 2,
       "version_minor": 0
      },
      "text/plain": [
       "HBox(children=(IntProgress(value=0, max=46674), HTML(value='')))"
      ]
     },
     "metadata": {},
     "output_type": "display_data"
    },
    {
     "data": {
      "application/vnd.jupyter.widget-view+json": {
       "model_id": "3837dd8a643e4bed9afb12c774fdb878",
       "version_major": 2,
       "version_minor": 0
      },
      "text/plain": [
       "HBox(children=(IntProgress(value=0, max=46674), HTML(value='')))"
      ]
     },
     "metadata": {},
     "output_type": "display_data"
    },
    {
     "data": {
      "application/vnd.jupyter.widget-view+json": {
       "model_id": "a9379d2b54f6454285c0f479f2cecd58",
       "version_major": 2,
       "version_minor": 0
      },
      "text/plain": [
       "HBox(children=(IntProgress(value=0, max=46674), HTML(value='')))"
      ]
     },
     "metadata": {},
     "output_type": "display_data"
    },
    {
     "data": {
      "application/vnd.jupyter.widget-view+json": {
       "model_id": "6f1f6ddc3909409196e94ee20a06f1e6",
       "version_major": 2,
       "version_minor": 0
      },
      "text/plain": [
       "HBox(children=(IntProgress(value=0, max=46674), HTML(value='')))"
      ]
     },
     "metadata": {},
     "output_type": "display_data"
    },
    {
     "data": {
      "application/vnd.jupyter.widget-view+json": {
       "model_id": "10267be97b664ec1955377b451e7a241",
       "version_major": 2,
       "version_minor": 0
      },
      "text/plain": [
       "HBox(children=(IntProgress(value=0, max=46674), HTML(value='')))"
      ]
     },
     "metadata": {},
     "output_type": "display_data"
    },
    {
     "data": {
      "application/vnd.jupyter.widget-view+json": {
       "model_id": "a6f20babd2ea40609091ea3a1399f28f",
       "version_major": 2,
       "version_minor": 0
      },
      "text/plain": [
       "HBox(children=(IntProgress(value=0, max=46674), HTML(value='')))"
      ]
     },
     "metadata": {},
     "output_type": "display_data"
    },
    {
     "name": "stdout",
     "output_type": "stream",
     "text": [
      "\n"
     ]
    }
   ],
   "source": [
    "#ONE HOT\n",
    "\n",
    "def map_to_onehot(x,typ):\n",
    "    return cb.types_binarizer[typ].transform([x])\n",
    "\n",
    "\n",
    "for df_typ,typ in tqdm_notebook(stats.mappings.items()):\n",
    "    df[f'{df_typ}_onehot'] = df[f'{df_typ}_translated'].progress_apply(lambda x: map_to_onehot(x,typ))"
   ]
  },
  {
   "cell_type": "code",
   "execution_count": 49,
   "metadata": {},
   "outputs": [
    {
     "name": "stdout",
     "output_type": "stream",
     "text": [
      "(46674, 87)\n",
      "(29871, 87)\n"
     ]
    }
   ],
   "source": [
    "def remap(series):\n",
    "    return np.array(list(map(lambda x: x[0],series.values)))\n",
    "def create_train_test_split(use_data,test_size=0.2):\n",
    "    X_train,X_test, y_typecode_train,y_typecode_test,y_sv_train,y_sv_test,y_eng_train,y_eng_test,y_gb_train,y_gb_test,\\\n",
    "        y_uph_train,y_uph_test,y_col_train,y_col_test,y_opt_train,y_opt_test= train_test_split(use_data,\\\n",
    "        remap(use_data['TYPECODE_onehot']),\\\n",
    "        remap(use_data['SALESVERSIONCODE_onehot']),\\\n",
    "        remap(use_data['ENGINECODE_onehot']),\\\n",
    "        remap(use_data['GEARBOXCODE_onehot']),\\\n",
    "        remap(use_data['UPHOLSTERY_onehot']),\\\n",
    "        remap(use_data['COLOUR_onehot']),\n",
    "        remap(use_data['OPT_CODES_onehot']),test_size=test_size)\n",
    "    return X_train,X_test, y_typecode_train,y_typecode_test,y_sv_train,y_sv_test,y_eng_train,y_eng_test,y_gb_train,y_gb_test,y_uph_train,y_uph_test,y_col_train,y_col_test,y_opt_train,y_opt_test\n",
    "print(df.shape)\n",
    "X_train,X_test, y_typecode_train,y_typecode_test,y_sv_train,y_sv_test,y_eng_train,y_eng_test,y_gb_train,y_gb_test,y_uph_train,y_uph_test,y_col_train,y_col_test,y_opt_train,y_opt_test= create_train_test_split(df,test_size=0.2)\n",
    "X_train,X_dev, y_typecode_train,y_typecode_dev,y_sv_train,y_sv_dev,y_eng_train,y_eng_dev,y_gb_train,y_gb_dev,y_uph_dev,y_uph_dev,y_col_train,y_col_dev,y_opt_train,y_opt_dev= create_train_test_split(X_train,test_size=0.2)\n",
    "\n",
    "X_train['TYPECODE_translated'].value_counts()\n",
    "print(X_train.shape)\n",
    "#X_train, y_train = merged[user_columns], mlb.transform(df_train['TYPED_CAR'])"
   ]
  },
  {
   "cell_type": "code",
   "execution_count": 53,
   "metadata": {},
   "outputs": [],
   "source": [
    "X_train.to_pickle('train.pickle')"
   ]
  },
  {
   "cell_type": "code",
   "execution_count": 52,
   "metadata": {},
   "outputs": [],
   "source": [
    "from imblearn.over_sampling import RandomOverSampler\n",
    "ros = RandomOverSampler()\n",
    "for key in stats.mappings.keys():\n",
    "    if 'OPT' in key:\n",
    "        continue\n",
    "    X_res, y_res = ros.fit_resample(X_train, X_train[f'{key}_translated'])\n",
    "    resampled = pd.DataFrame(X_res,columns=X_train.columns)\n",
    "    #print(key,  resampled[f'{key}_translated'].value_counts())\n",
    "    #print('file',f'{key}_train.pickle')\n",
    "    resampled.to_pickle(f'{key}_train.pickle')\n"
   ]
  },
  {
   "cell_type": "code",
   "execution_count": 50,
   "metadata": {},
   "outputs": [],
   "source": [
    "dev = X_dev.to_pickle('dev.pickle')\n",
    "test = X_test.to_pickle('test.pickle')"
   ]
  }
 ],
 "metadata": {
  "kernelspec": {
   "display_name": "Python 3",
   "language": "python",
   "name": "python3"
  },
  "language_info": {
   "codemirror_mode": {
    "name": "ipython",
    "version": 3
   },
   "file_extension": ".py",
   "mimetype": "text/x-python",
   "name": "python",
   "nbconvert_exporter": "python",
   "pygments_lexer": "ipython3",
   "version": "3.6.8"
  }
 },
 "nbformat": 4,
 "nbformat_minor": 2
}
